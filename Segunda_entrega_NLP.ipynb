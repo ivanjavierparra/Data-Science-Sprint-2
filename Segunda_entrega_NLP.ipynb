{
  "cells": [
    {
      "cell_type": "markdown",
      "metadata": {
        "id": "pljdz--nPEEX"
      },
      "source": [
        "# Segunda entrega\n",
        "\n",
        "En esta segunda entrega vamos a hacer un análisis de reviews en Yelp.\n",
        "\n",
        "Dado el siguiente dataset https://drive.google.com/file/d/1sVeJE4zd1fmLnOgYI5QlQeaeaTGa8kIE/view?usp=sharing:"
      ]
    },
    {
      "cell_type": "code",
      "execution_count": 7,
      "metadata": {
        "colab": {
          "base_uri": "https://localhost:8080/"
        },
        "id": "Gc4ydJnCaf8g",
        "outputId": "854d8e8f-cbff-4701-9367-eaa85d0899e5"
      },
      "outputs": [],
      "source": [
        "#para descargarlo desde colab\n",
        "#!wget --no-check-certificate 'https://docs.google.com/uc?export=download&id=1sVeJE4zd1fmLnOgYI5QlQeaeaTGa8kIE' -O reviews.csv"
      ]
    },
    {
      "cell_type": "code",
      "execution_count": 11,
      "metadata": {},
      "outputs": [],
      "source": [
        "import pandas as pd\n",
        "import seaborn as sns\n",
        "import matplotlib.pylab as plt\n",
        "import numpy as np\n",
        "#from sklearn.model_selection import GridSearchCV\n",
        "#from sklearn.metrics import plot_confusion_matrix\n",
        "#from sklearn.metrics import classification_report\n",
        "#from sklearn.metrics import accuracy_score\n",
        "import spacy\n",
        "#import os\n",
        "#from sklearn.feature_extraction.text import CountVectorizer\n",
        "#from sklearn.feature_extraction.text import TfidfVectorizer"
      ]
    },
    {
      "cell_type": "code",
      "execution_count": 55,
      "metadata": {},
      "outputs": [
        {
          "data": {
            "text/html": [
              "<div>\n",
              "<style scoped>\n",
              "    .dataframe tbody tr th:only-of-type {\n",
              "        vertical-align: middle;\n",
              "    }\n",
              "\n",
              "    .dataframe tbody tr th {\n",
              "        vertical-align: top;\n",
              "    }\n",
              "\n",
              "    .dataframe thead th {\n",
              "        text-align: right;\n",
              "    }\n",
              "</style>\n",
              "<table border=\"1\" class=\"dataframe\">\n",
              "  <thead>\n",
              "    <tr style=\"text-align: right;\">\n",
              "      <th></th>\n",
              "      <th>user_id</th>\n",
              "      <th>review_id</th>\n",
              "      <th>text</th>\n",
              "      <th>votes.cool</th>\n",
              "      <th>business_id</th>\n",
              "      <th>votes.funny</th>\n",
              "      <th>stars</th>\n",
              "      <th>date</th>\n",
              "      <th>type</th>\n",
              "      <th>votes.useful</th>\n",
              "    </tr>\n",
              "  </thead>\n",
              "  <tbody>\n",
              "    <tr>\n",
              "      <th>0</th>\n",
              "      <td>PUFPaY9KxDAcGqfsorJp3Q</td>\n",
              "      <td>Ya85v4eqdd6k9Od8HbQjyA</td>\n",
              "      <td>Mr Hoagie is an institution. Walking in, it does seem like a throwback to 30 years ago, old fashioned menu board, booths out of the 70s, and a large selection of food. Their speciality is the Italian Hoagie, and it is voted the best in the area year after year. I usually order the burger, while the patties are obviously cooked from frozen, all of the other ingredients are very fresh. Overall, its a good alternative to Subway, which is down the road.</td>\n",
              "      <td>0</td>\n",
              "      <td>5UmKMjUEUNdYWqANhGckJw</td>\n",
              "      <td>0</td>\n",
              "      <td>4</td>\n",
              "      <td>2012-08-01</td>\n",
              "      <td>review</td>\n",
              "      <td>0</td>\n",
              "    </tr>\n",
              "    <tr>\n",
              "      <th>1</th>\n",
              "      <td>Iu6AxdBYGR4A0wspR9BYHA</td>\n",
              "      <td>KPvLNJ21_4wbYNctrOwWdQ</td>\n",
              "      <td>Excellent food. Superb customer service. I miss the mario machines they used to have, but it's still a great place steeped in tradition.</td>\n",
              "      <td>0</td>\n",
              "      <td>5UmKMjUEUNdYWqANhGckJw</td>\n",
              "      <td>0</td>\n",
              "      <td>5</td>\n",
              "      <td>2014-02-13</td>\n",
              "      <td>review</td>\n",
              "      <td>0</td>\n",
              "    </tr>\n",
              "    <tr>\n",
              "      <th>2</th>\n",
              "      <td>auESFwWvW42h6alXgFxAXQ</td>\n",
              "      <td>fFSoGV46Yxuwbr3fHNuZig</td>\n",
              "      <td>Yes this place is a little out dated and not opened on the weekend. But other than that the staff is always pleasant and fast to make your order. Which is always spot on fresh veggies on their hoggies and other food. They also have daily specials and ice cream which is really good. I had a banana split they piled the toppings on. They win pennysaver awards ever years i see why.</td>\n",
              "      <td>0</td>\n",
              "      <td>5UmKMjUEUNdYWqANhGckJw</td>\n",
              "      <td>0</td>\n",
              "      <td>5</td>\n",
              "      <td>2015-10-31</td>\n",
              "      <td>review</td>\n",
              "      <td>0</td>\n",
              "    </tr>\n",
              "    <tr>\n",
              "      <th>3</th>\n",
              "      <td>uK8tzraOp4M5u3uYrqIBXg</td>\n",
              "      <td>Di3exaUCFNw1V4kSNW5pgA</td>\n",
              "      <td>All the food is great here. But the best thing they have is their wings. Their wings are simply fantastic!!  The \"Wet Cajun\" are by the best &amp; most popular.  I also like the seasoned salt wings.  Wing Night is Monday &amp; Wednesday night, $0.75 whole wings!\\n\\nThe dining area is nice. Very family friendly! The bar is very nice is well.  This place is truly a Yinzer's dream!!  \"Pittsburgh Dad\" would love this place n'at!!</td>\n",
              "      <td>0</td>\n",
              "      <td>UsFtqoBl7naz8AVUBZMjQQ</td>\n",
              "      <td>0</td>\n",
              "      <td>5</td>\n",
              "      <td>2013-11-08</td>\n",
              "      <td>review</td>\n",
              "      <td>0</td>\n",
              "    </tr>\n",
              "    <tr>\n",
              "      <th>4</th>\n",
              "      <td>I_47G-R2_egp7ME5u_ltew</td>\n",
              "      <td>0Lua2-PbqEQMjD9r89-asw</td>\n",
              "      <td>We checked this place out this past Monday for their wing night. We have heard that their wings are great and decided it was finally time to check it out. Their wings are whole wings and crispy, which is a nice change of pace. I got their wet Cajun sauce and garlic butter wings. The Cajun did not have a bold enough flavor for me and their sauce is too thin. The sauce was also thin for the garlic butter, but that is more expected. They were better than average, but I don't like seeing all the sauce resting at the bottom of the boat. I would definitely come try this place out again to sample some of the other items on the menu, but this will probably not become a regular stop for wings anytime soon.</td>\n",
              "      <td>0</td>\n",
              "      <td>UsFtqoBl7naz8AVUBZMjQQ</td>\n",
              "      <td>0</td>\n",
              "      <td>3</td>\n",
              "      <td>2014-03-29</td>\n",
              "      <td>review</td>\n",
              "      <td>0</td>\n",
              "    </tr>\n",
              "  </tbody>\n",
              "</table>\n",
              "</div>"
            ],
            "text/plain": [
              "                  user_id               review_id  \\\n",
              "0  PUFPaY9KxDAcGqfsorJp3Q  Ya85v4eqdd6k9Od8HbQjyA   \n",
              "1  Iu6AxdBYGR4A0wspR9BYHA  KPvLNJ21_4wbYNctrOwWdQ   \n",
              "2  auESFwWvW42h6alXgFxAXQ  fFSoGV46Yxuwbr3fHNuZig   \n",
              "3  uK8tzraOp4M5u3uYrqIBXg  Di3exaUCFNw1V4kSNW5pgA   \n",
              "4  I_47G-R2_egp7ME5u_ltew  0Lua2-PbqEQMjD9r89-asw   \n",
              "\n",
              "                                                                                                                                                                                                                                                                                                                                                                                                                                                                                                                                                                                                                                                                                                                                 text  \\\n",
              "0                                                                                                                                                                                                                                                               Mr Hoagie is an institution. Walking in, it does seem like a throwback to 30 years ago, old fashioned menu board, booths out of the 70s, and a large selection of food. Their speciality is the Italian Hoagie, and it is voted the best in the area year after year. I usually order the burger, while the patties are obviously cooked from frozen, all of the other ingredients are very fresh. Overall, its a good alternative to Subway, which is down the road.   \n",
              "1                                                                                                                                                                                                                                                                                                                                                                                                                                                                                                                                                                                            Excellent food. Superb customer service. I miss the mario machines they used to have, but it's still a great place steeped in tradition.   \n",
              "2                                                                                                                                                                                                                                                                                                                                        Yes this place is a little out dated and not opened on the weekend. But other than that the staff is always pleasant and fast to make your order. Which is always spot on fresh veggies on their hoggies and other food. They also have daily specials and ice cream which is really good. I had a banana split they piled the toppings on. They win pennysaver awards ever years i see why.   \n",
              "3                                                                                                                                                                                                                                                                                               All the food is great here. But the best thing they have is their wings. Their wings are simply fantastic!!  The \"Wet Cajun\" are by the best & most popular.  I also like the seasoned salt wings.  Wing Night is Monday & Wednesday night, $0.75 whole wings!\\n\\nThe dining area is nice. Very family friendly! The bar is very nice is well.  This place is truly a Yinzer's dream!!  \"Pittsburgh Dad\" would love this place n'at!!   \n",
              "4  We checked this place out this past Monday for their wing night. We have heard that their wings are great and decided it was finally time to check it out. Their wings are whole wings and crispy, which is a nice change of pace. I got their wet Cajun sauce and garlic butter wings. The Cajun did not have a bold enough flavor for me and their sauce is too thin. The sauce was also thin for the garlic butter, but that is more expected. They were better than average, but I don't like seeing all the sauce resting at the bottom of the boat. I would definitely come try this place out again to sample some of the other items on the menu, but this will probably not become a regular stop for wings anytime soon.   \n",
              "\n",
              "   votes.cool             business_id  votes.funny  stars        date    type  \\\n",
              "0           0  5UmKMjUEUNdYWqANhGckJw            0      4  2012-08-01  review   \n",
              "1           0  5UmKMjUEUNdYWqANhGckJw            0      5  2014-02-13  review   \n",
              "2           0  5UmKMjUEUNdYWqANhGckJw            0      5  2015-10-31  review   \n",
              "3           0  UsFtqoBl7naz8AVUBZMjQQ            0      5  2013-11-08  review   \n",
              "4           0  UsFtqoBl7naz8AVUBZMjQQ            0      3  2014-03-29  review   \n",
              "\n",
              "   votes.useful  \n",
              "0             0  \n",
              "1             0  \n",
              "2             0  \n",
              "3             0  \n",
              "4             0  "
            ]
          },
          "execution_count": 55,
          "metadata": {},
          "output_type": "execute_result"
        }
      ],
      "source": [
        "# df = pd.read_csv('https://docs.google.com/uc?export=download&id=1sVeJE4zd1fmLnOgYI5QlQeaeaTGa8kIE')\n",
        "df = pd.read_csv('CSV/reviews.csv')\n",
        "df.head()"
      ]
    },
    {
      "cell_type": "markdown",
      "metadata": {
        "id": "WqIrKZKUPb9u"
      },
      "source": [
        "Deberán hacer un análisis de las reviews.\n",
        "\n",
        "El análisis no tiene limites y pueden agregar todas las ideas que les surjan, pero como mínimo debe incluir: keywords y tópicos por negocio (business id), sentimiento de cada review, entidades por review, negocio con más comentarios positivos y negocio con más comentarios negativos.\n",
        "\n",
        "Además, pueden agregar por ejemplo (Opcional): Tópicos asociados sentimientos, keywords asociadas a sentimientos, sentimientos a lo largo del tiempo (utilizando la columna date)...\n",
        "\n",
        "### Entrega\n",
        "\n",
        "**Fecha limite**: 26 de Diciembre. \n",
        "\n",
        "Deben compartir el notebook con todo el análisis realizado por mail a alexispacek@gmail.com.\n",
        "\n",
        "\n",
        "### Presentación\n",
        "\n",
        "**Fecha**: 28 de Diciembre.\n",
        "\n",
        "La presentación NO debe ser una presentación del notebook. La presentación debe constar de filminas que muestren los **resultados** que obtuvieron, mencionar herramientas que utiliaron, que decisiones tomaron y conclusiones. No deben mostrar nada de código en la presentación.\n",
        "\n",
        "Una vez que ya hayan presentado (por ejemplo un powerpoint), podemos resolver las dudas que surjan sobre código, etc.\n",
        "\n"
      ]
    },
    {
      "cell_type": "markdown",
      "metadata": {},
      "source": [
        "# EDA"
      ]
    },
    {
      "cell_type": "markdown",
      "metadata": {},
      "source": [
        "Empezamos a conocer: cantidad de filas y columnas, tipos de variables, valores nulos, etc."
      ]
    },
    {
      "cell_type": "code",
      "execution_count": 4,
      "metadata": {},
      "outputs": [
        {
          "data": {
            "text/plain": [
              "(27290, 10)"
            ]
          },
          "execution_count": 4,
          "metadata": {},
          "output_type": "execute_result"
        }
      ],
      "source": [
        "df.shape"
      ]
    },
    {
      "cell_type": "code",
      "execution_count": 5,
      "metadata": {},
      "outputs": [
        {
          "name": "stdout",
          "output_type": "stream",
          "text": [
            "<class 'pandas.core.frame.DataFrame'>\n",
            "RangeIndex: 27290 entries, 0 to 27289\n",
            "Data columns (total 10 columns):\n",
            " #   Column        Non-Null Count  Dtype \n",
            "---  ------        --------------  ----- \n",
            " 0   user_id       27290 non-null  object\n",
            " 1   review_id     27290 non-null  object\n",
            " 2   text          27290 non-null  object\n",
            " 3   votes.cool    27290 non-null  int64 \n",
            " 4   business_id   27290 non-null  object\n",
            " 5   votes.funny   27290 non-null  int64 \n",
            " 6   stars         27290 non-null  int64 \n",
            " 7   date          27290 non-null  object\n",
            " 8   type          27290 non-null  object\n",
            " 9   votes.useful  27290 non-null  int64 \n",
            "dtypes: int64(4), object(6)\n",
            "memory usage: 2.1+ MB\n"
          ]
        }
      ],
      "source": [
        "df.info()"
      ]
    },
    {
      "cell_type": "code",
      "execution_count": 74,
      "metadata": {},
      "outputs": [
        {
          "data": {
            "text/plain": [
              "user_id         0\n",
              "review_id       0\n",
              "text            0\n",
              "votes.cool      0\n",
              "business_id     0\n",
              "votes.funny     0\n",
              "stars           0\n",
              "date            0\n",
              "type            0\n",
              "votes.useful    0\n",
              "dtype: int64"
            ]
          },
          "execution_count": 74,
          "metadata": {},
          "output_type": "execute_result"
        }
      ],
      "source": [
        "df.isna().sum()"
      ]
    },
    {
      "cell_type": "code",
      "execution_count": 59,
      "metadata": {},
      "outputs": [
        {
          "data": {
            "text/plain": [
              "1320"
            ]
          },
          "execution_count": 59,
          "metadata": {},
          "output_type": "execute_result"
        }
      ],
      "source": [
        "df['business_id'].nunique()"
      ]
    },
    {
      "cell_type": "code",
      "execution_count": 52,
      "metadata": {},
      "outputs": [
        {
          "data": {
            "text/plain": [
              "5"
            ]
          },
          "execution_count": 52,
          "metadata": {},
          "output_type": "execute_result"
        }
      ],
      "source": [
        "df['stars'].nunique()"
      ]
    },
    {
      "cell_type": "code",
      "execution_count": 51,
      "metadata": {},
      "outputs": [
        {
          "data": {
            "text/plain": [
              "27"
            ]
          },
          "execution_count": 51,
          "metadata": {},
          "output_type": "execute_result"
        }
      ],
      "source": [
        "df['votes.funny'].nunique()"
      ]
    },
    {
      "cell_type": "code",
      "execution_count": 70,
      "metadata": {},
      "outputs": [
        {
          "data": {
            "text/plain": [
              "28"
            ]
          },
          "execution_count": 70,
          "metadata": {},
          "output_type": "execute_result"
        }
      ],
      "source": [
        "df['votes.useful'].nunique()"
      ]
    },
    {
      "cell_type": "code",
      "execution_count": 53,
      "metadata": {},
      "outputs": [
        {
          "data": {
            "text/plain": [
              "1"
            ]
          },
          "execution_count": 53,
          "metadata": {},
          "output_type": "execute_result"
        }
      ],
      "source": [
        "df['type'].nunique()"
      ]
    },
    {
      "cell_type": "markdown",
      "metadata": {},
      "source": [
        "Visualizamos distribución de algunos features"
      ]
    },
    {
      "cell_type": "code",
      "execution_count": 67,
      "metadata": {},
      "outputs": [],
      "source": [
        "def graficar_countplot(df, features):\n",
        "    ncount=len(df)    \n",
        "\n",
        "    for i, feature in enumerate(features):\n",
        "\n",
        "        plt.figure(figsize=(20,4))\n",
        "        \n",
        "        ax = sns.countplot(x=df[feature], order=df[feature].value_counts().iloc[:10].index)\n",
        "        ax.set_title(f'Countplot {feature}',fontdict={'fontsize': 12,'fontweight':'bold'})\n",
        "        ax.tick_params(axis='x', rotation=45)\n",
        "        \n",
        "        \n",
        "        for p in ax.patches:\n",
        "            x=p.get_bbox().get_points()[:,0]\n",
        "            y=p.get_bbox().get_points()[1,1]\n",
        "            ax.annotate('   {:.2f}% '.format(100.*y/ncount), (x.mean(), y), \n",
        "                ha='center', va='bottom',rotation=45)\n",
        "        \n",
        "        plt.xticks(rotation=90)\n",
        "        plt.show()"
      ]
    },
    {
      "cell_type": "code",
      "execution_count": 68,
      "metadata": {},
      "outputs": [
        {
          "data": {
            "image/png": "[encoded data removed]",
            "text/plain": [
              "<Figure size 1440x288 with 1 Axes>"
            ]
          },
          "metadata": {
            "needs_background": "light"
          },
          "output_type": "display_data"
        },
        {
          "data": {
            "image/png": "[encoded data removed]",
            "text/plain": [
              "<Figure size 1440x288 with 1 Axes>"
            ]
          },
          "metadata": {
            "needs_background": "light"
          },
          "output_type": "display_data"
        }
      ],
      "source": [
        "features = ['stars','business_id', '']\n",
        "\n",
        "graficar_countplot(df, features)"
      ]
    },
    {
      "cell_type": "markdown",
      "metadata": {},
      "source": [
        "# Preprocesamiento"
      ]
    },
    {
      "cell_type": "markdown",
      "metadata": {},
      "source": [
        "Vamos a trabajar con la librería Spacy para limpiar los textos de signos de puntuación y caracteres especiales."
      ]
    },
    {
      "cell_type": "code",
      "execution_count": 71,
      "metadata": {},
      "outputs": [],
      "source": [
        "#Instancio nlp\n",
        "nlp = spacy.load(\"en_core_web_sm\")"
      ]
    },
    {
      "cell_type": "code",
      "execution_count": 81,
      "metadata": {},
      "outputs": [],
      "source": [
        "def clean_text(text):\n",
        "  clean_text = []\n",
        "  for token in nlp(text):\n",
        "    if (\n",
        "        not token.is_stop\n",
        "        and not token.is_punct\n",
        "        \n",
        "    ):\n",
        "        clean_text.append(token.lemma_.lower())\n",
        "\n",
        "  return \" \".join(clean_text)"
      ]
    },
    {
      "cell_type": "code",
      "execution_count": 82,
      "metadata": {},
      "outputs": [],
      "source": [
        "# Tarda 10 minutos\n",
        "df['text_clean']=df['text'].astype(str).apply(clean_text)"
      ]
    },
    {
      "cell_type": "markdown",
      "metadata": {},
      "source": [
        "Visualizamos con una wordcloud la frecuencia de palabras en las reviews."
      ]
    },
    {
      "cell_type": "code",
      "execution_count": 20,
      "metadata": {},
      "outputs": [],
      "source": [
        "from wordcloud import WordCloud, STOPWORDS\n",
        "from scipy import stats\n",
        "\n",
        "%matplotlib inline\n",
        "def cloud(data,backgroundcolor = 'black', width = 800, height = 600):\n",
        "    wordcloud = WordCloud(stopwords = STOPWORDS, background_color = backgroundcolor,\n",
        "                         width = width, height = height).generate(data)\n",
        "    plt.figure(figsize = (15, 10))\n",
        "    plt.imshow(wordcloud)\n",
        "    plt.axis(\"off\")\n",
        "    plt.show()"
      ]
    },
    {
      "cell_type": "code",
      "execution_count": 23,
      "metadata": {},
      "outputs": [
        {
          "data": {
            "image/png": "[encoded data removed]",
            "text/plain": [
              "<Figure size 1080x720 with 1 Axes>"
            ]
          },
          "metadata": {
            "needs_background": "light"
          },
          "output_type": "display_data"
        }
      ],
      "source": [
        "cloud(' '.join(df['text_clean']))"
      ]
    },
    {
      "cell_type": "markdown",
      "metadata": {},
      "source": [
        "Agregamos stop words????"
      ]
    },
    {
      "cell_type": "code",
      "execution_count": null,
      "metadata": {},
      "outputs": [],
      "source": [
        "# nlp.Defaults.stop_words.add(\"test\")"
      ]
    },
    {
      "cell_type": "markdown",
      "metadata": {},
      "source": [
        "✅ Visualizamos la frecuencia de palabras y las clases del target."
      ]
    },
    {
      "cell_type": "code",
      "execution_count": 32,
      "metadata": {},
      "outputs": [],
      "source": [
        "import plotly.express as px"
      ]
    },
    {
      "cell_type": "code",
      "execution_count": 33,
      "metadata": {},
      "outputs": [
        {
          "name": "stderr",
          "output_type": "stream",
          "text": [
            "c:\\Users\\Asus\\anaconda3\\lib\\site-packages\\plotly\\express\\_core.py:1637: FutureWarning: The frame.append method is deprecated and will be removed from pandas in a future version. Use pandas.concat instead.\n",
            "  df_all_trees = df_all_trees.append(df_tree, ignore_index=True)\n"
          ]
        },
        {
          "data": {
            "application/vnd.plotly.v1+json": {
              "config": {
                "plotlyServerURL": "https://plot.ly"
              },
              "data": [
                {
                  "branchvalues": "total",
                  "domain": {
                    "x": [
                      0,
                      1
                    ],
                    "y": [
                      0,
                      1
                    ]
                  },
                  "hovertemplate": "labels=%{label}<br>0=%{value}<br>parent=%{parent}<br>id=%{id}<extra></extra>",
                  "ids": [
                    "$",
                    "10",
                    "2",
                    "3",
                    "4",
                    "5",
                    "actually",
                    "airport",
                    "amazing",
                    "area",
                    "ask",
                    "asked",
                    "atmosphere",
                    "away",
                    "awesome",
                    "bad",
                    "bar",
                    "beer",
                    "best",
                    "better",
                    "big",
                    "bit",
                    "bread",
                    "breakfast",
                    "burger",
                    "business",
                    "busy",
                    "called",
                    "came",
                    "car",
                    "charlotte",
                    "check",
                    "cheese",
                    "chicken",
                    "clean",
                    "coffee",
                    "come",
                    "cooked",
                    "couple",
                    "cream",
                    "customer",
                    "day",
                    "decent",
                    "decided",
                    "definitely",
                    "delicious",
                    "different",
                    "dinner",
                    "dish",
                    "drink",
                    "drinks",
                    "eat",
                    "end",
                    "enjoy",
                    "enjoyed",
                    "excellent",
                    "experience",
                    "family",
                    "far",
                    "fast",
                    "favorite",
                    "feel",
                    "find",
                    "fish",
                    "flavor",
                    "food",
                    "found",
                    "free",
                    "fresh",
                    "fried",
                    "friend",
                    "friendly",
                    "friends",
                    "fries",
                    "fun",
                    "getting",
                    "going",
                    "good",
                    "got",
                    "great",
                    "half",
                    "happy",
                    "having",
                    "high",
                    "home",
                    "hot",
                    "hotel",
                    "hour",
                    "hours",
                    "house",
                    "huge",
                    "inside",
                    "italian",
                    "items",
                    "kind",
                    "know",
                    "large",
                    "left",
                    "let",
                    "like",
                    "line",
                    "little",
                    "location",
                    "long",
                    "look",
                    "looking",
                    "lot",
                    "love",
                    "lunch",
                    "maybe",
                    "meal",
                    "meat",
                    "menu",
                    "minutes",
                    "need",
                    "new",
                    "nice",
                    "night",
                    "ok",
                    "old",
                    "open",
                    "options",
                    "order",
                    "ordered",
                    "outside",
                    "overall",
                    "park",
                    "parking",
                    "pasta",
                    "people",
                    "perfect",
                    "pittsburgh",
                    "pizza",
                    "place",
                    "places",
                    "pretty",
                    "price",
                    "prices",
                    "probably",
                    "quality",
                    "quick",
                    "recommend",
                    "restaurant",
                    "restaurants",
                    "review",
                    "right",
                    "room",
                    "said",
                    "salad",
                    "sandwich",
                    "sauce",
                    "selection",
                    "served",
                    "server",
                    "service",
                    "shop",
                    "shrimp",
                    "small",
                    "soup",
                    "special",
                    "spot",
                    "staff",
                    "stars",
                    "steak",
                    "stop",
                    "store",
                    "super",
                    "sure",
                    "sushi",
                    "sweet",
                    "table",
                    "taste",
                    "tasty",
                    "thing",
                    "things",
                    "think",
                    "thought",
                    "time",
                    "times",
                    "told",
                    "took",
                    "town",
                    "tried",
                    "try",
                    "use",
                    "usually",
                    "visit",
                    "wait",
                    "waitress",
                    "walk",
                    "want",
                    "wanted",
                    "way",
                    "week",
                    "went",
                    "wine",
                    "work",
                    "worth",
                    "year",
                    "years"
                  ],
                  "labels": [
                    "$",
                    "10",
                    "2",
                    "3",
                    "4",
                    "5",
                    "actually",
                    "airport",
                    "amazing",
                    "area",
                    "ask",
                    "asked",
                    "atmosphere",
                    "away",
                    "awesome",
                    "bad",
                    "bar",
                    "beer",
                    "best",
                    "better",
                    "big",
                    "bit",
                    "bread",
                    "breakfast",
                    "burger",
                    "business",
                    "busy",
                    "called",
                    "came",
                    "car",
                    "charlotte",
                    "check",
                    "cheese",
                    "chicken",
                    "clean",
                    "coffee",
                    "come",
                    "cooked",
                    "couple",
                    "cream",
                    "customer",
                    "day",
                    "decent",
                    "decided",
                    "definitely",
                    "delicious",
                    "different",
                    "dinner",
                    "dish",
                    "drink",
                    "drinks",
                    "eat",
                    "end",
                    "enjoy",
                    "enjoyed",
                    "excellent",
                    "experience",
                    "family",
                    "far",
                    "fast",
                    "favorite",
                    "feel",
                    "find",
                    "fish",
                    "flavor",
                    "food",
                    "found",
                    "free",
                    "fresh",
                    "fried",
                    "friend",
                    "friendly",
                    "friends",
                    "fries",
                    "fun",
                    "getting",
                    "going",
                    "good",
                    "got",
                    "great",
                    "half",
                    "happy",
                    "having",
                    "high",
                    "home",
                    "hot",
                    "hotel",
                    "hour",
                    "hours",
                    "house",
                    "huge",
                    "inside",
                    "italian",
                    "items",
                    "kind",
                    "know",
                    "large",
                    "left",
                    "let",
                    "like",
                    "line",
                    "little",
                    "location",
                    "long",
                    "look",
                    "looking",
                    "lot",
                    "love",
                    "lunch",
                    "maybe",
                    "meal",
                    "meat",
                    "menu",
                    "minutes",
                    "need",
                    "new",
                    "nice",
                    "night",
                    "ok",
                    "old",
                    "open",
                    "options",
                    "order",
                    "ordered",
                    "outside",
                    "overall",
                    "park",
                    "parking",
                    "pasta",
                    "people",
                    "perfect",
                    "pittsburgh",
                    "pizza",
                    "place",
                    "places",
                    "pretty",
                    "price",
                    "prices",
                    "probably",
                    "quality",
                    "quick",
                    "recommend",
                    "restaurant",
                    "restaurants",
                    "review",
                    "right",
                    "room",
                    "said",
                    "salad",
                    "sandwich",
                    "sauce",
                    "selection",
                    "served",
                    "server",
                    "service",
                    "shop",
                    "shrimp",
                    "small",
                    "soup",
                    "special",
                    "spot",
                    "staff",
                    "stars",
                    "steak",
                    "stop",
                    "store",
                    "super",
                    "sure",
                    "sushi",
                    "sweet",
                    "table",
                    "taste",
                    "tasty",
                    "thing",
                    "things",
                    "think",
                    "thought",
                    "time",
                    "times",
                    "told",
                    "took",
                    "town",
                    "tried",
                    "try",
                    "use",
                    "usually",
                    "visit",
                    "wait",
                    "waitress",
                    "walk",
                    "want",
                    "wanted",
                    "way",
                    "week",
                    "went",
                    "wine",
                    "work",
                    "worth",
                    "year",
                    "years"
                  ],
                  "name": "",
                  "parents": [
                    "",
                    "",
                    "",
                    "",
                    "",
                    "",
                    "",
                    "",
                    "",
                    "",
                    "",
                    "",
                    "",
                    "",
                    "",
                    "",
                    "",
                    "",
                    "",
                    "",
                    "",
                    "",
                    "",
                    "",
                    "",
                    "",
                    "",
                    "",
                    "",
                    "",
                    "",
                    "",
                    "",
                    "",
                    "",
                    "",
                    "",
                    "",
                    "",
                    "",
                    "",
                    "",
                    "",
                    "",
                    "",
                    "",
                    "",
                    "",
                    "",
                    "",
                    "",
                    "",
                    "",
                    "",
                    "",
                    "",
                    "",
                    "",
                    "",
                    "",
                    "",
                    "",
                    "",
                    "",
                    "",
                    "",
                    "",
                    "",
                    "",
                    "",
                    "",
                    "",
                    "",
                    "",
                    "",
                    "",
                    "",
                    "",
                    "",
                    "",
                    "",
                    "",
                    "",
                    "",
                    "",
                    "",
                    "",
                    "",
                    "",
                    "",
                    "",
                    "",
                    "",
                    "",
                    "",
                    "",
                    "",
                    "",
                    "",
                    "",
                    "",
                    "",
                    "",
                    "",
                    "",
                    "",
                    "",
                    "",
                    "",
                    "",
                    "",
                    "",
                    "",
                    "",
                    "",
                    "",
                    "",
                    "",
                    "",
                    "",
                    "",
                    "",
                    "",
                    "",
                    "",
                    "",
                    "",
                    "",
                    "",
                    "",
                    "",
                    "",
                    "",
                    "",
                    "",
                    "",
                    "",
                    "",
                    "",
                    "",
                    "",
                    "",
                    "",
                    "",
                    "",
                    "",
                    "",
                    "",
                    "",
                    "",
                    "",
                    "",
                    "",
                    "",
                    "",
                    "",
                    "",
                    "",
                    "",
                    "",
                    "",
                    "",
                    "",
                    "",
                    "",
                    "",
                    "",
                    "",
                    "",
                    "",
                    "",
                    "",
                    "",
                    "",
                    "",
                    "",
                    "",
                    "",
                    "",
                    "",
                    "",
                    "",
                    "",
                    "",
                    "",
                    "",
                    "",
                    "",
                    "",
                    "",
                    "",
                    "",
                    "",
                    "",
                    "",
                    "",
                    "",
                    "",
                    "",
                    ""
                  ],
                  "textinfo": "label+value",
                  "type": "treemap",
                  "values": [
                    5595,
                    1603,
                    2520,
                    2181,
                    1651,
                    2102,
                    1746,
                    1987,
                    2396,
                    2937,
                    1316,
                    1998,
                    1840,
                    1676,
                    1906,
                    2751,
                    4239,
                    2581,
                    5368,
                    3551,
                    2189,
                    2654,
                    2047,
                    1670,
                    1334,
                    1470,
                    1343,
                    1313,
                    3546,
                    1921,
                    3110,
                    1848,
                    3720,
                    3960,
                    1788,
                    1964,
                    3197,
                    1325,
                    1238,
                    1248,
                    1417,
                    3302,
                    1499,
                    1292,
                    3381,
                    3381,
                    1794,
                    2702,
                    1447,
                    1674,
                    1900,
                    2827,
                    1279,
                    1307,
                    1226,
                    1919,
                    3466,
                    1440,
                    1304,
                    1207,
                    2124,
                    2046,
                    2943,
                    1298,
                    1339,
                    14849,
                    1698,
                    1868,
                    2493,
                    1768,
                    1502,
                    3884,
                    1541,
                    1888,
                    1352,
                    1473,
                    3572,
                    15484,
                    5152,
                    11976,
                    1426,
                    1576,
                    1358,
                    1331,
                    2379,
                    2133,
                    1733,
                    1533,
                    1228,
                    1344,
                    1676,
                    1364,
                    1526,
                    1344,
                    1633,
                    3642,
                    1731,
                    1544,
                    1540,
                    11033,
                    1282,
                    4819,
                    2350,
                    2273,
                    1668,
                    2142,
                    2866,
                    4358,
                    2938,
                    1499,
                    2776,
                    1516,
                    3641,
                    2492,
                    2201,
                    2664,
                    5952,
                    3602,
                    1594,
                    1936,
                    1309,
                    1250,
                    3889,
                    4268,
                    1360,
                    1584,
                    1230,
                    2052,
                    1270,
                    4486,
                    1514,
                    3609,
                    3454,
                    14176,
                    1775,
                    4369,
                    2293,
                    2087,
                    1671,
                    1690,
                    1282,
                    2190,
                    4540,
                    1356,
                    1382,
                    3161,
                    3002,
                    2902,
                    2718,
                    2031,
                    2917,
                    2286,
                    1380,
                    1533,
                    8753,
                    1342,
                    1337,
                    2551,
                    1266,
                    1846,
                    1272,
                    4340,
                    1836,
                    1271,
                    1467,
                    2305,
                    1524,
                    2750,
                    1406,
                    1571,
                    2572,
                    1547,
                    1495,
                    2176,
                    2059,
                    3258,
                    1470,
                    9226,
                    2583,
                    2117,
                    2406,
                    1296,
                    1693,
                    3465,
                    1230,
                    1610,
                    1868,
                    2783,
                    1487,
                    1333,
                    3070,
                    1830,
                    3482,
                    1391,
                    3999,
                    1430,
                    2298,
                    1883,
                    1232,
                    2308
                  ]
                }
              ],
              "layout": {
                "legend": {
                  "tracegroupgap": 0
                },
                "margin": {
                  "t": 60
                },
                "template": {
                  "data": {
                    "bar": [
                      {
                        "error_x": {
                          "color": "#2a3f5f"
                        },
                        "error_y": {
                          "color": "#2a3f5f"
                        },
                        "marker": {
                          "line": {
                            "color": "#E5ECF6",
                            "width": 0.5
                          },
                          "pattern": {
                            "fillmode": "overlay",
                            "size": 10,
                            "solidity": 0.2
                          }
                        },
                        "type": "bar"
                      }
                    ],
                    "barpolar": [
                      {
                        "marker": {
                          "line": {
                            "color": "#E5ECF6",
                            "width": 0.5
                          },
                          "pattern": {
                            "fillmode": "overlay",
                            "size": 10,
                            "solidity": 0.2
                          }
                        },
                        "type": "barpolar"
                      }
                    ],
                    "carpet": [
                      {
                        "aaxis": {
                          "endlinecolor": "#2a3f5f",
                          "gridcolor": "white",
                          "linecolor": "white",
                          "minorgridcolor": "white",
                          "startlinecolor": "#2a3f5f"
                        },
                        "baxis": {
                          "endlinecolor": "#2a3f5f",
                          "gridcolor": "white",
                          "linecolor": "white",
                          "minorgridcolor": "white",
                          "startlinecolor": "#2a3f5f"
                        },
                        "type": "carpet"
                      }
                    ],
                    "choropleth": [
                      {
                        "colorbar": {
                          "outlinewidth": 0,
                          "ticks": ""
                        },
                        "type": "choropleth"
                      }
                    ],
                    "contour": [
                      {
                        "colorbar": {
                          "outlinewidth": 0,
                          "ticks": ""
                        },
                        "colorscale": [
                          [
                            0,
                            "#0d0887"
                          ],
                          [
                            0.1111111111111111,
                            "#46039f"
                          ],
                          [
                            0.2222222222222222,
                            "#7201a8"
                          ],
                          [
                            0.3333333333333333,
                            "#9c179e"
                          ],
                          [
                            0.4444444444444444,
                            "#bd3786"
                          ],
                          [
                            0.5555555555555556,
                            "#d8576b"
                          ],
                          [
                            0.6666666666666666,
                            "#ed7953"
                          ],
                          [
                            0.7777777777777778,
                            "#fb9f3a"
                          ],
                          [
                            0.8888888888888888,
                            "#fdca26"
                          ],
                          [
                            1,
                            "#f0f921"
                          ]
                        ],
                        "type": "contour"
                      }
                    ],
                    "contourcarpet": [
                      {
                        "colorbar": {
                          "outlinewidth": 0,
                          "ticks": ""
                        },
                        "type": "contourcarpet"
                      }
                    ],
                    "heatmap": [
                      {
                        "colorbar": {
                          "outlinewidth": 0,
                          "ticks": ""
                        },
                        "colorscale": [
                          [
                            0,
                            "#0d0887"
                          ],
                          [
                            0.1111111111111111,
                            "#46039f"
                          ],
                          [
                            0.2222222222222222,
                            "#7201a8"
                          ],
                          [
                            0.3333333333333333,
                            "#9c179e"
                          ],
                          [
                            0.4444444444444444,
                            "#bd3786"
                          ],
                          [
                            0.5555555555555556,
                            "#d8576b"
                          ],
                          [
                            0.6666666666666666,
                            "#ed7953"
                          ],
                          [
                            0.7777777777777778,
                            "#fb9f3a"
                          ],
                          [
                            0.8888888888888888,
                            "#fdca26"
                          ],
                          [
                            1,
                            "#f0f921"
                          ]
                        ],
                        "type": "heatmap"
                      }
                    ],
                    "heatmapgl": [
                      {
                        "colorbar": {
                          "outlinewidth": 0,
                          "ticks": ""
                        },
                        "colorscale": [
                          [
                            0,
                            "#0d0887"
                          ],
                          [
                            0.1111111111111111,
                            "#46039f"
                          ],
                          [
                            0.2222222222222222,
                            "#7201a8"
                          ],
                          [
                            0.3333333333333333,
                            "#9c179e"
                          ],
                          [
                            0.4444444444444444,
                            "#bd3786"
                          ],
                          [
                            0.5555555555555556,
                            "#d8576b"
                          ],
                          [
                            0.6666666666666666,
                            "#ed7953"
                          ],
                          [
                            0.7777777777777778,
                            "#fb9f3a"
                          ],
                          [
                            0.8888888888888888,
                            "#fdca26"
                          ],
                          [
                            1,
                            "#f0f921"
                          ]
                        ],
                        "type": "heatmapgl"
                      }
                    ],
                    "histogram": [
                      {
                        "marker": {
                          "pattern": {
                            "fillmode": "overlay",
                            "size": 10,
                            "solidity": 0.2
                          }
                        },
                        "type": "histogram"
                      }
                    ],
                    "histogram2d": [
                      {
                        "colorbar": {
                          "outlinewidth": 0,
                          "ticks": ""
                        },
                        "colorscale": [
                          [
                            0,
                            "#0d0887"
                          ],
                          [
                            0.1111111111111111,
                            "#46039f"
                          ],
                          [
                            0.2222222222222222,
                            "#7201a8"
                          ],
                          [
                            0.3333333333333333,
                            "#9c179e"
                          ],
                          [
                            0.4444444444444444,
                            "#bd3786"
                          ],
                          [
                            0.5555555555555556,
                            "#d8576b"
                          ],
                          [
                            0.6666666666666666,
                            "#ed7953"
                          ],
                          [
                            0.7777777777777778,
                            "#fb9f3a"
                          ],
                          [
                            0.8888888888888888,
                            "#fdca26"
                          ],
                          [
                            1,
                            "#f0f921"
                          ]
                        ],
                        "type": "histogram2d"
                      }
                    ],
                    "histogram2dcontour": [
                      {
                        "colorbar": {
                          "outlinewidth": 0,
                          "ticks": ""
                        },
                        "colorscale": [
                          [
                            0,
                            "#0d0887"
                          ],
                          [
                            0.1111111111111111,
                            "#46039f"
                          ],
                          [
                            0.2222222222222222,
                            "#7201a8"
                          ],
                          [
                            0.3333333333333333,
                            "#9c179e"
                          ],
                          [
                            0.4444444444444444,
                            "#bd3786"
                          ],
                          [
                            0.5555555555555556,
                            "#d8576b"
                          ],
                          [
                            0.6666666666666666,
                            "#ed7953"
                          ],
                          [
                            0.7777777777777778,
                            "#fb9f3a"
                          ],
                          [
                            0.8888888888888888,
                            "#fdca26"
                          ],
                          [
                            1,
                            "#f0f921"
                          ]
                        ],
                        "type": "histogram2dcontour"
                      }
                    ],
                    "mesh3d": [
                      {
                        "colorbar": {
                          "outlinewidth": 0,
                          "ticks": ""
                        },
                        "type": "mesh3d"
                      }
                    ],
                    "parcoords": [
                      {
                        "line": {
                          "colorbar": {
                            "outlinewidth": 0,
                            "ticks": ""
                          }
                        },
                        "type": "parcoords"
                      }
                    ],
                    "pie": [
                      {
                        "automargin": true,
                        "type": "pie"
                      }
                    ],
                    "scatter": [
                      {
                        "marker": {
                          "colorbar": {
                            "outlinewidth": 0,
                            "ticks": ""
                          }
                        },
                        "type": "scatter"
                      }
                    ],
                    "scatter3d": [
                      {
                        "line": {
                          "colorbar": {
                            "outlinewidth": 0,
                            "ticks": ""
                          }
                        },
                        "marker": {
                          "colorbar": {
                            "outlinewidth": 0,
                            "ticks": ""
                          }
                        },
                        "type": "scatter3d"
                      }
                    ],
                    "scattercarpet": [
                      {
                        "marker": {
                          "colorbar": {
                            "outlinewidth": 0,
                            "ticks": ""
                          }
                        },
                        "type": "scattercarpet"
                      }
                    ],
                    "scattergeo": [
                      {
                        "marker": {
                          "colorbar": {
                            "outlinewidth": 0,
                            "ticks": ""
                          }
                        },
                        "type": "scattergeo"
                      }
                    ],
                    "scattergl": [
                      {
                        "marker": {
                          "colorbar": {
                            "outlinewidth": 0,
                            "ticks": ""
                          }
                        },
                        "type": "scattergl"
                      }
                    ],
                    "scattermapbox": [
                      {
                        "marker": {
                          "colorbar": {
                            "outlinewidth": 0,
                            "ticks": ""
                          }
                        },
                        "type": "scattermapbox"
                      }
                    ],
                    "scatterpolar": [
                      {
                        "marker": {
                          "colorbar": {
                            "outlinewidth": 0,
                            "ticks": ""
                          }
                        },
                        "type": "scatterpolar"
                      }
                    ],
                    "scatterpolargl": [
                      {
                        "marker": {
                          "colorbar": {
                            "outlinewidth": 0,
                            "ticks": ""
                          }
                        },
                        "type": "scatterpolargl"
                      }
                    ],
                    "scatterternary": [
                      {
                        "marker": {
                          "colorbar": {
                            "outlinewidth": 0,
                            "ticks": ""
                          }
                        },
                        "type": "scatterternary"
                      }
                    ],
                    "surface": [
                      {
                        "colorbar": {
                          "outlinewidth": 0,
                          "ticks": ""
                        },
                        "colorscale": [
                          [
                            0,
                            "#0d0887"
                          ],
                          [
                            0.1111111111111111,
                            "#46039f"
                          ],
                          [
                            0.2222222222222222,
                            "#7201a8"
                          ],
                          [
                            0.3333333333333333,
                            "#9c179e"
                          ],
                          [
                            0.4444444444444444,
                            "#bd3786"
                          ],
                          [
                            0.5555555555555556,
                            "#d8576b"
                          ],
                          [
                            0.6666666666666666,
                            "#ed7953"
                          ],
                          [
                            0.7777777777777778,
                            "#fb9f3a"
                          ],
                          [
                            0.8888888888888888,
                            "#fdca26"
                          ],
                          [
                            1,
                            "#f0f921"
                          ]
                        ],
                        "type": "surface"
                      }
                    ],
                    "table": [
                      {
                        "cells": {
                          "fill": {
                            "color": "#EBF0F8"
                          },
                          "line": {
                            "color": "white"
                          }
                        },
                        "header": {
                          "fill": {
                            "color": "#C8D4E3"
                          },
                          "line": {
                            "color": "white"
                          }
                        },
                        "type": "table"
                      }
                    ]
                  },
                  "layout": {
                    "annotationdefaults": {
                      "arrowcolor": "#2a3f5f",
                      "arrowhead": 0,
                      "arrowwidth": 1
                    },
                    "autotypenumbers": "strict",
                    "coloraxis": {
                      "colorbar": {
                        "outlinewidth": 0,
                        "ticks": ""
                      }
                    },
                    "colorscale": {
                      "diverging": [
                        [
                          0,
                          "#8e0152"
                        ],
                        [
                          0.1,
                          "#c51b7d"
                        ],
                        [
                          0.2,
                          "#de77ae"
                        ],
                        [
                          0.3,
                          "#f1b6da"
                        ],
                        [
                          0.4,
                          "#fde0ef"
                        ],
                        [
                          0.5,
                          "#f7f7f7"
                        ],
                        [
                          0.6,
                          "#e6f5d0"
                        ],
                        [
                          0.7,
                          "#b8e186"
                        ],
                        [
                          0.8,
                          "#7fbc41"
                        ],
                        [
                          0.9,
                          "#4d9221"
                        ],
                        [
                          1,
                          "#276419"
                        ]
                      ],
                      "sequential": [
                        [
                          0,
                          "#0d0887"
                        ],
                        [
                          0.1111111111111111,
                          "#46039f"
                        ],
                        [
                          0.2222222222222222,
                          "#7201a8"
                        ],
                        [
                          0.3333333333333333,
                          "#9c179e"
                        ],
                        [
                          0.4444444444444444,
                          "#bd3786"
                        ],
                        [
                          0.5555555555555556,
                          "#d8576b"
                        ],
                        [
                          0.6666666666666666,
                          "#ed7953"
                        ],
                        [
                          0.7777777777777778,
                          "#fb9f3a"
                        ],
                        [
                          0.8888888888888888,
                          "#fdca26"
                        ],
                        [
                          1,
                          "#f0f921"
                        ]
                      ],
                      "sequentialminus": [
                        [
                          0,
                          "#0d0887"
                        ],
                        [
                          0.1111111111111111,
                          "#46039f"
                        ],
                        [
                          0.2222222222222222,
                          "#7201a8"
                        ],
                        [
                          0.3333333333333333,
                          "#9c179e"
                        ],
                        [
                          0.4444444444444444,
                          "#bd3786"
                        ],
                        [
                          0.5555555555555556,
                          "#d8576b"
                        ],
                        [
                          0.6666666666666666,
                          "#ed7953"
                        ],
                        [
                          0.7777777777777778,
                          "#fb9f3a"
                        ],
                        [
                          0.8888888888888888,
                          "#fdca26"
                        ],
                        [
                          1,
                          "#f0f921"
                        ]
                      ]
                    },
                    "colorway": [
                      "#636efa",
                      "#EF553B",
                      "#00cc96",
                      "#ab63fa",
                      "#FFA15A",
                      "#19d3f3",
                      "#FF6692",
                      "#B6E880",
                      "#FF97FF",
                      "#FECB52"
                    ],
                    "font": {
                      "color": "#2a3f5f"
                    },
                    "geo": {
                      "bgcolor": "white",
                      "lakecolor": "white",
                      "landcolor": "#E5ECF6",
                      "showlakes": true,
                      "showland": true,
                      "subunitcolor": "white"
                    },
                    "hoverlabel": {
                      "align": "left"
                    },
                    "hovermode": "closest",
                    "mapbox": {
                      "style": "light"
                    },
                    "paper_bgcolor": "white",
                    "plot_bgcolor": "#E5ECF6",
                    "polar": {
                      "angularaxis": {
                        "gridcolor": "white",
                        "linecolor": "white",
                        "ticks": ""
                      },
                      "bgcolor": "#E5ECF6",
                      "radialaxis": {
                        "gridcolor": "white",
                        "linecolor": "white",
                        "ticks": ""
                      }
                    },
                    "scene": {
                      "xaxis": {
                        "backgroundcolor": "#E5ECF6",
                        "gridcolor": "white",
                        "gridwidth": 2,
                        "linecolor": "white",
                        "showbackground": true,
                        "ticks": "",
                        "zerolinecolor": "white"
                      },
                      "yaxis": {
                        "backgroundcolor": "#E5ECF6",
                        "gridcolor": "white",
                        "gridwidth": 2,
                        "linecolor": "white",
                        "showbackground": true,
                        "ticks": "",
                        "zerolinecolor": "white"
                      },
                      "zaxis": {
                        "backgroundcolor": "#E5ECF6",
                        "gridcolor": "white",
                        "gridwidth": 2,
                        "linecolor": "white",
                        "showbackground": true,
                        "ticks": "",
                        "zerolinecolor": "white"
                      }
                    },
                    "shapedefaults": {
                      "line": {
                        "color": "#2a3f5f"
                      }
                    },
                    "ternary": {
                      "aaxis": {
                        "gridcolor": "white",
                        "linecolor": "white",
                        "ticks": ""
                      },
                      "baxis": {
                        "gridcolor": "white",
                        "linecolor": "white",
                        "ticks": ""
                      },
                      "bgcolor": "#E5ECF6",
                      "caxis": {
                        "gridcolor": "white",
                        "linecolor": "white",
                        "ticks": ""
                      }
                    },
                    "title": {
                      "x": 0.05
                    },
                    "xaxis": {
                      "automargin": true,
                      "gridcolor": "white",
                      "linecolor": "white",
                      "ticks": "",
                      "title": {
                        "standoff": 15
                      },
                      "zerolinecolor": "white",
                      "zerolinewidth": 2
                    },
                    "yaxis": {
                      "automargin": true,
                      "gridcolor": "white",
                      "linecolor": "white",
                      "ticks": "",
                      "title": {
                        "standoff": 15
                      },
                      "zerolinecolor": "white",
                      "zerolinewidth": 2
                    }
                  }
                },
                "title": {
                  "font": {
                    "size": 20
                  },
                  "text": "Top 200 palabras más frecuentes",
                  "x": 0.5
                }
              }
            }
          },
          "metadata": {},
          "output_type": "display_data"
        }
      ],
      "source": [
        "# tardo 3 minutos\n",
        "FreqOfWords = df['text_clean'].str.split(expand=True).stack().value_counts()\n",
        "FreqOfWords_top200 = FreqOfWords[:200]\n",
        "\n",
        "fig = px.treemap(FreqOfWords_top200, path=[FreqOfWords_top200.index], values=0)\n",
        "fig.update_layout(title_text='Top 200 palabras más frecuentes',\n",
        "                  title_x=0.5, title_font=dict(size=20)\n",
        "                  )\n",
        "fig.update_traces(textinfo=\"label+value\")\n",
        "fig.show()"
      ]
    },
    {
      "cell_type": "markdown",
      "metadata": {},
      "source": [
        "### NER"
      ]
    },
    {
      "cell_type": "markdown",
      "metadata": {},
      "source": [
        "Named entity recognition (NER) es una técnica de NLP que automáticamente identifica entidades en un texto y las clasifica en alguna categoría predefinida.\n",
        "\n",
        " Una entidad puede ser:\n",
        "- Nombres de personas\n",
        "- Organizaciones\n",
        "- Ubicaciones\n",
        "- Fechas\n",
        "- Cantidades\n",
        "- Valores monetarios\n",
        "- Porcentajes\n",
        "- Y más..\n",
        "\n",
        "Comenzaremos viendo como podemos extraer entidades de un texto con spacy.\n",
        "\n",
        "Primero que nada debemos importar spacy y cargar el modelo que querramos usar, en este caso, inglés."
      ]
    },
    {
      "cell_type": "markdown",
      "metadata": {},
      "source": [
        "Definir una función que recibiendo un texto (str), retorne un listado de entidades (solo el nombre de la entidad, es decir, .text)"
      ]
    },
    {
      "cell_type": "code",
      "execution_count": null,
      "metadata": {},
      "outputs": [],
      "source": [
        "def get_entities(text:str):\n",
        "  doc=nlp(text)\n",
        "  ents = []\n",
        "  if doc.ents: \n",
        "    for ent in doc.ents:\n",
        "      ents.append(ent.text)\n",
        "      \n",
        "  return ents"
      ]
    },
    {
      "cell_type": "code",
      "execution_count": null,
      "metadata": {},
      "outputs": [],
      "source": [
        "df[\"NER\"] = df[\"text_clean\"].apply(get_entities)"
      ]
    },
    {
      "cell_type": "markdown",
      "metadata": {},
      "source": [
        "La siguiente celda, sirve para que cuando imprimamos un dataframe, pandas nos muestre el texto entero y no lo corte con \"...\""
      ]
    },
    {
      "cell_type": "code",
      "execution_count": 35,
      "metadata": {},
      "outputs": [],
      "source": [
        "pd.options.display.max_colwidth = 10000"
      ]
    },
    {
      "cell_type": "code",
      "execution_count": 36,
      "metadata": {},
      "outputs": [
        {
          "data": {
            "text/plain": [
              "17623    david wichnoski best   woke months ago swollen eyes wear contacts glasses seen eye dr years freaking   squeezed original dr refused   going regular exams   highlyg recommend spectrum eye care charlotte area   work downtown convenienntly located overstreet walkway   important note waited 2 minutes seen spectrum eye care\n",
              "Name: text, dtype: object"
            ]
          },
          "execution_count": 36,
          "metadata": {},
          "output_type": "execute_result"
        }
      ],
      "source": [
        "df['text'].sample()"
      ]
    },
    {
      "cell_type": "markdown",
      "metadata": {},
      "source": [
        "EXPLODE.\n",
        "\n",
        "En pandas, la función .explode() nos permite transformar una filas de un dataset que tienen una lista (como nuestra columna NER) en muchas filas (una por elemento en la lista).\n",
        "\n",
        "https://pandas.pydata.org/docs/reference/api/pandas.DataFrame.explode.html\n",
        "\n",
        "Aplicarla a nuestra columna NER pero sin modificar el df original, guardar el resultado en otro df.\n"
      ]
    },
    {
      "cell_type": "code",
      "execution_count": null,
      "metadata": {},
      "outputs": [],
      "source": [
        "df_exploded = df.explode(\"NER\")\n",
        "df_exploded.head()"
      ]
    },
    {
      "cell_type": "markdown",
      "metadata": {},
      "source": [
        "Ahora, agrupando por NER podemos obtener cuáles son las entidades que aparecen más frecuentemente en estas reviews... \n",
        "\n",
        "Obtener el top 20 de entidades más frecuentes."
      ]
    },
    {
      "cell_type": "code",
      "execution_count": 38,
      "metadata": {},
      "outputs": [
        {
          "name": "stderr",
          "output_type": "stream",
          "text": [
            "\n",
            "KeyboardInterrupt\n",
            "\n"
          ]
        }
      ],
      "source": [
        "df_exploded.groupby(\"NER\").count().sort_values(by=\"text_clean\", ascending=False).head(20)"
      ]
    },
    {
      "cell_type": "markdown",
      "metadata": {},
      "source": [
        "# Part of speech\n",
        "\n",
        "POS es el proceso mediante el cual vamos a clasificar a las palabras de un texto en categorías gramaticales. Para esto, los modelos se basan no solo en la palabra en sí, sino también en su contexto. Es decir, buscamos identificar sustantivos, verbos, adjetivos, etc dentro de un texto. \n",
        "\n",
        "Al igual que NER, para identificar POS en palabras de un texto, podemos utilizar los modelos de spacy que funcionan muy bien.\n",
        "\n",
        "Veamos un ejemplo:"
      ]
    },
    {
      "cell_type": "markdown",
      "metadata": {},
      "source": [
        "Definir una función que dado un texto, retorne una lista de todos sus sustantivos. En caso de que no contenga sustantivos, debe retornar lista vacia."
      ]
    },
    {
      "cell_type": "code",
      "execution_count": null,
      "metadata": {},
      "outputs": [],
      "source": [
        "def get_nouns(text):\n",
        "  doc = nlp(text)\n",
        "  nouns = []\n",
        "  for token in doc:\n",
        "    if token.pos_ == \"NOUN\":\n",
        "      nouns.append(token.text)\n",
        "  return nouns"
      ]
    },
    {
      "cell_type": "code",
      "execution_count": null,
      "metadata": {},
      "outputs": [],
      "source": [
        "df[\"NOUNS\"] = df[\"text_clean\"].apply(get_nouns)"
      ]
    },
    {
      "cell_type": "markdown",
      "metadata": {},
      "source": [
        "# Noun chunks\n",
        "\n",
        "Spacy también nos permite extraer \"noun chunks\" de un texto.\n",
        "Noun chunks son sustantivos en conjunto con cualquier palabra que dependa de ellos o los acompañe."
      ]
    },
    {
      "cell_type": "markdown",
      "metadata": {},
      "source": [
        "Crear una función que dado un texto retorne un listado de noun chunks. Luego aplicar la función al dataframe y almacenar resultados en la columna \"NOUN_CHUNKS\""
      ]
    },
    {
      "cell_type": "code",
      "execution_count": null,
      "metadata": {},
      "outputs": [],
      "source": [
        "def get_noun_chunks(text:str):\n",
        "  doc = nlp(text)\n",
        "  return [nc for nc in doc.noun_chunks]"
      ]
    },
    {
      "cell_type": "code",
      "execution_count": null,
      "metadata": {},
      "outputs": [],
      "source": [
        "df[\"NOUN_CHUNKS\"] = df[\"text_clean\"].apply(get_noun_chunks)"
      ]
    },
    {
      "cell_type": "code",
      "execution_count": null,
      "metadata": {},
      "outputs": [],
      "source": [
        "df.head()"
      ]
    },
    {
      "cell_type": "markdown",
      "metadata": {},
      "source": [
        "# Text blob\n",
        "\n",
        "Para análisis de sentimientos, podemos entrenar nuestros propios modelos (como la clase pasada) o utilizar modelos ya entrenados (textblob, modelos de proveedores cloud como aws, azure, gcp, etc).\n",
        "\n",
        "En este caso utilizaremos textblob."
      ]
    },
    {
      "cell_type": "code",
      "execution_count": null,
      "metadata": {},
      "outputs": [],
      "source": [
        "from textblob import TextBlob"
      ]
    },
    {
      "cell_type": "markdown",
      "metadata": {},
      "source": [
        "Escribir una función get_sentiment que dado un texto, nos retorne:\n",
        "- la palabra \"POS\" si polarity > 0.1\n",
        "- la palabra \"NEU\" si polarity ≥ -0.1 & polarity ≤ 0.1\n",
        "- la palabra \"NEG\" si polarity < -0.1\n",
        "\n",
        "Luego aplicarla a todo el df y almacenar resultados en la columna \"SENTIMENT\""
      ]
    },
    {
      "cell_type": "code",
      "execution_count": null,
      "metadata": {},
      "outputs": [],
      "source": [
        "def get_sentiment(text):\n",
        "  sent = TextBlob(text).sentiment.polarity\n",
        "\n",
        "  if sent > 0.1:\n",
        "    return \"POS\"\n",
        "  \n",
        "  if sent >= -0.1 and sent <= 0.1:\n",
        "    return \"NEU\"\n",
        "\n",
        "  if sent < 0.1:\n",
        "    return \"NEG\""
      ]
    },
    {
      "cell_type": "code",
      "execution_count": null,
      "metadata": {},
      "outputs": [],
      "source": [
        "df[\"SENTIMENT\"] = df[\"text_clean\"].apply(get_sentiment)"
      ]
    },
    {
      "cell_type": "code",
      "execution_count": 40,
      "metadata": {},
      "outputs": [
        {
          "data": {
            "text/html": [
              "<div>\n",
              "<style scoped>\n",
              "    .dataframe tbody tr th:only-of-type {\n",
              "        vertical-align: middle;\n",
              "    }\n",
              "\n",
              "    .dataframe tbody tr th {\n",
              "        vertical-align: top;\n",
              "    }\n",
              "\n",
              "    .dataframe thead th {\n",
              "        text-align: right;\n",
              "    }\n",
              "</style>\n",
              "<table border=\"1\" class=\"dataframe\">\n",
              "  <thead>\n",
              "    <tr style=\"text-align: right;\">\n",
              "      <th></th>\n",
              "      <th>user_id</th>\n",
              "      <th>review_id</th>\n",
              "      <th>text</th>\n",
              "      <th>votes.cool</th>\n",
              "      <th>business_id</th>\n",
              "      <th>votes.funny</th>\n",
              "      <th>stars</th>\n",
              "      <th>date</th>\n",
              "      <th>type</th>\n",
              "      <th>votes.useful</th>\n",
              "    </tr>\n",
              "  </thead>\n",
              "  <tbody>\n",
              "    <tr>\n",
              "      <th>0</th>\n",
              "      <td>PUFPaY9KxDAcGqfsorJp3Q</td>\n",
              "      <td>Ya85v4eqdd6k9Od8HbQjyA</td>\n",
              "      <td>mr hoagie institution walking like throwback 30 years ago old fashioned menu board booths 70s large selection food speciality italian hoagie voted best area year year usually order burger patties obviously cooked frozen ingredients fresh overall good alternative subway road</td>\n",
              "      <td>0</td>\n",
              "      <td>5UmKMjUEUNdYWqANhGckJw</td>\n",
              "      <td>0</td>\n",
              "      <td>4</td>\n",
              "      <td>2012-08-01</td>\n",
              "      <td>review</td>\n",
              "      <td>0</td>\n",
              "    </tr>\n",
              "    <tr>\n",
              "      <th>1</th>\n",
              "      <td>Iu6AxdBYGR4A0wspR9BYHA</td>\n",
              "      <td>KPvLNJ21_4wbYNctrOwWdQ</td>\n",
              "      <td>excellent food superb customer service miss mario machines great place steeped tradition</td>\n",
              "      <td>0</td>\n",
              "      <td>5UmKMjUEUNdYWqANhGckJw</td>\n",
              "      <td>0</td>\n",
              "      <td>5</td>\n",
              "      <td>2014-02-13</td>\n",
              "      <td>review</td>\n",
              "      <td>0</td>\n",
              "    </tr>\n",
              "    <tr>\n",
              "      <th>2</th>\n",
              "      <td>auESFwWvW42h6alXgFxAXQ</td>\n",
              "      <td>fFSoGV46Yxuwbr3fHNuZig</td>\n",
              "      <td>yes place little dated opened weekend staff pleasant fast order spot fresh veggies hoggies food daily specials ice cream good banana split piled toppings win pennysaver awards years</td>\n",
              "      <td>0</td>\n",
              "      <td>5UmKMjUEUNdYWqANhGckJw</td>\n",
              "      <td>0</td>\n",
              "      <td>5</td>\n",
              "      <td>2015-10-31</td>\n",
              "      <td>review</td>\n",
              "      <td>0</td>\n",
              "    </tr>\n",
              "    <tr>\n",
              "      <th>3</th>\n",
              "      <td>uK8tzraOp4M5u3uYrqIBXg</td>\n",
              "      <td>Di3exaUCFNw1V4kSNW5pgA</td>\n",
              "      <td>food great best thing wings wings simply fantastic   wet cajun best popular   like seasoned salt wings   wing night monday wednesday night $ 0.75 wings \\n\\n dining area nice family friendly bar nice   place truly yinzer dream   pittsburgh dad love place n'at</td>\n",
              "      <td>0</td>\n",
              "      <td>UsFtqoBl7naz8AVUBZMjQQ</td>\n",
              "      <td>0</td>\n",
              "      <td>5</td>\n",
              "      <td>2013-11-08</td>\n",
              "      <td>review</td>\n",
              "      <td>0</td>\n",
              "    </tr>\n",
              "    <tr>\n",
              "      <th>4</th>\n",
              "      <td>I_47G-R2_egp7ME5u_ltew</td>\n",
              "      <td>0Lua2-PbqEQMjD9r89-asw</td>\n",
              "      <td>checked place past monday wing night heard wings great decided finally time check wings wings crispy nice change pace got wet cajun sauce garlic butter wings cajun bold flavor sauce thin sauce thin garlic butter expected better average like seeing sauce resting boat definitely come try place sample items menu probably regular stop wings anytime soon</td>\n",
              "      <td>0</td>\n",
              "      <td>UsFtqoBl7naz8AVUBZMjQQ</td>\n",
              "      <td>0</td>\n",
              "      <td>3</td>\n",
              "      <td>2014-03-29</td>\n",
              "      <td>review</td>\n",
              "      <td>0</td>\n",
              "    </tr>\n",
              "  </tbody>\n",
              "</table>\n",
              "</div>"
            ],
            "text/plain": [
              "                  user_id               review_id  \\\n",
              "0  PUFPaY9KxDAcGqfsorJp3Q  Ya85v4eqdd6k9Od8HbQjyA   \n",
              "1  Iu6AxdBYGR4A0wspR9BYHA  KPvLNJ21_4wbYNctrOwWdQ   \n",
              "2  auESFwWvW42h6alXgFxAXQ  fFSoGV46Yxuwbr3fHNuZig   \n",
              "3  uK8tzraOp4M5u3uYrqIBXg  Di3exaUCFNw1V4kSNW5pgA   \n",
              "4  I_47G-R2_egp7ME5u_ltew  0Lua2-PbqEQMjD9r89-asw   \n",
              "\n",
              "                                                                                                                                                                                                                                                                                                                                                              text  \\\n",
              "0                                                                               mr hoagie institution walking like throwback 30 years ago old fashioned menu board booths 70s large selection food speciality italian hoagie voted best area year year usually order burger patties obviously cooked frozen ingredients fresh overall good alternative subway road   \n",
              "1                                                                                                                                                                                                                                                                         excellent food superb customer service miss mario machines great place steeped tradition   \n",
              "2                                                                                                                                                                            yes place little dated opened weekend staff pleasant fast order spot fresh veggies hoggies food daily specials ice cream good banana split piled toppings win pennysaver awards years   \n",
              "3                                                                                               food great best thing wings wings simply fantastic   wet cajun best popular   like seasoned salt wings   wing night monday wednesday night $ 0.75 wings \\n\\n dining area nice family friendly bar nice   place truly yinzer dream   pittsburgh dad love place n'at   \n",
              "4  checked place past monday wing night heard wings great decided finally time check wings wings crispy nice change pace got wet cajun sauce garlic butter wings cajun bold flavor sauce thin sauce thin garlic butter expected better average like seeing sauce resting boat definitely come try place sample items menu probably regular stop wings anytime soon   \n",
              "\n",
              "   votes.cool             business_id  votes.funny  stars        date    type  \\\n",
              "0           0  5UmKMjUEUNdYWqANhGckJw            0      4  2012-08-01  review   \n",
              "1           0  5UmKMjUEUNdYWqANhGckJw            0      5  2014-02-13  review   \n",
              "2           0  5UmKMjUEUNdYWqANhGckJw            0      5  2015-10-31  review   \n",
              "3           0  UsFtqoBl7naz8AVUBZMjQQ            0      5  2013-11-08  review   \n",
              "4           0  UsFtqoBl7naz8AVUBZMjQQ            0      3  2014-03-29  review   \n",
              "\n",
              "   votes.useful  \n",
              "0             0  \n",
              "1             0  \n",
              "2             0  \n",
              "3             0  \n",
              "4             0  "
            ]
          },
          "execution_count": 40,
          "metadata": {},
          "output_type": "execute_result"
        }
      ],
      "source": [
        "df.head()"
      ]
    },
    {
      "cell_type": "markdown",
      "metadata": {},
      "source": [
        "1) Cuántas ORACIONES hay asociadas a cada sentimiento (POS, NEG, NEU) ?"
      ]
    },
    {
      "cell_type": "code",
      "execution_count": null,
      "metadata": {},
      "outputs": [],
      "source": [
        "df.groupby(\"SENTIMENT\").agg({\"SENTENCES\": \"sum\"})"
      ]
    },
    {
      "cell_type": "markdown",
      "metadata": {},
      "source": [
        "2) Cuáles son los 10 sustantivos más negativos? Y los más positivos? (Noun)"
      ]
    },
    {
      "cell_type": "code",
      "execution_count": null,
      "metadata": {},
      "outputs": [],
      "source": [
        "noun_sentiments = df.explode(\"NOUNS\").groupby([\"NOUNS\", \"SENTIMENT\"], as_index=False).agg({\"TWEET\": \"count\"})\n",
        "noun_sentiments.head()"
      ]
    },
    {
      "cell_type": "code",
      "execution_count": null,
      "metadata": {},
      "outputs": [],
      "source": [
        "noun_sentiments[noun_sentiments.SENTIMENT == \"NEG\"].sort_values(by=\"TWEET\", ascending=False).head(10)"
      ]
    },
    {
      "cell_type": "code",
      "execution_count": null,
      "metadata": {},
      "outputs": [
        {
          "name": "stdout",
          "output_type": "stream",
          "text": [
            "6705    server said chicken parm sub white meat breade...\n",
            "Name: text, dtype: object\n"
          ]
        }
      ],
      "source": [
        "noun_sentiments[noun_sentiments.SENTIMENT == \"POS\"].sort_values(by=\"TWEET\", ascending=False).head(10)"
      ]
    },
    {
      "cell_type": "markdown",
      "metadata": {},
      "source": [
        "# KeyBERT\n",
        "\n",
        "Ahora vamos a analizar las keywords."
      ]
    },
    {
      "cell_type": "code",
      "execution_count": null,
      "metadata": {},
      "outputs": [],
      "source": [
        "from keybert import KeyBERT\n",
        "\n",
        "kw_model = KeyBERT()"
      ]
    },
    {
      "cell_type": "markdown",
      "metadata": {},
      "source": [
        "- Top n: Cantidad de keywords por review\n",
        "- keyphrase_ngram_range: Cantidad de palabras por keyword (keyphrase)"
      ]
    },
    {
      "cell_type": "code",
      "execution_count": null,
      "metadata": {},
      "outputs": [],
      "source": [
        "df[\"KEYWORDS\"] = df['text_clean'].apply(lambda x: kw_model.extract_keywords(x, top_n=3, keyphrase_ngram_range=(1,1)))"
      ]
    },
    {
      "cell_type": "code",
      "execution_count": null,
      "metadata": {},
      "outputs": [],
      "source": [
        "df.head()"
      ]
    },
    {
      "cell_type": "markdown",
      "metadata": {},
      "source": [
        "Podemos ver que además de la keyword, nos trae un score para cada keyword.\n",
        "\n",
        "Vamos a eliminar el score y quedarnos únicamente con las kw:"
      ]
    },
    {
      "cell_type": "code",
      "execution_count": null,
      "metadata": {},
      "outputs": [],
      "source": [
        "df[\"KEYWORDS\"] = df.KEYWORDS.apply(lambda keywords: [k[0] for k in keywords])"
      ]
    },
    {
      "cell_type": "code",
      "execution_count": null,
      "metadata": {},
      "outputs": [],
      "source": [
        "df.head()"
      ]
    },
    {
      "cell_type": "markdown",
      "metadata": {},
      "source": [
        "Ahora podemos ver la popularidad de las keywords:"
      ]
    },
    {
      "cell_type": "code",
      "execution_count": null,
      "metadata": {},
      "outputs": [],
      "source": [
        "import matplotlib.pyplot as plt\n",
        "import seaborn as sns\n",
        "\n",
        "plt.figure(figsize=(20,6))\n",
        "sns.countplot(x=df.explode(\"KEYWORDS\").KEYWORDS, \n",
        "              order=df.explode(\"KEYWORDS\").KEYWORDS.value_counts().index[:30],\n",
        "              palette='Reds_r')\n",
        "plt.title(\"KEYWORDS popularity - TOP 30\")\n",
        "plt.xticks(rotation=45)\n",
        "plt.show()"
      ]
    },
    {
      "cell_type": "markdown",
      "metadata": {},
      "source": [
        "# BERTopic\n",
        "\n",
        "Ahora utilizaremos BERTopic para extraer tópicos."
      ]
    },
    {
      "cell_type": "code",
      "execution_count": null,
      "metadata": {},
      "outputs": [],
      "source": [
        "from bertopic import BERTopic"
      ]
    },
    {
      "cell_type": "code",
      "execution_count": null,
      "metadata": {},
      "outputs": [],
      "source": [
        "topic_model = BERTopic(calculate_probabilities=True, verbose=True)\n",
        "topics, probs = topic_model.fit_transform(df[\"text_clean\"].values)"
      ]
    },
    {
      "cell_type": "code",
      "execution_count": null,
      "metadata": {},
      "outputs": [],
      "source": [
        "topics_data = topic_model.get_topic_info()\n",
        "topics_data"
      ]
    },
    {
      "cell_type": "markdown",
      "metadata": {},
      "source": [
        "El topico -1 corresponde a outliers."
      ]
    },
    {
      "cell_type": "code",
      "execution_count": null,
      "metadata": {},
      "outputs": [],
      "source": [
        "df[\"TOPIC_ID\"] = topics\n",
        "df = df.merge(topics_data, left_on=\"TOPIC_ID\", right_on=\"Topic\", how=\"left\")\n",
        "df = df.rename(columns={\"Name\": \"TOPIC_NAME\", \"Count\": \"TOPIC_POPULARITY\"})\n",
        "df = df.drop([\"Topic\"], axis=1)\n",
        "df.head(3)"
      ]
    },
    {
      "cell_type": "code",
      "execution_count": null,
      "metadata": {},
      "outputs": [],
      "source": [
        "topic_model.visualize_topics()"
      ]
    }
  ],
  "metadata": {
    "colab": {
      "name": "Segunda entrega - NLP.ipynb",
      "provenance": []
    },
    "kernelspec": {
      "display_name": "Python 3.9.12 ('base')",
      "language": "python",
      "name": "python3"
    },
    "language_info": {
      "codemirror_mode": {
        "name": "ipython",
        "version": 3
      },
      "file_extension": ".py",
      "mimetype": "text/x-python",
      "name": "python",
      "nbconvert_exporter": "python",
      "pygments_lexer": "ipython3",
      "version": "3.9.12"
    },
    "vscode": {
      "interpreter": {
        "hash": "52d90d3cc821dd0beedd6e719dbdecc722c226b9d90ed1b663c34e1877f1142e"
      }
    }
  },
  "nbformat": 4,
  "nbformat_minor": 0
}
