{
  "cells": [
    {
      "cell_type": "markdown",
      "metadata": {
        "id": "pljdz--nPEEX"
      },
      "source": [
        "# Segunda entrega\n",
        "\n",
        "En esta segunda entrega vamos a hacer un análisis de reviews en Yelp.\n",
        "\n",
        "Dado el siguiente dataset https://drive.google.com/file/d/1sVeJE4zd1fmLnOgYI5QlQeaeaTGa8kIE/view?usp=sharing:"
      ]
    },
    {
      "cell_type": "code",
      "execution_count": 7,
      "metadata": {
        "colab": {
          "base_uri": "https://localhost:8080/"
        },
        "id": "Gc4ydJnCaf8g",
        "outputId": "854d8e8f-cbff-4701-9367-eaa85d0899e5"
      },
      "outputs": [],
      "source": [
        "#para descargarlo desde colab\n",
        "#!wget --no-check-certificate 'https://docs.google.com/uc?export=download&id=1sVeJE4zd1fmLnOgYI5QlQeaeaTGa8kIE' -O reviews.csv"
      ]
    },
    {
      "cell_type": "code",
      "execution_count": 11,
      "metadata": {},
      "outputs": [],
      "source": [
        "import pandas as pd\n",
        "import seaborn as sns\n",
        "import matplotlib.pylab as plt\n",
        "import numpy as np\n",
        "#from sklearn.model_selection import GridSearchCV\n",
        "#from sklearn.metrics import plot_confusion_matrix\n",
        "#from sklearn.metrics import classification_report\n",
        "#from sklearn.metrics import accuracy_score\n",
        "import spacy\n",
        "#import os\n",
        "#from sklearn.feature_extraction.text import CountVectorizer\n",
        "#from sklearn.feature_extraction.text import TfidfVectorizer"
      ]
    },
    {
      "cell_type": "code",
      "execution_count": 55,
      "metadata": {},
      "outputs": [
        {
          "data": {
            "text/html": [
              "<div>\n",
              "<style scoped>\n",
              "    .dataframe tbody tr th:only-of-type {\n",
              "        vertical-align: middle;\n",
              "    }\n",
              "\n",
              "    .dataframe tbody tr th {\n",
              "        vertical-align: top;\n",
              "    }\n",
              "\n",
              "    .dataframe thead th {\n",
              "        text-align: right;\n",
              "    }\n",
              "</style>\n",
              "<table border=\"1\" class=\"dataframe\">\n",
              "  <thead>\n",
              "    <tr style=\"text-align: right;\">\n",
              "      <th></th>\n",
              "      <th>user_id</th>\n",
              "      <th>review_id</th>\n",
              "      <th>text</th>\n",
              "      <th>votes.cool</th>\n",
              "      <th>business_id</th>\n",
              "      <th>votes.funny</th>\n",
              "      <th>stars</th>\n",
              "      <th>date</th>\n",
              "      <th>type</th>\n",
              "      <th>votes.useful</th>\n",
              "    </tr>\n",
              "  </thead>\n",
              "  <tbody>\n",
              "    <tr>\n",
              "      <th>0</th>\n",
              "      <td>PUFPaY9KxDAcGqfsorJp3Q</td>\n",
              "      <td>Ya85v4eqdd6k9Od8HbQjyA</td>\n",
              "      <td>Mr Hoagie is an institution. Walking in, it does seem like a throwback to 30 years ago, old fashioned menu board, booths out of the 70s, and a large selection of food. Their speciality is the Italian Hoagie, and it is voted the best in the area year after year. I usually order the burger, while the patties are obviously cooked from frozen, all of the other ingredients are very fresh. Overall, its a good alternative to Subway, which is down the road.</td>\n",
              "      <td>0</td>\n",
              "      <td>5UmKMjUEUNdYWqANhGckJw</td>\n",
              "      <td>0</td>\n",
              "      <td>4</td>\n",
              "      <td>2012-08-01</td>\n",
              "      <td>review</td>\n",
              "      <td>0</td>\n",
              "    </tr>\n",
              "    <tr>\n",
              "      <th>1</th>\n",
              "      <td>Iu6AxdBYGR4A0wspR9BYHA</td>\n",
              "      <td>KPvLNJ21_4wbYNctrOwWdQ</td>\n",
              "      <td>Excellent food. Superb customer service. I miss the mario machines they used to have, but it's still a great place steeped in tradition.</td>\n",
              "      <td>0</td>\n",
              "      <td>5UmKMjUEUNdYWqANhGckJw</td>\n",
              "      <td>0</td>\n",
              "      <td>5</td>\n",
              "      <td>2014-02-13</td>\n",
              "      <td>review</td>\n",
              "      <td>0</td>\n",
              "    </tr>\n",
              "    <tr>\n",
              "      <th>2</th>\n",
              "      <td>auESFwWvW42h6alXgFxAXQ</td>\n",
              "      <td>fFSoGV46Yxuwbr3fHNuZig</td>\n",
              "      <td>Yes this place is a little out dated and not opened on the weekend. But other than that the staff is always pleasant and fast to make your order. Which is always spot on fresh veggies on their hoggies and other food. They also have daily specials and ice cream which is really good. I had a banana split they piled the toppings on. They win pennysaver awards ever years i see why.</td>\n",
              "      <td>0</td>\n",
              "      <td>5UmKMjUEUNdYWqANhGckJw</td>\n",
              "      <td>0</td>\n",
              "      <td>5</td>\n",
              "      <td>2015-10-31</td>\n",
              "      <td>review</td>\n",
              "      <td>0</td>\n",
              "    </tr>\n",
              "    <tr>\n",
              "      <th>3</th>\n",
              "      <td>uK8tzraOp4M5u3uYrqIBXg</td>\n",
              "      <td>Di3exaUCFNw1V4kSNW5pgA</td>\n",
              "      <td>All the food is great here. But the best thing they have is their wings. Their wings are simply fantastic!!  The \"Wet Cajun\" are by the best &amp; most popular.  I also like the seasoned salt wings.  Wing Night is Monday &amp; Wednesday night, $0.75 whole wings!\\n\\nThe dining area is nice. Very family friendly! The bar is very nice is well.  This place is truly a Yinzer's dream!!  \"Pittsburgh Dad\" would love this place n'at!!</td>\n",
              "      <td>0</td>\n",
              "      <td>UsFtqoBl7naz8AVUBZMjQQ</td>\n",
              "      <td>0</td>\n",
              "      <td>5</td>\n",
              "      <td>2013-11-08</td>\n",
              "      <td>review</td>\n",
              "      <td>0</td>\n",
              "    </tr>\n",
              "    <tr>\n",
              "      <th>4</th>\n",
              "      <td>I_47G-R2_egp7ME5u_ltew</td>\n",
              "      <td>0Lua2-PbqEQMjD9r89-asw</td>\n",
              "      <td>We checked this place out this past Monday for their wing night. We have heard that their wings are great and decided it was finally time to check it out. Their wings are whole wings and crispy, which is a nice change of pace. I got their wet Cajun sauce and garlic butter wings. The Cajun did not have a bold enough flavor for me and their sauce is too thin. The sauce was also thin for the garlic butter, but that is more expected. They were better than average, but I don't like seeing all the sauce resting at the bottom of the boat. I would definitely come try this place out again to sample some of the other items on the menu, but this will probably not become a regular stop for wings anytime soon.</td>\n",
              "      <td>0</td>\n",
              "      <td>UsFtqoBl7naz8AVUBZMjQQ</td>\n",
              "      <td>0</td>\n",
              "      <td>3</td>\n",
              "      <td>2014-03-29</td>\n",
              "      <td>review</td>\n",
              "      <td>0</td>\n",
              "    </tr>\n",
              "  </tbody>\n",
              "</table>\n",
              "</div>"
            ],
            "text/plain": [
              "                  user_id               review_id  \\\n",
              "0  PUFPaY9KxDAcGqfsorJp3Q  Ya85v4eqdd6k9Od8HbQjyA   \n",
              "1  Iu6AxdBYGR4A0wspR9BYHA  KPvLNJ21_4wbYNctrOwWdQ   \n",
              "2  auESFwWvW42h6alXgFxAXQ  fFSoGV46Yxuwbr3fHNuZig   \n",
              "3  uK8tzraOp4M5u3uYrqIBXg  Di3exaUCFNw1V4kSNW5pgA   \n",
              "4  I_47G-R2_egp7ME5u_ltew  0Lua2-PbqEQMjD9r89-asw   \n",
              "\n",
              "                                                                                                                                                                                                                                                                                                                                                                                                                                                                                                                                                                                                                                                                                                                                 text  \\\n",
              "0                                                                                                                                                                                                                                                               Mr Hoagie is an institution. Walking in, it does seem like a throwback to 30 years ago, old fashioned menu board, booths out of the 70s, and a large selection of food. Their speciality is the Italian Hoagie, and it is voted the best in the area year after year. I usually order the burger, while the patties are obviously cooked from frozen, all of the other ingredients are very fresh. Overall, its a good alternative to Subway, which is down the road.   \n",
              "1                                                                                                                                                                                                                                                                                                                                                                                                                                                                                                                                                                                            Excellent food. Superb customer service. I miss the mario machines they used to have, but it's still a great place steeped in tradition.   \n",
              "2                                                                                                                                                                                                                                                                                                                                        Yes this place is a little out dated and not opened on the weekend. But other than that the staff is always pleasant and fast to make your order. Which is always spot on fresh veggies on their hoggies and other food. They also have daily specials and ice cream which is really good. I had a banana split they piled the toppings on. They win pennysaver awards ever years i see why.   \n",
              "3                                                                                                                                                                                                                                                                                               All the food is great here. But the best thing they have is their wings. Their wings are simply fantastic!!  The \"Wet Cajun\" are by the best & most popular.  I also like the seasoned salt wings.  Wing Night is Monday & Wednesday night, $0.75 whole wings!\\n\\nThe dining area is nice. Very family friendly! The bar is very nice is well.  This place is truly a Yinzer's dream!!  \"Pittsburgh Dad\" would love this place n'at!!   \n",
              "4  We checked this place out this past Monday for their wing night. We have heard that their wings are great and decided it was finally time to check it out. Their wings are whole wings and crispy, which is a nice change of pace. I got their wet Cajun sauce and garlic butter wings. The Cajun did not have a bold enough flavor for me and their sauce is too thin. The sauce was also thin for the garlic butter, but that is more expected. They were better than average, but I don't like seeing all the sauce resting at the bottom of the boat. I would definitely come try this place out again to sample some of the other items on the menu, but this will probably not become a regular stop for wings anytime soon.   \n",
              "\n",
              "   votes.cool             business_id  votes.funny  stars        date    type  \\\n",
              "0           0  5UmKMjUEUNdYWqANhGckJw            0      4  2012-08-01  review   \n",
              "1           0  5UmKMjUEUNdYWqANhGckJw            0      5  2014-02-13  review   \n",
              "2           0  5UmKMjUEUNdYWqANhGckJw            0      5  2015-10-31  review   \n",
              "3           0  UsFtqoBl7naz8AVUBZMjQQ            0      5  2013-11-08  review   \n",
              "4           0  UsFtqoBl7naz8AVUBZMjQQ            0      3  2014-03-29  review   \n",
              "\n",
              "   votes.useful  \n",
              "0             0  \n",
              "1             0  \n",
              "2             0  \n",
              "3             0  \n",
              "4             0  "
            ]
          },
          "execution_count": 55,
          "metadata": {},
          "output_type": "execute_result"
        }
      ],
      "source": [
        "# df = pd.read_csv('https://docs.google.com/uc?export=download&id=1sVeJE4zd1fmLnOgYI5QlQeaeaTGa8kIE')\n",
        "df = pd.read_csv('CSV/reviews.csv')\n",
        "df.head()"
      ]
    },
    {
      "cell_type": "markdown",
      "metadata": {
        "id": "WqIrKZKUPb9u"
      },
      "source": [
        "Deberán hacer un análisis de las reviews.\n",
        "\n",
        "El análisis no tiene limites y pueden agregar todas las ideas que les surjan, pero como mínimo debe incluir: keywords y tópicos por negocio (business id), sentimiento de cada review, entidades por review, negocio con más comentarios positivos y negocio con más comentarios negativos.\n",
        "\n",
        "Además, pueden agregar por ejemplo (Opcional): Tópicos asociados sentimientos, keywords asociadas a sentimientos, sentimientos a lo largo del tiempo (utilizando la columna date)...\n",
        "\n",
        "### Entrega\n",
        "\n",
        "**Fecha limite**: 26 de Diciembre. \n",
        "\n",
        "Deben compartir el notebook con todo el análisis realizado por mail a alexispacek@gmail.com.\n",
        "\n",
        "\n",
        "### Presentación\n",
        "\n",
        "**Fecha**: 28 de Diciembre.\n",
        "\n",
        "La presentación NO debe ser una presentación del notebook. La presentación debe constar de filminas que muestren los **resultados** que obtuvieron, mencionar herramientas que utiliaron, que decisiones tomaron y conclusiones. No deben mostrar nada de código en la presentación.\n",
        "\n",
        "Una vez que ya hayan presentado (por ejemplo un powerpoint), podemos resolver las dudas que surjan sobre código, etc.\n",
        "\n"
      ]
    },
    {
      "cell_type": "markdown",
      "metadata": {},
      "source": [
        "# EDA"
      ]
    },
    {
      "cell_type": "markdown",
      "metadata": {},
      "source": [
        "Empezamos a conocer: cantidad de filas y columnas, tipos de variables, valores nulos, etc."
      ]
    },
    {
      "cell_type": "code",
      "execution_count": 4,
      "metadata": {},
      "outputs": [
        {
          "data": {
            "text/plain": [
              "(27290, 10)"
            ]
          },
          "execution_count": 4,
          "metadata": {},
          "output_type": "execute_result"
        }
      ],
      "source": [
        "df.shape"
      ]
    },
    {
      "cell_type": "code",
      "execution_count": 5,
      "metadata": {},
      "outputs": [
        {
          "name": "stdout",
          "output_type": "stream",
          "text": [
            "<class 'pandas.core.frame.DataFrame'>\n",
            "RangeIndex: 27290 entries, 0 to 27289\n",
            "Data columns (total 10 columns):\n",
            " #   Column        Non-Null Count  Dtype \n",
            "---  ------        --------------  ----- \n",
            " 0   user_id       27290 non-null  object\n",
            " 1   review_id     27290 non-null  object\n",
            " 2   text          27290 non-null  object\n",
            " 3   votes.cool    27290 non-null  int64 \n",
            " 4   business_id   27290 non-null  object\n",
            " 5   votes.funny   27290 non-null  int64 \n",
            " 6   stars         27290 non-null  int64 \n",
            " 7   date          27290 non-null  object\n",
            " 8   type          27290 non-null  object\n",
            " 9   votes.useful  27290 non-null  int64 \n",
            "dtypes: int64(4), object(6)\n",
            "memory usage: 2.1+ MB\n"
          ]
        }
      ],
      "source": [
        "df.info()"
      ]
    },
    {
      "cell_type": "code",
      "execution_count": 74,
      "metadata": {},
      "outputs": [
        {
          "data": {
            "text/plain": [
              "user_id         0\n",
              "review_id       0\n",
              "text            0\n",
              "votes.cool      0\n",
              "business_id     0\n",
              "votes.funny     0\n",
              "stars           0\n",
              "date            0\n",
              "type            0\n",
              "votes.useful    0\n",
              "dtype: int64"
            ]
          },
          "execution_count": 74,
          "metadata": {},
          "output_type": "execute_result"
        }
      ],
      "source": [
        "df.isna().sum()"
      ]
    },
    {
      "cell_type": "code",
      "execution_count": 59,
      "metadata": {},
      "outputs": [
        {
          "data": {
            "text/plain": [
              "1320"
            ]
          },
          "execution_count": 59,
          "metadata": {},
          "output_type": "execute_result"
        }
      ],
      "source": [
        "df['business_id'].nunique()"
      ]
    },
    {
      "cell_type": "code",
      "execution_count": 52,
      "metadata": {},
      "outputs": [
        {
          "data": {
            "text/plain": [
              "5"
            ]
          },
          "execution_count": 52,
          "metadata": {},
          "output_type": "execute_result"
        }
      ],
      "source": [
        "df['stars'].nunique()"
      ]
    },
    {
      "cell_type": "code",
      "execution_count": 51,
      "metadata": {},
      "outputs": [
        {
          "data": {
            "text/plain": [
              "27"
            ]
          },
          "execution_count": 51,
          "metadata": {},
          "output_type": "execute_result"
        }
      ],
      "source": [
        "df['votes.funny'].nunique()"
      ]
    },
    {
      "cell_type": "code",
      "execution_count": 70,
      "metadata": {},
      "outputs": [
        {
          "data": {
            "text/plain": [
              "28"
            ]
          },
          "execution_count": 70,
          "metadata": {},
          "output_type": "execute_result"
        }
      ],
      "source": [
        "df['votes.useful'].nunique()"
      ]
    },
    {
      "cell_type": "code",
      "execution_count": 53,
      "metadata": {},
      "outputs": [
        {
          "data": {
            "text/plain": [
              "1"
            ]
          },
          "execution_count": 53,
          "metadata": {},
          "output_type": "execute_result"
        }
      ],
      "source": [
        "df['type'].nunique()"
      ]
    },
    {
      "cell_type": "markdown",
      "metadata": {},
      "source": [
        "Visualizamos distribución de algunos features"
      ]
    },
    {
      "cell_type": "code",
      "execution_count": 67,
      "metadata": {},
      "outputs": [],
      "source": [
        "def graficar_countplot(df, features):\n",
        "    ncount=len(df)    \n",
        "\n",
        "    for i, feature in enumerate(features):\n",
        "\n",
        "        plt.figure(figsize=(20,4))\n",
        "        \n",
        "        ax = sns.countplot(x=df[feature], order=df[feature].value_counts().iloc[:10].index)\n",
        "        ax.set_title(f'Countplot {feature}',fontdict={'fontsize': 12,'fontweight':'bold'})\n",
        "        ax.tick_params(axis='x', rotation=45)\n",
        "        \n",
        "        \n",
        "        for p in ax.patches:\n",
        "            x=p.get_bbox().get_points()[:,0]\n",
        "            y=p.get_bbox().get_points()[1,1]\n",
        "            ax.annotate('   {:.2f}% '.format(100.*y/ncount), (x.mean(), y), \n",
        "                ha='center', va='bottom',rotation=45)\n",
        "        \n",
        "        plt.xticks(rotation=90)\n",
        "        plt.show()"
      ]
    },
    {
      "cell_type": "code",
      "execution_count": 68,
      "metadata": {},
      "outputs": [
        {
          "data": {
            "image/png": "[encoded data removed]",
            "text/plain": [
              "<Figure size 1440x288 with 1 Axes>"
            ]
          },
          "metadata": {
            "needs_background": "light"
          },
          "output_type": "display_data"
        },
        {
          "data": {
            "image/png": "[encoded data removed]",
            "text/plain": [
              "<Figure size 1440x288 with 1 Axes>"
            ]
          },
          "metadata": {
            "needs_background": "light"
          },
          "output_type": "display_data"
        }
      ],
      "source": [
        "features = ['stars','business_id', '']\n",
        "\n",
        "graficar_countplot(df, features)"
      ]
    },
    {
      "cell_type": "markdown",
      "metadata": {},
      "source": [
        "# Preprocesamiento"
      ]
    },
    {
      "cell_type": "markdown",
      "metadata": {},
      "source": [
        "Vamos a trabajar con la librería Spacy para limpiar los textos de signos de puntuación y caracteres especiales."
      ]
    },
    {
      "cell_type": "code",
      "execution_count": 71,
      "metadata": {},
      "outputs": [],
      "source": [
        "#Instancio nlp\n",
        "nlp = spacy.load(\"en_core_web_sm\")"
      ]
    },
    {
      "cell_type": "code",
      "execution_count": 81,
      "metadata": {},
      "outputs": [],
      "source": [
        "def clean_text(text):\n",
        "  clean_text = []\n",
        "  for token in nlp(text):\n",
        "    if (\n",
        "        not token.is_stop\n",
        "        and not token.is_punct\n",
        "        \n",
        "    ):\n",
        "        clean_text.append(token.lemma_.lower())\n",
        "\n",
        "  return \" \".join(clean_text)"
      ]
    },
    {
      "cell_type": "code",
      "execution_count": 82,
      "metadata": {},
      "outputs": [],
      "source": [
        "# Tarda 10 minutos\n",
        "df['text_clean']=df['text'].astype(str).apply(clean_text)"
      ]
    },
    {
      "cell_type": "markdown",
      "metadata": {},
      "source": [
        "Visualizamos con una wordcloud la frecuencia de palabras en las reviews."
      ]
    },
    {
      "cell_type": "code",
      "execution_count": 83,
      "metadata": {},
      "outputs": [],
      "source": [
        "from wordcloud import WordCloud, STOPWORDS\n",
        "from scipy import stats\n",
        "\n",
        "%matplotlib inline\n",
        "def cloud(data,backgroundcolor = 'black', width = 800, height = 600):\n",
        "    wordcloud = WordCloud(stopwords = STOPWORDS, background_color = backgroundcolor,\n",
        "                         width = width, height = height).generate(data)\n",
        "    plt.figure(figsize = (15, 10))\n",
        "    plt.imshow(wordcloud)\n",
        "    plt.axis(\"off\")\n",
        "    plt.show()"
      ]
    },
    {
      "cell_type": "code",
      "execution_count": 84,
      "metadata": {},
      "outputs": [
        {
          "data": {
            "image/png": "[encoded data removed]",
            "text/plain": [
              "<Figure size 1080x720 with 1 Axes>"
            ]
          },
          "metadata": {
            "needs_background": "light"
          },
          "output_type": "display_data"
        }
      ],
      "source": [
        "cloud(' '.join(df['text_clean']))"
      ]
    },
    {
      "cell_type": "markdown",
      "metadata": {},
      "source": [
        "Agregamos stop words????"
      ]
    },
    {
      "cell_type": "code",
      "execution_count": null,
      "metadata": {},
      "outputs": [],
      "source": [
        "# nlp.Defaults.stop_words.add(\"test\")"
      ]
    },
    {
      "cell_type": "markdown",
      "metadata": {},
      "source": [
        "✅ Visualizamos la frecuencia de palabras y las clases del target."
      ]
    },
    {
      "cell_type": "code",
      "execution_count": 32,
      "metadata": {},
      "outputs": [],
      "source": [
        "import plotly.express as px"
      ]
    },
    {
      "cell_type": "code",
      "execution_count": 85,
      "metadata": {},
      "outputs": [
        {
          "name": "stderr",
          "output_type": "stream",
          "text": [
            "c:\\Users\\Asus\\anaconda3\\lib\\site-packages\\plotly\\express\\_core.py:1637: FutureWarning:\n",
            "\n",
            "The frame.append method is deprecated and will be removed from pandas in a future version. Use pandas.concat instead.\n",
            "\n"
          ]
        },
        {
          "data": {
            "application/vnd.plotly.v1+json": {
              "config": {
                "plotlyServerURL": "https://plot.ly"
              },
              "data": [
                {
                  "branchvalues": "total",
                  "domain": {
                    "x": [
                      0,
                      1
                    ],
                    "y": [
                      0,
                      1
                    ]
                  },
                  "hovertemplate": "labels=%{label}<br>0=%{value}<br>parent=%{parent}<br>id=%{id}<extra></extra>",
                  "ids": [
                    "$",
                    "10",
                    "2",
                    "3",
                    "4",
                    "5",
                    "actually",
                    "airport",
                    "amazing",
                    "appetizer",
                    "area",
                    "ask",
                    "atmosphere",
                    "away",
                    "awesome",
                    "bad",
                    "bar",
                    "beer",
                    "big",
                    "bit",
                    "bread",
                    "breakfast",
                    "bring",
                    "burger",
                    "business",
                    "busy",
                    "buy",
                    "cake",
                    "call",
                    "car",
                    "change",
                    "charlotte",
                    "cheap",
                    "check",
                    "cheese",
                    "chicken",
                    "choice",
                    "clean",
                    "close",
                    "coffee",
                    "come",
                    "cook",
                    "customer",
                    "day",
                    "decent",
                    "decide",
                    "definitely",
                    "delicious",
                    "dessert",
                    "different",
                    "dinner",
                    "dish",
                    "drink",
                    "eat",
                    "end",
                    "enjoy",
                    "excellent",
                    "expect",
                    "experience",
                    "family",
                    "fast",
                    "favorite",
                    "feel",
                    "find",
                    "flavor",
                    "food",
                    "free",
                    "fresh",
                    "friend",
                    "friendly",
                    "fry",
                    "fun",
                    "get",
                    "give",
                    "go",
                    "good",
                    "great",
                    "guy",
                    "half",
                    "happy",
                    "help",
                    "high",
                    "home",
                    "hot",
                    "hotel",
                    "hour",
                    "house",
                    "huge",
                    "inside",
                    "italian",
                    "item",
                    "kind",
                    "know",
                    "large",
                    "leave",
                    "let",
                    "like",
                    "line",
                    "little",
                    "live",
                    "location",
                    "long",
                    "look",
                    "lot",
                    "love",
                    "lunch",
                    "make",
                    "maybe",
                    "meal",
                    "meat",
                    "menu",
                    "minute",
                    "need",
                    "new",
                    "nice",
                    "night",
                    "offer",
                    "ok",
                    "old",
                    "open",
                    "option",
                    "order",
                    "outside",
                    "overall",
                    "park",
                    "parking",
                    "pasta",
                    "pay",
                    "people",
                    "perfect",
                    "pick",
                    "pittsburgh",
                    "pizza",
                    "place",
                    "point",
                    "portion",
                    "potato",
                    "pretty",
                    "price",
                    "probably",
                    "quality",
                    "recommend",
                    "restaurant",
                    "return",
                    "review",
                    "right",
                    "roll",
                    "room",
                    "run",
                    "salad",
                    "sandwich",
                    "sauce",
                    "say",
                    "seat",
                    "see",
                    "selection",
                    "serve",
                    "server",
                    "service",
                    "shop",
                    "shrimp",
                    "sit",
                    "small",
                    "soup",
                    "special",
                    "spot",
                    "staff",
                    "star",
                    "start",
                    "stay",
                    "steak",
                    "stop",
                    "store",
                    "stuff",
                    "super",
                    "sure",
                    "sushi",
                    "sweet",
                    "table",
                    "take",
                    "taste",
                    "tasty",
                    "tell",
                    "thing",
                    "think",
                    "time",
                    "try",
                    "usually",
                    "visit",
                    "wait",
                    "waitress",
                    "walk",
                    "want",
                    "way",
                    "week",
                    "well",
                    "wine",
                    "work",
                    "worth",
                    "year"
                  ],
                  "labels": [
                    "$",
                    "10",
                    "2",
                    "3",
                    "4",
                    "5",
                    "actually",
                    "airport",
                    "amazing",
                    "appetizer",
                    "area",
                    "ask",
                    "atmosphere",
                    "away",
                    "awesome",
                    "bad",
                    "bar",
                    "beer",
                    "big",
                    "bit",
                    "bread",
                    "breakfast",
                    "bring",
                    "burger",
                    "business",
                    "busy",
                    "buy",
                    "cake",
                    "call",
                    "car",
                    "change",
                    "charlotte",
                    "cheap",
                    "check",
                    "cheese",
                    "chicken",
                    "choice",
                    "clean",
                    "close",
                    "coffee",
                    "come",
                    "cook",
                    "customer",
                    "day",
                    "decent",
                    "decide",
                    "definitely",
                    "delicious",
                    "dessert",
                    "different",
                    "dinner",
                    "dish",
                    "drink",
                    "eat",
                    "end",
                    "enjoy",
                    "excellent",
                    "expect",
                    "experience",
                    "family",
                    "fast",
                    "favorite",
                    "feel",
                    "find",
                    "flavor",
                    "food",
                    "free",
                    "fresh",
                    "friend",
                    "friendly",
                    "fry",
                    "fun",
                    "get",
                    "give",
                    "go",
                    "good",
                    "great",
                    "guy",
                    "half",
                    "happy",
                    "help",
                    "high",
                    "home",
                    "hot",
                    "hotel",
                    "hour",
                    "house",
                    "huge",
                    "inside",
                    "italian",
                    "item",
                    "kind",
                    "know",
                    "large",
                    "leave",
                    "let",
                    "like",
                    "line",
                    "little",
                    "live",
                    "location",
                    "long",
                    "look",
                    "lot",
                    "love",
                    "lunch",
                    "make",
                    "maybe",
                    "meal",
                    "meat",
                    "menu",
                    "minute",
                    "need",
                    "new",
                    "nice",
                    "night",
                    "offer",
                    "ok",
                    "old",
                    "open",
                    "option",
                    "order",
                    "outside",
                    "overall",
                    "park",
                    "parking",
                    "pasta",
                    "pay",
                    "people",
                    "perfect",
                    "pick",
                    "pittsburgh",
                    "pizza",
                    "place",
                    "point",
                    "portion",
                    "potato",
                    "pretty",
                    "price",
                    "probably",
                    "quality",
                    "recommend",
                    "restaurant",
                    "return",
                    "review",
                    "right",
                    "roll",
                    "room",
                    "run",
                    "salad",
                    "sandwich",
                    "sauce",
                    "say",
                    "seat",
                    "see",
                    "selection",
                    "serve",
                    "server",
                    "service",
                    "shop",
                    "shrimp",
                    "sit",
                    "small",
                    "soup",
                    "special",
                    "spot",
                    "staff",
                    "star",
                    "start",
                    "stay",
                    "steak",
                    "stop",
                    "store",
                    "stuff",
                    "super",
                    "sure",
                    "sushi",
                    "sweet",
                    "table",
                    "take",
                    "taste",
                    "tasty",
                    "tell",
                    "thing",
                    "think",
                    "time",
                    "try",
                    "usually",
                    "visit",
                    "wait",
                    "waitress",
                    "walk",
                    "want",
                    "way",
                    "week",
                    "well",
                    "wine",
                    "work",
                    "worth",
                    "year"
                  ],
                  "name": "",
                  "parents": [
                    "",
                    "",
                    "",
                    "",
                    "",
                    "",
                    "",
                    "",
                    "",
                    "",
                    "",
                    "",
                    "",
                    "",
                    "",
                    "",
                    "",
                    "",
                    "",
                    "",
                    "",
                    "",
                    "",
                    "",
                    "",
                    "",
                    "",
                    "",
                    "",
                    "",
                    "",
                    "",
                    "",
                    "",
                    "",
                    "",
                    "",
                    "",
                    "",
                    "",
                    "",
                    "",
                    "",
                    "",
                    "",
                    "",
                    "",
                    "",
                    "",
                    "",
                    "",
                    "",
                    "",
                    "",
                    "",
                    "",
                    "",
                    "",
                    "",
                    "",
                    "",
                    "",
                    "",
                    "",
                    "",
                    "",
                    "",
                    "",
                    "",
                    "",
                    "",
                    "",
                    "",
                    "",
                    "",
                    "",
                    "",
                    "",
                    "",
                    "",
                    "",
                    "",
                    "",
                    "",
                    "",
                    "",
                    "",
                    "",
                    "",
                    "",
                    "",
                    "",
                    "",
                    "",
                    "",
                    "",
                    "",
                    "",
                    "",
                    "",
                    "",
                    "",
                    "",
                    "",
                    "",
                    "",
                    "",
                    "",
                    "",
                    "",
                    "",
                    "",
                    "",
                    "",
                    "",
                    "",
                    "",
                    "",
                    "",
                    "",
                    "",
                    "",
                    "",
                    "",
                    "",
                    "",
                    "",
                    "",
                    "",
                    "",
                    "",
                    "",
                    "",
                    "",
                    "",
                    "",
                    "",
                    "",
                    "",
                    "",
                    "",
                    "",
                    "",
                    "",
                    "",
                    "",
                    "",
                    "",
                    "",
                    "",
                    "",
                    "",
                    "",
                    "",
                    "",
                    "",
                    "",
                    "",
                    "",
                    "",
                    "",
                    "",
                    "",
                    "",
                    "",
                    "",
                    "",
                    "",
                    "",
                    "",
                    "",
                    "",
                    "",
                    "",
                    "",
                    "",
                    "",
                    "",
                    "",
                    "",
                    "",
                    "",
                    "",
                    "",
                    "",
                    "",
                    "",
                    "",
                    "",
                    "",
                    "",
                    "",
                    "",
                    "",
                    "",
                    "",
                    "",
                    "",
                    "",
                    ""
                  ],
                  "textinfo": "label+value",
                  "type": "treemap",
                  "values": [
                    5595,
                    1603,
                    2520,
                    2181,
                    1651,
                    2102,
                    1746,
                    2257,
                    2396,
                    1428,
                    3150,
                    3708,
                    1843,
                    1679,
                    1906,
                    3774,
                    4597,
                    3390,
                    2651,
                    2693,
                    2262,
                    1713,
                    2129,
                    1927,
                    1591,
                    1416,
                    1602,
                    1532,
                    1640,
                    2196,
                    1332,
                    3112,
                    1387,
                    2625,
                    3917,
                    3972,
                    1334,
                    2140,
                    1824,
                    2027,
                    8812,
                    1814,
                    2162,
                    4373,
                    1499,
                    1532,
                    3381,
                    3381,
                    1526,
                    1794,
                    2832,
                    2460,
                    3743,
                    5320,
                    2184,
                    2719,
                    1920,
                    1901,
                    4020,
                    1542,
                    1325,
                    2425,
                    3426,
                    4943,
                    1931,
                    15215,
                    1869,
                    2528,
                    3029,
                    3963,
                    2576,
                    1352,
                    7124,
                    2548,
                    8652,
                    20577,
                    12118,
                    1560,
                    1435,
                    1641,
                    1489,
                    1615,
                    2402,
                    2152,
                    1941,
                    2759,
                    1428,
                    1679,
                    1373,
                    1526,
                    1702,
                    1793,
                    5035,
                    2038,
                    2810,
                    1697,
                    11923,
                    1675,
                    4819,
                    1758,
                    2622,
                    2763,
                    5586,
                    3893,
                    5665,
                    3008,
                    1877,
                    1499,
                    3316,
                    1774,
                    3748,
                    2947,
                    3914,
                    2746,
                    6169,
                    3991,
                    1865,
                    1594,
                    2366,
                    1685,
                    1752,
                    9055,
                    1363,
                    1586,
                    1450,
                    2014,
                    1433,
                    2048,
                    4497,
                    1523,
                    1465,
                    3610,
                    3653,
                    16217,
                    1402,
                    1405,
                    1414,
                    4374,
                    5036,
                    1671,
                    1709,
                    2730,
                    5885,
                    1421,
                    2588,
                    3171,
                    1727,
                    3637,
                    1475,
                    3254,
                    2891,
                    3264,
                    3751,
                    1912,
                    1898,
                    2569,
                    2526,
                    1995,
                    9015,
                    1917,
                    1357,
                    2356,
                    2913,
                    1406,
                    2506,
                    1555,
                    4404,
                    2866,
                    1990,
                    1853,
                    1481,
                    2420,
                    2812,
                    1349,
                    1523,
                    2750,
                    1406,
                    1645,
                    3696,
                    3993,
                    2939,
                    1538,
                    3488,
                    4234,
                    4967,
                    11808,
                    6239,
                    1610,
                    3003,
                    4672,
                    1701,
                    3025,
                    5224,
                    3622,
                    1860,
                    3810,
                    1547,
                    3846,
                    1884,
                    3516
                  ]
                }
              ],
              "layout": {
                "legend": {
                  "tracegroupgap": 0
                },
                "margin": {
                  "t": 60
                },
                "template": {
                  "data": {
                    "bar": [
                      {
                        "error_x": {
                          "color": "#2a3f5f"
                        },
                        "error_y": {
                          "color": "#2a3f5f"
                        },
                        "marker": {
                          "line": {
                            "color": "#E5ECF6",
                            "width": 0.5
                          },
                          "pattern": {
                            "fillmode": "overlay",
                            "size": 10,
                            "solidity": 0.2
                          }
                        },
                        "type": "bar"
                      }
                    ],
                    "barpolar": [
                      {
                        "marker": {
                          "line": {
                            "color": "#E5ECF6",
                            "width": 0.5
                          },
                          "pattern": {
                            "fillmode": "overlay",
                            "size": 10,
                            "solidity": 0.2
                          }
                        },
                        "type": "barpolar"
                      }
                    ],
                    "carpet": [
                      {
                        "aaxis": {
                          "endlinecolor": "#2a3f5f",
                          "gridcolor": "white",
                          "linecolor": "white",
                          "minorgridcolor": "white",
                          "startlinecolor": "#2a3f5f"
                        },
                        "baxis": {
                          "endlinecolor": "#2a3f5f",
                          "gridcolor": "white",
                          "linecolor": "white",
                          "minorgridcolor": "white",
                          "startlinecolor": "#2a3f5f"
                        },
                        "type": "carpet"
                      }
                    ],
                    "choropleth": [
                      {
                        "colorbar": {
                          "outlinewidth": 0,
                          "ticks": ""
                        },
                        "type": "choropleth"
                      }
                    ],
                    "contour": [
                      {
                        "colorbar": {
                          "outlinewidth": 0,
                          "ticks": ""
                        },
                        "colorscale": [
                          [
                            0,
                            "#0d0887"
                          ],
                          [
                            0.1111111111111111,
                            "#46039f"
                          ],
                          [
                            0.2222222222222222,
                            "#7201a8"
                          ],
                          [
                            0.3333333333333333,
                            "#9c179e"
                          ],
                          [
                            0.4444444444444444,
                            "#bd3786"
                          ],
                          [
                            0.5555555555555556,
                            "#d8576b"
                          ],
                          [
                            0.6666666666666666,
                            "#ed7953"
                          ],
                          [
                            0.7777777777777778,
                            "#fb9f3a"
                          ],
                          [
                            0.8888888888888888,
                            "#fdca26"
                          ],
                          [
                            1,
                            "#f0f921"
                          ]
                        ],
                        "type": "contour"
                      }
                    ],
                    "contourcarpet": [
                      {
                        "colorbar": {
                          "outlinewidth": 0,
                          "ticks": ""
                        },
                        "type": "contourcarpet"
                      }
                    ],
                    "heatmap": [
                      {
                        "colorbar": {
                          "outlinewidth": 0,
                          "ticks": ""
                        },
                        "colorscale": [
                          [
                            0,
                            "#0d0887"
                          ],
                          [
                            0.1111111111111111,
                            "#46039f"
                          ],
                          [
                            0.2222222222222222,
                            "#7201a8"
                          ],
                          [
                            0.3333333333333333,
                            "#9c179e"
                          ],
                          [
                            0.4444444444444444,
                            "#bd3786"
                          ],
                          [
                            0.5555555555555556,
                            "#d8576b"
                          ],
                          [
                            0.6666666666666666,
                            "#ed7953"
                          ],
                          [
                            0.7777777777777778,
                            "#fb9f3a"
                          ],
                          [
                            0.8888888888888888,
                            "#fdca26"
                          ],
                          [
                            1,
                            "#f0f921"
                          ]
                        ],
                        "type": "heatmap"
                      }
                    ],
                    "heatmapgl": [
                      {
                        "colorbar": {
                          "outlinewidth": 0,
                          "ticks": ""
                        },
                        "colorscale": [
                          [
                            0,
                            "#0d0887"
                          ],
                          [
                            0.1111111111111111,
                            "#46039f"
                          ],
                          [
                            0.2222222222222222,
                            "#7201a8"
                          ],
                          [
                            0.3333333333333333,
                            "#9c179e"
                          ],
                          [
                            0.4444444444444444,
                            "#bd3786"
                          ],
                          [
                            0.5555555555555556,
                            "#d8576b"
                          ],
                          [
                            0.6666666666666666,
                            "#ed7953"
                          ],
                          [
                            0.7777777777777778,
                            "#fb9f3a"
                          ],
                          [
                            0.8888888888888888,
                            "#fdca26"
                          ],
                          [
                            1,
                            "#f0f921"
                          ]
                        ],
                        "type": "heatmapgl"
                      }
                    ],
                    "histogram": [
                      {
                        "marker": {
                          "pattern": {
                            "fillmode": "overlay",
                            "size": 10,
                            "solidity": 0.2
                          }
                        },
                        "type": "histogram"
                      }
                    ],
                    "histogram2d": [
                      {
                        "colorbar": {
                          "outlinewidth": 0,
                          "ticks": ""
                        },
                        "colorscale": [
                          [
                            0,
                            "#0d0887"
                          ],
                          [
                            0.1111111111111111,
                            "#46039f"
                          ],
                          [
                            0.2222222222222222,
                            "#7201a8"
                          ],
                          [
                            0.3333333333333333,
                            "#9c179e"
                          ],
                          [
                            0.4444444444444444,
                            "#bd3786"
                          ],
                          [
                            0.5555555555555556,
                            "#d8576b"
                          ],
                          [
                            0.6666666666666666,
                            "#ed7953"
                          ],
                          [
                            0.7777777777777778,
                            "#fb9f3a"
                          ],
                          [
                            0.8888888888888888,
                            "#fdca26"
                          ],
                          [
                            1,
                            "#f0f921"
                          ]
                        ],
                        "type": "histogram2d"
                      }
                    ],
                    "histogram2dcontour": [
                      {
                        "colorbar": {
                          "outlinewidth": 0,
                          "ticks": ""
                        },
                        "colorscale": [
                          [
                            0,
                            "#0d0887"
                          ],
                          [
                            0.1111111111111111,
                            "#46039f"
                          ],
                          [
                            0.2222222222222222,
                            "#7201a8"
                          ],
                          [
                            0.3333333333333333,
                            "#9c179e"
                          ],
                          [
                            0.4444444444444444,
                            "#bd3786"
                          ],
                          [
                            0.5555555555555556,
                            "#d8576b"
                          ],
                          [
                            0.6666666666666666,
                            "#ed7953"
                          ],
                          [
                            0.7777777777777778,
                            "#fb9f3a"
                          ],
                          [
                            0.8888888888888888,
                            "#fdca26"
                          ],
                          [
                            1,
                            "#f0f921"
                          ]
                        ],
                        "type": "histogram2dcontour"
                      }
                    ],
                    "mesh3d": [
                      {
                        "colorbar": {
                          "outlinewidth": 0,
                          "ticks": ""
                        },
                        "type": "mesh3d"
                      }
                    ],
                    "parcoords": [
                      {
                        "line": {
                          "colorbar": {
                            "outlinewidth": 0,
                            "ticks": ""
                          }
                        },
                        "type": "parcoords"
                      }
                    ],
                    "pie": [
                      {
                        "automargin": true,
                        "type": "pie"
                      }
                    ],
                    "scatter": [
                      {
                        "marker": {
                          "colorbar": {
                            "outlinewidth": 0,
                            "ticks": ""
                          }
                        },
                        "type": "scatter"
                      }
                    ],
                    "scatter3d": [
                      {
                        "line": {
                          "colorbar": {
                            "outlinewidth": 0,
                            "ticks": ""
                          }
                        },
                        "marker": {
                          "colorbar": {
                            "outlinewidth": 0,
                            "ticks": ""
                          }
                        },
                        "type": "scatter3d"
                      }
                    ],
                    "scattercarpet": [
                      {
                        "marker": {
                          "colorbar": {
                            "outlinewidth": 0,
                            "ticks": ""
                          }
                        },
                        "type": "scattercarpet"
                      }
                    ],
                    "scattergeo": [
                      {
                        "marker": {
                          "colorbar": {
                            "outlinewidth": 0,
                            "ticks": ""
                          }
                        },
                        "type": "scattergeo"
                      }
                    ],
                    "scattergl": [
                      {
                        "marker": {
                          "colorbar": {
                            "outlinewidth": 0,
                            "ticks": ""
                          }
                        },
                        "type": "scattergl"
                      }
                    ],
                    "scattermapbox": [
                      {
                        "marker": {
                          "colorbar": {
                            "outlinewidth": 0,
                            "ticks": ""
                          }
                        },
                        "type": "scattermapbox"
                      }
                    ],
                    "scatterpolar": [
                      {
                        "marker": {
                          "colorbar": {
                            "outlinewidth": 0,
                            "ticks": ""
                          }
                        },
                        "type": "scatterpolar"
                      }
                    ],
                    "scatterpolargl": [
                      {
                        "marker": {
                          "colorbar": {
                            "outlinewidth": 0,
                            "ticks": ""
                          }
                        },
                        "type": "scatterpolargl"
                      }
                    ],
                    "scatterternary": [
                      {
                        "marker": {
                          "colorbar": {
                            "outlinewidth": 0,
                            "ticks": ""
                          }
                        },
                        "type": "scatterternary"
                      }
                    ],
                    "surface": [
                      {
                        "colorbar": {
                          "outlinewidth": 0,
                          "ticks": ""
                        },
                        "colorscale": [
                          [
                            0,
                            "#0d0887"
                          ],
                          [
                            0.1111111111111111,
                            "#46039f"
                          ],
                          [
                            0.2222222222222222,
                            "#7201a8"
                          ],
                          [
                            0.3333333333333333,
                            "#9c179e"
                          ],
                          [
                            0.4444444444444444,
                            "#bd3786"
                          ],
                          [
                            0.5555555555555556,
                            "#d8576b"
                          ],
                          [
                            0.6666666666666666,
                            "#ed7953"
                          ],
                          [
                            0.7777777777777778,
                            "#fb9f3a"
                          ],
                          [
                            0.8888888888888888,
                            "#fdca26"
                          ],
                          [
                            1,
                            "#f0f921"
                          ]
                        ],
                        "type": "surface"
                      }
                    ],
                    "table": [
                      {
                        "cells": {
                          "fill": {
                            "color": "#EBF0F8"
                          },
                          "line": {
                            "color": "white"
                          }
                        },
                        "header": {
                          "fill": {
                            "color": "#C8D4E3"
                          },
                          "line": {
                            "color": "white"
                          }
                        },
                        "type": "table"
                      }
                    ]
                  },
                  "layout": {
                    "annotationdefaults": {
                      "arrowcolor": "#2a3f5f",
                      "arrowhead": 0,
                      "arrowwidth": 1
                    },
                    "autotypenumbers": "strict",
                    "coloraxis": {
                      "colorbar": {
                        "outlinewidth": 0,
                        "ticks": ""
                      }
                    },
                    "colorscale": {
                      "diverging": [
                        [
                          0,
                          "#8e0152"
                        ],
                        [
                          0.1,
                          "#c51b7d"
                        ],
                        [
                          0.2,
                          "#de77ae"
                        ],
                        [
                          0.3,
                          "#f1b6da"
                        ],
                        [
                          0.4,
                          "#fde0ef"
                        ],
                        [
                          0.5,
                          "#f7f7f7"
                        ],
                        [
                          0.6,
                          "#e6f5d0"
                        ],
                        [
                          0.7,
                          "#b8e186"
                        ],
                        [
                          0.8,
                          "#7fbc41"
                        ],
                        [
                          0.9,
                          "#4d9221"
                        ],
                        [
                          1,
                          "#276419"
                        ]
                      ],
                      "sequential": [
                        [
                          0,
                          "#0d0887"
                        ],
                        [
                          0.1111111111111111,
                          "#46039f"
                        ],
                        [
                          0.2222222222222222,
                          "#7201a8"
                        ],
                        [
                          0.3333333333333333,
                          "#9c179e"
                        ],
                        [
                          0.4444444444444444,
                          "#bd3786"
                        ],
                        [
                          0.5555555555555556,
                          "#d8576b"
                        ],
                        [
                          0.6666666666666666,
                          "#ed7953"
                        ],
                        [
                          0.7777777777777778,
                          "#fb9f3a"
                        ],
                        [
                          0.8888888888888888,
                          "#fdca26"
                        ],
                        [
                          1,
                          "#f0f921"
                        ]
                      ],
                      "sequentialminus": [
                        [
                          0,
                          "#0d0887"
                        ],
                        [
                          0.1111111111111111,
                          "#46039f"
                        ],
                        [
                          0.2222222222222222,
                          "#7201a8"
                        ],
                        [
                          0.3333333333333333,
                          "#9c179e"
                        ],
                        [
                          0.4444444444444444,
                          "#bd3786"
                        ],
                        [
                          0.5555555555555556,
                          "#d8576b"
                        ],
                        [
                          0.6666666666666666,
                          "#ed7953"
                        ],
                        [
                          0.7777777777777778,
                          "#fb9f3a"
                        ],
                        [
                          0.8888888888888888,
                          "#fdca26"
                        ],
                        [
                          1,
                          "#f0f921"
                        ]
                      ]
                    },
                    "colorway": [
                      "#636efa",
                      "#EF553B",
                      "#00cc96",
                      "#ab63fa",
                      "#FFA15A",
                      "#19d3f3",
                      "#FF6692",
                      "#B6E880",
                      "#FF97FF",
                      "#FECB52"
                    ],
                    "font": {
                      "color": "#2a3f5f"
                    },
                    "geo": {
                      "bgcolor": "white",
                      "lakecolor": "white",
                      "landcolor": "#E5ECF6",
                      "showlakes": true,
                      "showland": true,
                      "subunitcolor": "white"
                    },
                    "hoverlabel": {
                      "align": "left"
                    },
                    "hovermode": "closest",
                    "mapbox": {
                      "style": "light"
                    },
                    "paper_bgcolor": "white",
                    "plot_bgcolor": "#E5ECF6",
                    "polar": {
                      "angularaxis": {
                        "gridcolor": "white",
                        "linecolor": "white",
                        "ticks": ""
                      },
                      "bgcolor": "#E5ECF6",
                      "radialaxis": {
                        "gridcolor": "white",
                        "linecolor": "white",
                        "ticks": ""
                      }
                    },
                    "scene": {
                      "xaxis": {
                        "backgroundcolor": "#E5ECF6",
                        "gridcolor": "white",
                        "gridwidth": 2,
                        "linecolor": "white",
                        "showbackground": true,
                        "ticks": "",
                        "zerolinecolor": "white"
                      },
                      "yaxis": {
                        "backgroundcolor": "#E5ECF6",
                        "gridcolor": "white",
                        "gridwidth": 2,
                        "linecolor": "white",
                        "showbackground": true,
                        "ticks": "",
                        "zerolinecolor": "white"
                      },
                      "zaxis": {
                        "backgroundcolor": "#E5ECF6",
                        "gridcolor": "white",
                        "gridwidth": 2,
                        "linecolor": "white",
                        "showbackground": true,
                        "ticks": "",
                        "zerolinecolor": "white"
                      }
                    },
                    "shapedefaults": {
                      "line": {
                        "color": "#2a3f5f"
                      }
                    },
                    "ternary": {
                      "aaxis": {
                        "gridcolor": "white",
                        "linecolor": "white",
                        "ticks": ""
                      },
                      "baxis": {
                        "gridcolor": "white",
                        "linecolor": "white",
                        "ticks": ""
                      },
                      "bgcolor": "#E5ECF6",
                      "caxis": {
                        "gridcolor": "white",
                        "linecolor": "white",
                        "ticks": ""
                      }
                    },
                    "title": {
                      "x": 0.05
                    },
                    "xaxis": {
                      "automargin": true,
                      "gridcolor": "white",
                      "linecolor": "white",
                      "ticks": "",
                      "title": {
                        "standoff": 15
                      },
                      "zerolinecolor": "white",
                      "zerolinewidth": 2
                    },
                    "yaxis": {
                      "automargin": true,
                      "gridcolor": "white",
                      "linecolor": "white",
                      "ticks": "",
                      "title": {
                        "standoff": 15
                      },
                      "zerolinecolor": "white",
                      "zerolinewidth": 2
                    }
                  }
                },
                "title": {
                  "font": {
                    "size": 20
                  },
                  "text": "Top 200 palabras más frecuentes",
                  "x": 0.5
                }
              }
            }
          },
          "metadata": {},
          "output_type": "display_data"
        }
      ],
      "source": [
        "# tardo 3 minutos\n",
        "FreqOfWords = df['text_clean'].str.split(expand=True).stack().value_counts()\n",
        "FreqOfWords_top200 = FreqOfWords[:200]\n",
        "\n",
        "fig = px.treemap(FreqOfWords_top200, path=[FreqOfWords_top200.index], values=0)\n",
        "fig.update_layout(title_text='Top 200 palabras más frecuentes',\n",
        "                  title_x=0.5, title_font=dict(size=20)\n",
        "                  )\n",
        "fig.update_traces(textinfo=\"label+value\")\n",
        "fig.show()"
      ]
    },
    {
      "cell_type": "markdown",
      "metadata": {},
      "source": [
        "### NER"
      ]
    },
    {
      "cell_type": "markdown",
      "metadata": {},
      "source": [
        "Named entity recognition (NER) es una técnica de NLP que automáticamente identifica entidades en un texto y las clasifica en alguna categoría predefinida.\n",
        "\n",
        " Una entidad puede ser:\n",
        "- Nombres de personas\n",
        "- Organizaciones\n",
        "- Ubicaciones\n",
        "- Fechas\n",
        "- Cantidades\n",
        "- Valores monetarios\n",
        "- Porcentajes\n",
        "- Y más..\n",
        "\n",
        "Comenzaremos viendo como podemos extraer entidades de un texto con spacy.\n",
        "\n",
        "Primero que nada debemos importar spacy y cargar el modelo que querramos usar, en este caso, inglés."
      ]
    },
    {
      "cell_type": "markdown",
      "metadata": {},
      "source": [
        "Definir una función que recibiendo un texto (str), retorne un listado de entidades (solo el nombre de la entidad, es decir, .text)"
      ]
    },
    {
      "cell_type": "code",
      "execution_count": 86,
      "metadata": {},
      "outputs": [],
      "source": [
        "def get_entities(text:str):\n",
        "  doc=nlp(text)\n",
        "  ents = []\n",
        "  if doc.ents: \n",
        "    for ent in doc.ents:\n",
        "      ents.append(ent.text)\n",
        "      \n",
        "  return ents"
      ]
    },
    {
      "cell_type": "code",
      "execution_count": 87,
      "metadata": {},
      "outputs": [],
      "source": [
        "df[\"NER\"] = df[\"text_clean\"].apply(get_entities)"
      ]
    },
    {
      "cell_type": "markdown",
      "metadata": {},
      "source": [
        "La siguiente celda, sirve para que cuando imprimamos un dataframe, pandas nos muestre el texto entero y no lo corte con \"...\""
      ]
    },
    {
      "cell_type": "code",
      "execution_count": 35,
      "metadata": {},
      "outputs": [],
      "source": [
        "pd.options.display.max_colwidth = 10000"
      ]
    },
    {
      "cell_type": "code",
      "execution_count": 91,
      "metadata": {},
      "outputs": [
        {
          "data": {
            "text/html": [
              "<div>\n",
              "<style scoped>\n",
              "    .dataframe tbody tr th:only-of-type {\n",
              "        vertical-align: middle;\n",
              "    }\n",
              "\n",
              "    .dataframe tbody tr th {\n",
              "        vertical-align: top;\n",
              "    }\n",
              "\n",
              "    .dataframe thead th {\n",
              "        text-align: right;\n",
              "    }\n",
              "</style>\n",
              "<table border=\"1\" class=\"dataframe\">\n",
              "  <thead>\n",
              "    <tr style=\"text-align: right;\">\n",
              "      <th></th>\n",
              "      <th>text</th>\n",
              "      <th>NER</th>\n",
              "    </tr>\n",
              "  </thead>\n",
              "  <tbody>\n",
              "    <tr>\n",
              "      <th>15442</th>\n",
              "      <td>Full disclosure here, I'm part German, I'm married to a German, I've traveled to Germany once and I really love beer. Ok, so we hit up Waldhorn last night for my dad's 75th birthday and Oktoberfest. We had dinner inside before moving out to the tent. We got some apps to start, potato pancakes &amp; a brats tray. The pancakes w/ apple sauce were fantastic, nice &amp; crispy edges too. Brats were Brats, excellent. I also enjoyed the sauerkraut. For the entree, I ordered the Sauerbraten. It was ok. I didn't care for the spatzle, it was just a little soft for my liking but the red cabbage was tasty &amp; the beef had good flavor but a little over cooked. Next time, I'll go with the brats! For dessert I had the apple strudel. Now this is a dessert!! I'll go back just for the apple strudel anytime, it was that good!  Full of flavor w/ a nice sprinkle of cinnamon on top of everything, including the ice cream. Great presentation too! After dinner we moved to the tent. As some of the others have said, there were lines everywhere. Since we had dinner there, we got into the tent for free but still had to stand in line to buy beer tickets and then another line to buy beer. They moved pretty quickly. Oh, the beer was awesome. I was drinking the Oktoberfest. Lots of people under the tent and all around and everyone was having a good time. All in all, we had great time and it's as close to Germany as you'll find in the Charlotte area.</td>\n",
              "      <td>[german, german, germany, 75th, crispy edge brat, enjoy sauerkraut, dessert apple, germany, charlotte]</td>\n",
              "    </tr>\n",
              "    <tr>\n",
              "      <th>6325</th>\n",
              "      <td>i've always been and always will be a big fan and follower of lineage, tradition, and history.  primanti is living tradition and history.  no matter what, when in the burgh, you gotta have a primanti sandwich.\\n\\nevery town makes there own sandwich differently, their own hotdog differently, their own hamburger differently, their own barbeque, and their own pizza differently.  primanti is known for its pile of meat, stacked with coleslaw and fries on top, sandwiched between two pieces of italian bread.\\n\\nthese sandwiches are HUGE.  honestly i can't eat more than half of one because they are so filling.  this is a great place to satisfy your munchies.  \\n\\nits a great place to come after you've finished your shopping in the strip.</td>\n",
              "      <td>[fry sandwich, italian, half]</td>\n",
              "    </tr>\n",
              "    <tr>\n",
              "      <th>12336</th>\n",
              "      <td>FIVE STARS FOR LYDIA! Want a great waxing experience? Fast, easy, no pain? LYDIA is your answer! She is extremely nice and personable. When it comes to eyebrow waxing she considers what shape would be great for your face.  Bikini and Brazilian waxes are efficient and little pain. \\n\\n I cannot express how much I recommend going to her for all your waxing needs.  Also, she gives a great facial.  I had acne going up and I went to her for facial extraction and it was great.  She was so thorough and detailed.  \\n\\nDon't take my word for it? Call Capristo Salon and ask for an appointment with Lydia.  You will NOT be disappointed!</td>\n",
              "      <td>[brazilian]</td>\n",
              "    </tr>\n",
              "    <tr>\n",
              "      <th>546</th>\n",
              "      <td>First off, I will say that I just moved here from California and was a big patron at the Rockbottom in Long Beach. I came to the Homestead location last night eager to see the beer at this location.\\n\\nNow, Rockbottom is a chain brewery, so a lot was the same... the menu, the food prices (yet beer is cheaper, and I am fine with that). I have always found their food to be pricey, but they use excellent ingredients and it has always been tasty and filling so I am fine with that. The food here was just as good as the Long Beach location, so I have no problem with the chef at all.\\n\\nService was good, our waitress was very friendly and helpful. I wish that they had asked us if we wanted to sit in the bar since happy hour was still going, but that isn't a big thing. Went to the bar to get a drink and had to wait awhile to get the bartender's attention, but he was very friendly and I got a nice welcome from him and others at the bar when they learned I had just moved here... I really enjoyed that.\\n\\nBeer: We got the beer sampler to try the whole list... and, well... I found the dark beers a bit lacking in comparison. The light beer and the wheat were amazing, very impressed. The pale was ok, as was the velvet pale that was one of the specials of the night... but both were way too citrusy. The Uppity IPA was very good... I don't usually like IPAs because the hops overpowers all flavor but the brewer had a good balance. Still, couldn't do a whole glass. I felt the Imperial Stout had a bitter burned taste that was overpowering... I almost want to say the batch had too much chocolate malt in it (not ice cream malt, for the non-homebrewers). The brown and amber were decent, but bland. I ended up getting an actual glass of the light beer and was able to finish it all without forcing it.... one point up on Long Beach, who had a good light but the aftertaste got to you before the glass was empty.\\n\\nI REALLY wanted to try the Das Gut Dopplebock, but they were out. Looks like they will have it in bottles to go soon so I hope I can catch that. Also want to try the Snow Moon Belgian.\\n\\nVerdict: While I was not too impressed with the dark beers, I found the lighter ones very good and I look forward to trying the other seasonal beers. It is a good hour drive south to get there, so I won't be going too often, but I will be back.</td>\n",
              "      <td>[california, moon belgian, one]</td>\n",
              "    </tr>\n",
              "    <tr>\n",
              "      <th>18741</th>\n",
              "      <td>Down from Northern Virginia, and of the discerning palate, we decided to turn to Yelp to identify a decent place to grab dinner downtown.  Relying on Adam D.'s review, we decided to try Mimosa Grill, which was within blocks of our hotel ALOFT.\\n\\nWe were surprised that the place was relatively empty on a Friday night.  But the decor was beautiful, and we were seated immediately.  Greeted by a friendly and helpful waiter, we quickly ordered a mojito that hit the spot.  Upon the recommendation of Adam D., we started off with the hushpuppies, followed by the scallops and the filet.  \\n\\nThe hushpuppies had just the slightest kick to them, and we loved the crawfish and the sauce.  The bread basket contained warm yummy biscuits and cornbread with apricot butter.  Next came our entrees.  The star of this party was the mesquite grilled filet, which was cooked to perfection atop a grit cake.  I could tell that my husband was incredibly envious, so I gave him half.  His scallops were good but paled in comparison to the filet.  Before I forget, we also ordered the grilled zucchini and squash.  They were excellent.  \\n\\nOn a high from our amazing dinner, we decided to share the trio of crème brulee.  Sadly, the dessert fell short.  Otherwise I would have given Mimosa Grill 5 stars.   Although very edible, we could barely differentiate between the three flavors - lemon, ginger and pistachio.\\n\\nIn summary, Mimosa Grill is a must try for anyone who appreciates southern fair with a dash of sophistication.</td>\n",
              "      <td>[virginia, adam d. review, friday, night, adam d. start, filet cook, half, 5]</td>\n",
              "    </tr>\n",
              "    <tr>\n",
              "      <th>16683</th>\n",
              "      <td>This place is located in such a great area! Parking can be a little tricky but other than its awesome. The menu and beer selection had a great range and the staff was friendly and make great suggestions. Also my boyfriends family is from Baton Rouge and this place does a great job of incorporating the Cajun flavor in its foods! I will be back!</td>\n",
              "      <td>[]</td>\n",
              "    </tr>\n",
              "    <tr>\n",
              "      <th>19421</th>\n",
              "      <td>Ok, I told you all that we were on a celebration romp through Charlotte and it ended at The Capital Grille. The hubs out did himself this time :-) \\n\\nLet me begin by thanking our server Alissa, who was cordial, attentive, and upbeat the entire night. It was our first time at Capital Grille and I was so impressed with the ambiance of the restuarant. It looked like there were enough \"suits\" in the place to write a check to clear the federal deficit, but I liked that. The decor had an old world feel blended with a wall street vigor. The hostess was gracious and we were seated immediately and noticed the restaurant was quite busy for a Wednesday night. \\n\\nAlissa explained the chef features for the night and we agreed to try it. We received complimentary champagne and I ordered the smoked salmon as an appetizer. It was a good portion and was served with aioli, capers, chopped onions, and crisp pita triangles. I enjoyed it immensely as smoked salmon is one of my favorites. The hubs ordered a salad, and we ordered the lobster mac-n-cheese and truffle fries for our son, the Gabe-meister (I kept theifing the lobster out of the mac-n-cheese it was soooo good) and the truffle fries were amazing, it had this parmasen flavor to it. I do not eat red meat regularly but wanted to try the feature 4 oz filet medallion at medium with a fennel based sauce. The hubs opted for the 12 oz. filet mignon at medium rare with crab (out of the shell) in butter sauce. Needless to say we enjoyed the meal and left completely satisfied and impressed with Capital Grille. The food was great but it was the service that really impressed, two managers came by and wished me a happy birthday and checked on us to see if everything was ok. VERY NICE TOUCH! :-)\\n\\nFor dessert, we brought our favorite cheesecake creme  iced cake from Harris Teeter, and yes the restaurant was fine with it. We shared cake with Alissa and she enjoyed it as well.\\n\\nAll-in-all, the Capital Grille has managed to produce quality, flavourful food and white glove service as a chain restaurant. We're requesting Alissa next time we visit :-)</td>\n",
              "      <td>[romp charlotte, wednesday, night, lobster mac n cheese truffle, fry son, lobster mac n cheese, truffle, 4, 12]</td>\n",
              "    </tr>\n",
              "    <tr>\n",
              "      <th>24729</th>\n",
              "      <td>If I could give 0 stars I would. Waited in the drive thru for 20 minutes. Only to be told we can't take your order because we don't have a cashier here. Then... When she arrives... We are out of the only thing you wanted.</td>\n",
              "      <td>[0, 20 minute]</td>\n",
              "    </tr>\n",
              "    <tr>\n",
              "      <th>14835</th>\n",
              "      <td>I graduated in 1964, but return regularly to campus to see the tremendous progress made over the years,  The original campus, hand built by priests in the 1870's, has been a work-in-progress--and that is a GOOD thing.  I know many people working on Campus.  And they are great and smart.  The many new buildings are architectural beauties.  But the best and most wonderful thing about Duquesne is \"the people\", both students and staff.  Catholic Duquesne gave Jewish me a GREAT education and wonderful memories.  I am in contact with my fraternity brothers on a regular basis and we all have nothing but wonderful memories of our time on campus.  And we do our part to make Duquesne even better.</td>\n",
              "      <td>[1964, year, priest 1870, catholic, jewish]</td>\n",
              "    </tr>\n",
              "    <tr>\n",
              "      <th>18171</th>\n",
              "      <td>This place is ok.  It can be crowded (meaning you could be waiting) and the service is not great.  The food was fine, but personally I prefer my soul food to be less upscale (read less overpriced).</td>\n",
              "      <td>[]</td>\n",
              "    </tr>\n",
              "  </tbody>\n",
              "</table>\n",
              "</div>"
            ],
            "text/plain": [
              "                                                                                                                                                                                                                                                                                                                                                                                                                                                                                                                                                                                                                                                                                                                                                                                                                                                                                                                                                                                                                                                                                                                                                                                                                                                                                                                                                                                                                                                                                                                                                                                                                                                                                                                                                                                                                                                                                                                                                                                                                                                                                                                                                                                                                                                                                                                                                                                                                                                   text  \\\n",
              "15442                                                                                                                                                                                                                                                                                                                                                                                                                                                                                                                                                                                                                                                                                                                                                                                                                                                                                                                                                           Full disclosure here, I'm part German, I'm married to a German, I've traveled to Germany once and I really love beer. Ok, so we hit up Waldhorn last night for my dad's 75th birthday and Oktoberfest. We had dinner inside before moving out to the tent. We got some apps to start, potato pancakes & a brats tray. The pancakes w/ apple sauce were fantastic, nice & crispy edges too. Brats were Brats, excellent. I also enjoyed the sauerkraut. For the entree, I ordered the Sauerbraten. It was ok. I didn't care for the spatzle, it was just a little soft for my liking but the red cabbage was tasty & the beef had good flavor but a little over cooked. Next time, I'll go with the brats! For dessert I had the apple strudel. Now this is a dessert!! I'll go back just for the apple strudel anytime, it was that good!  Full of flavor w/ a nice sprinkle of cinnamon on top of everything, including the ice cream. Great presentation too! After dinner we moved to the tent. As some of the others have said, there were lines everywhere. Since we had dinner there, we got into the tent for free but still had to stand in line to buy beer tickets and then another line to buy beer. They moved pretty quickly. Oh, the beer was awesome. I was drinking the Oktoberfest. Lots of people under the tent and all around and everyone was having a good time. All in all, we had great time and it's as close to Germany as you'll find in the Charlotte area.   \n",
              "6325                                                                                                                                                                                                                                                                                                                                                                                                                                                                                                                                                                                                                                                                                                                                                                                                                                                                                                                                                                                                                                                                                                                                                                                                                                                                                                                                                                                                                                                                                                                                                                                                                                                                                i've always been and always will be a big fan and follower of lineage, tradition, and history.  primanti is living tradition and history.  no matter what, when in the burgh, you gotta have a primanti sandwich.\\n\\nevery town makes there own sandwich differently, their own hotdog differently, their own hamburger differently, their own barbeque, and their own pizza differently.  primanti is known for its pile of meat, stacked with coleslaw and fries on top, sandwiched between two pieces of italian bread.\\n\\nthese sandwiches are HUGE.  honestly i can't eat more than half of one because they are so filling.  this is a great place to satisfy your munchies.  \\n\\nits a great place to come after you've finished your shopping in the strip.   \n",
              "12336                                                                                                                                                                                                                                                                                                                                                                                                                                                                                                                                                                                                                                                                                                                                                                                                                                                                                                                                                                                                                                                                                                                                                                                                                                                                                                                                                                                                                                                                                                                                                                                                                                                                                                                                                                                          FIVE STARS FOR LYDIA! Want a great waxing experience? Fast, easy, no pain? LYDIA is your answer! She is extremely nice and personable. When it comes to eyebrow waxing she considers what shape would be great for your face.  Bikini and Brazilian waxes are efficient and little pain. \\n\\n I cannot express how much I recommend going to her for all your waxing needs.  Also, she gives a great facial.  I had acne going up and I went to her for facial extraction and it was great.  She was so thorough and detailed.  \\n\\nDon't take my word for it? Call Capristo Salon and ask for an appointment with Lydia.  You will NOT be disappointed!   \n",
              "546    First off, I will say that I just moved here from California and was a big patron at the Rockbottom in Long Beach. I came to the Homestead location last night eager to see the beer at this location.\\n\\nNow, Rockbottom is a chain brewery, so a lot was the same... the menu, the food prices (yet beer is cheaper, and I am fine with that). I have always found their food to be pricey, but they use excellent ingredients and it has always been tasty and filling so I am fine with that. The food here was just as good as the Long Beach location, so I have no problem with the chef at all.\\n\\nService was good, our waitress was very friendly and helpful. I wish that they had asked us if we wanted to sit in the bar since happy hour was still going, but that isn't a big thing. Went to the bar to get a drink and had to wait awhile to get the bartender's attention, but he was very friendly and I got a nice welcome from him and others at the bar when they learned I had just moved here... I really enjoyed that.\\n\\nBeer: We got the beer sampler to try the whole list... and, well... I found the dark beers a bit lacking in comparison. The light beer and the wheat were amazing, very impressed. The pale was ok, as was the velvet pale that was one of the specials of the night... but both were way too citrusy. The Uppity IPA was very good... I don't usually like IPAs because the hops overpowers all flavor but the brewer had a good balance. Still, couldn't do a whole glass. I felt the Imperial Stout had a bitter burned taste that was overpowering... I almost want to say the batch had too much chocolate malt in it (not ice cream malt, for the non-homebrewers). The brown and amber were decent, but bland. I ended up getting an actual glass of the light beer and was able to finish it all without forcing it.... one point up on Long Beach, who had a good light but the aftertaste got to you before the glass was empty.\\n\\nI REALLY wanted to try the Das Gut Dopplebock, but they were out. Looks like they will have it in bottles to go soon so I hope I can catch that. Also want to try the Snow Moon Belgian.\\n\\nVerdict: While I was not too impressed with the dark beers, I found the lighter ones very good and I look forward to trying the other seasonal beers. It is a good hour drive south to get there, so I won't be going too often, but I will be back.   \n",
              "18741                                                                                                                                                                                                                                                                                                                                                                                                                                                                                                                                                                                                                                                                                                                                                                                                                                                                      Down from Northern Virginia, and of the discerning palate, we decided to turn to Yelp to identify a decent place to grab dinner downtown.  Relying on Adam D.'s review, we decided to try Mimosa Grill, which was within blocks of our hotel ALOFT.\\n\\nWe were surprised that the place was relatively empty on a Friday night.  But the decor was beautiful, and we were seated immediately.  Greeted by a friendly and helpful waiter, we quickly ordered a mojito that hit the spot.  Upon the recommendation of Adam D., we started off with the hushpuppies, followed by the scallops and the filet.  \\n\\nThe hushpuppies had just the slightest kick to them, and we loved the crawfish and the sauce.  The bread basket contained warm yummy biscuits and cornbread with apricot butter.  Next came our entrees.  The star of this party was the mesquite grilled filet, which was cooked to perfection atop a grit cake.  I could tell that my husband was incredibly envious, so I gave him half.  His scallops were good but paled in comparison to the filet.  Before I forget, we also ordered the grilled zucchini and squash.  They were excellent.  \\n\\nOn a high from our amazing dinner, we decided to share the trio of crème brulee.  Sadly, the dessert fell short.  Otherwise I would have given Mimosa Grill 5 stars.   Although very edible, we could barely differentiate between the three flavors - lemon, ginger and pistachio.\\n\\nIn summary, Mimosa Grill is a must try for anyone who appreciates southern fair with a dash of sophistication.   \n",
              "16683                                                                                                                                                                                                                                                                                                                                                                                                                                                                                                                                                                                                                                                                                                                                                                                                                                                                                                                                                                                                                                                                                                                                                                                                                                                                                                                                                                                                                                                                                                                                                                                                                                                                                                                                                                                                                                                                                                                                                                                                                                                                                         This place is located in such a great area! Parking can be a little tricky but other than its awesome. The menu and beer selection had a great range and the staff was friendly and make great suggestions. Also my boyfriends family is from Baton Rouge and this place does a great job of incorporating the Cajun flavor in its foods! I will be back!   \n",
              "19421                                                                                                                                                                                                                                                    Ok, I told you all that we were on a celebration romp through Charlotte and it ended at The Capital Grille. The hubs out did himself this time :-) \\n\\nLet me begin by thanking our server Alissa, who was cordial, attentive, and upbeat the entire night. It was our first time at Capital Grille and I was so impressed with the ambiance of the restuarant. It looked like there were enough \"suits\" in the place to write a check to clear the federal deficit, but I liked that. The decor had an old world feel blended with a wall street vigor. The hostess was gracious and we were seated immediately and noticed the restaurant was quite busy for a Wednesday night. \\n\\nAlissa explained the chef features for the night and we agreed to try it. We received complimentary champagne and I ordered the smoked salmon as an appetizer. It was a good portion and was served with aioli, capers, chopped onions, and crisp pita triangles. I enjoyed it immensely as smoked salmon is one of my favorites. The hubs ordered a salad, and we ordered the lobster mac-n-cheese and truffle fries for our son, the Gabe-meister (I kept theifing the lobster out of the mac-n-cheese it was soooo good) and the truffle fries were amazing, it had this parmasen flavor to it. I do not eat red meat regularly but wanted to try the feature 4 oz filet medallion at medium with a fennel based sauce. The hubs opted for the 12 oz. filet mignon at medium rare with crab (out of the shell) in butter sauce. Needless to say we enjoyed the meal and left completely satisfied and impressed with Capital Grille. The food was great but it was the service that really impressed, two managers came by and wished me a happy birthday and checked on us to see if everything was ok. VERY NICE TOUCH! :-)\\n\\nFor dessert, we brought our favorite cheesecake creme  iced cake from Harris Teeter, and yes the restaurant was fine with it. We shared cake with Alissa and she enjoyed it as well.\\n\\nAll-in-all, the Capital Grille has managed to produce quality, flavourful food and white glove service as a chain restaurant. We're requesting Alissa next time we visit :-)   \n",
              "24729                                                                                                                                                                                                                                                                                                                                                                                                                                                                                                                                                                                                                                                                                                                                                                                                                                                                                                                                                                                                                                                                                                                                                                                                                                                                                                                                                                                                                                                                                                                                                                                                                                                                                                                                                                                                                                                                                                                                                                                                                                                                                                                                                                                                                     If I could give 0 stars I would. Waited in the drive thru for 20 minutes. Only to be told we can't take your order because we don't have a cashier here. Then... When she arrives... We are out of the only thing you wanted.   \n",
              "14835                                                                                                                                                                                                                                                                                                                                                                                                                                                                                                                                                                                                                                                                                                                                                                                                                                                                                                                                                                                                                                                                                                                                                                                                                                                                                                                                                                                                                                                                                                                                                                                                                                                                                                                           I graduated in 1964, but return regularly to campus to see the tremendous progress made over the years,  The original campus, hand built by priests in the 1870's, has been a work-in-progress--and that is a GOOD thing.  I know many people working on Campus.  And they are great and smart.  The many new buildings are architectural beauties.  But the best and most wonderful thing about Duquesne is \"the people\", both students and staff.  Catholic Duquesne gave Jewish me a GREAT education and wonderful memories.  I am in contact with my fraternity brothers on a regular basis and we all have nothing but wonderful memories of our time on campus.  And we do our part to make Duquesne even better.   \n",
              "18171                                                                                                                                                                                                                                                                                                                                                                                                                                                                                                                                                                                                                                                                                                                                                                                                                                                                                                                                                                                                                                                                                                                                                                                                                                                                                                                                                                                                                                                                                                                                                                                                                                                                                                                                                                                                                                                                                                                                                                                                                                                                                                                                                                                                                                             This place is ok.  It can be crowded (meaning you could be waiting) and the service is not great.  The food was fine, but personally I prefer my soul food to be less upscale (read less overpriced).   \n",
              "\n",
              "                                                                                                                   NER  \n",
              "15442           [german, german, germany, 75th, crispy edge brat, enjoy sauerkraut, dessert apple, germany, charlotte]  \n",
              "6325                                                                                     [fry sandwich, italian, half]  \n",
              "12336                                                                                                      [brazilian]  \n",
              "546                                                                                    [california, moon belgian, one]  \n",
              "18741                                    [virginia, adam d. review, friday, night, adam d. start, filet cook, half, 5]  \n",
              "16683                                                                                                               []  \n",
              "19421  [romp charlotte, wednesday, night, lobster mac n cheese truffle, fry son, lobster mac n cheese, truffle, 4, 12]  \n",
              "24729                                                                                                   [0, 20 minute]  \n",
              "14835                                                                      [1964, year, priest 1870, catholic, jewish]  \n",
              "18171                                                                                                               []  "
            ]
          },
          "execution_count": 91,
          "metadata": {},
          "output_type": "execute_result"
        }
      ],
      "source": [
        "df[['text', 'NER']].sample(10)"
      ]
    },
    {
      "cell_type": "markdown",
      "metadata": {},
      "source": [
        "EXPLODE.\n",
        "\n",
        "En pandas, la función .explode() nos permite transformar una filas de un dataset que tienen una lista (como nuestra columna NER) en muchas filas (una por elemento en la lista).\n",
        "\n",
        "https://pandas.pydata.org/docs/reference/api/pandas.DataFrame.explode.html\n",
        "\n",
        "Aplicarla a nuestra columna NER pero sin modificar el df original, guardar el resultado en otro df.\n"
      ]
    },
    {
      "cell_type": "code",
      "execution_count": 92,
      "metadata": {},
      "outputs": [
        {
          "data": {
            "text/html": [
              "<div>\n",
              "<style scoped>\n",
              "    .dataframe tbody tr th:only-of-type {\n",
              "        vertical-align: middle;\n",
              "    }\n",
              "\n",
              "    .dataframe tbody tr th {\n",
              "        vertical-align: top;\n",
              "    }\n",
              "\n",
              "    .dataframe thead th {\n",
              "        text-align: right;\n",
              "    }\n",
              "</style>\n",
              "<table border=\"1\" class=\"dataframe\">\n",
              "  <thead>\n",
              "    <tr style=\"text-align: right;\">\n",
              "      <th></th>\n",
              "      <th>user_id</th>\n",
              "      <th>review_id</th>\n",
              "      <th>text</th>\n",
              "      <th>votes.cool</th>\n",
              "      <th>business_id</th>\n",
              "      <th>votes.funny</th>\n",
              "      <th>stars</th>\n",
              "      <th>date</th>\n",
              "      <th>type</th>\n",
              "      <th>votes.useful</th>\n",
              "      <th>text_clean</th>\n",
              "      <th>NER</th>\n",
              "    </tr>\n",
              "  </thead>\n",
              "  <tbody>\n",
              "    <tr>\n",
              "      <th>0</th>\n",
              "      <td>PUFPaY9KxDAcGqfsorJp3Q</td>\n",
              "      <td>Ya85v4eqdd6k9Od8HbQjyA</td>\n",
              "      <td>Mr Hoagie is an institution. Walking in, it does seem like a throwback to 30 years ago, old fashioned menu board, booths out of the 70s, and a large selection of food. Their speciality is the Italian Hoagie, and it is voted the best in the area year after year. I usually order the burger, while the patties are obviously cooked from frozen, all of the other ingredients are very fresh. Overall, its a good alternative to Subway, which is down the road.</td>\n",
              "      <td>0</td>\n",
              "      <td>5UmKMjUEUNdYWqANhGckJw</td>\n",
              "      <td>0</td>\n",
              "      <td>4</td>\n",
              "      <td>2012-08-01</td>\n",
              "      <td>review</td>\n",
              "      <td>0</td>\n",
              "      <td>mr hoagie institution walk like throwback 30 year ago old fashioned menu board booth 70 large selection food speciality italian hoagie vote good area year year usually order burger patty obviously cook frozen ingredient fresh overall good alternative subway road</td>\n",
              "      <td>hoagie</td>\n",
              "    </tr>\n",
              "    <tr>\n",
              "      <th>0</th>\n",
              "      <td>PUFPaY9KxDAcGqfsorJp3Q</td>\n",
              "      <td>Ya85v4eqdd6k9Od8HbQjyA</td>\n",
              "      <td>Mr Hoagie is an institution. Walking in, it does seem like a throwback to 30 years ago, old fashioned menu board, booths out of the 70s, and a large selection of food. Their speciality is the Italian Hoagie, and it is voted the best in the area year after year. I usually order the burger, while the patties are obviously cooked from frozen, all of the other ingredients are very fresh. Overall, its a good alternative to Subway, which is down the road.</td>\n",
              "      <td>0</td>\n",
              "      <td>5UmKMjUEUNdYWqANhGckJw</td>\n",
              "      <td>0</td>\n",
              "      <td>4</td>\n",
              "      <td>2012-08-01</td>\n",
              "      <td>review</td>\n",
              "      <td>0</td>\n",
              "      <td>mr hoagie institution walk like throwback 30 year ago old fashioned menu board booth 70 large selection food speciality italian hoagie vote good area year year usually order burger patty obviously cook frozen ingredient fresh overall good alternative subway road</td>\n",
              "      <td>30 year ago old</td>\n",
              "    </tr>\n",
              "    <tr>\n",
              "      <th>0</th>\n",
              "      <td>PUFPaY9KxDAcGqfsorJp3Q</td>\n",
              "      <td>Ya85v4eqdd6k9Od8HbQjyA</td>\n",
              "      <td>Mr Hoagie is an institution. Walking in, it does seem like a throwback to 30 years ago, old fashioned menu board, booths out of the 70s, and a large selection of food. Their speciality is the Italian Hoagie, and it is voted the best in the area year after year. I usually order the burger, while the patties are obviously cooked from frozen, all of the other ingredients are very fresh. Overall, its a good alternative to Subway, which is down the road.</td>\n",
              "      <td>0</td>\n",
              "      <td>5UmKMjUEUNdYWqANhGckJw</td>\n",
              "      <td>0</td>\n",
              "      <td>4</td>\n",
              "      <td>2012-08-01</td>\n",
              "      <td>review</td>\n",
              "      <td>0</td>\n",
              "      <td>mr hoagie institution walk like throwback 30 year ago old fashioned menu board booth 70 large selection food speciality italian hoagie vote good area year year usually order burger patty obviously cook frozen ingredient fresh overall good alternative subway road</td>\n",
              "      <td>fashioned menu board</td>\n",
              "    </tr>\n",
              "    <tr>\n",
              "      <th>0</th>\n",
              "      <td>PUFPaY9KxDAcGqfsorJp3Q</td>\n",
              "      <td>Ya85v4eqdd6k9Od8HbQjyA</td>\n",
              "      <td>Mr Hoagie is an institution. Walking in, it does seem like a throwback to 30 years ago, old fashioned menu board, booths out of the 70s, and a large selection of food. Their speciality is the Italian Hoagie, and it is voted the best in the area year after year. I usually order the burger, while the patties are obviously cooked from frozen, all of the other ingredients are very fresh. Overall, its a good alternative to Subway, which is down the road.</td>\n",
              "      <td>0</td>\n",
              "      <td>5UmKMjUEUNdYWqANhGckJw</td>\n",
              "      <td>0</td>\n",
              "      <td>4</td>\n",
              "      <td>2012-08-01</td>\n",
              "      <td>review</td>\n",
              "      <td>0</td>\n",
              "      <td>mr hoagie institution walk like throwback 30 year ago old fashioned menu board booth 70 large selection food speciality italian hoagie vote good area year year usually order burger patty obviously cook frozen ingredient fresh overall good alternative subway road</td>\n",
              "      <td>70</td>\n",
              "    </tr>\n",
              "    <tr>\n",
              "      <th>0</th>\n",
              "      <td>PUFPaY9KxDAcGqfsorJp3Q</td>\n",
              "      <td>Ya85v4eqdd6k9Od8HbQjyA</td>\n",
              "      <td>Mr Hoagie is an institution. Walking in, it does seem like a throwback to 30 years ago, old fashioned menu board, booths out of the 70s, and a large selection of food. Their speciality is the Italian Hoagie, and it is voted the best in the area year after year. I usually order the burger, while the patties are obviously cooked from frozen, all of the other ingredients are very fresh. Overall, its a good alternative to Subway, which is down the road.</td>\n",
              "      <td>0</td>\n",
              "      <td>5UmKMjUEUNdYWqANhGckJw</td>\n",
              "      <td>0</td>\n",
              "      <td>4</td>\n",
              "      <td>2012-08-01</td>\n",
              "      <td>review</td>\n",
              "      <td>0</td>\n",
              "      <td>mr hoagie institution walk like throwback 30 year ago old fashioned menu board booth 70 large selection food speciality italian hoagie vote good area year year usually order burger patty obviously cook frozen ingredient fresh overall good alternative subway road</td>\n",
              "      <td>italian</td>\n",
              "    </tr>\n",
              "  </tbody>\n",
              "</table>\n",
              "</div>"
            ],
            "text/plain": [
              "                  user_id               review_id  \\\n",
              "0  PUFPaY9KxDAcGqfsorJp3Q  Ya85v4eqdd6k9Od8HbQjyA   \n",
              "0  PUFPaY9KxDAcGqfsorJp3Q  Ya85v4eqdd6k9Od8HbQjyA   \n",
              "0  PUFPaY9KxDAcGqfsorJp3Q  Ya85v4eqdd6k9Od8HbQjyA   \n",
              "0  PUFPaY9KxDAcGqfsorJp3Q  Ya85v4eqdd6k9Od8HbQjyA   \n",
              "0  PUFPaY9KxDAcGqfsorJp3Q  Ya85v4eqdd6k9Od8HbQjyA   \n",
              "\n",
              "                                                                                                                                                                                                                                                                                                                                                                                                                                                                    text  \\\n",
              "0  Mr Hoagie is an institution. Walking in, it does seem like a throwback to 30 years ago, old fashioned menu board, booths out of the 70s, and a large selection of food. Their speciality is the Italian Hoagie, and it is voted the best in the area year after year. I usually order the burger, while the patties are obviously cooked from frozen, all of the other ingredients are very fresh. Overall, its a good alternative to Subway, which is down the road.   \n",
              "0  Mr Hoagie is an institution. Walking in, it does seem like a throwback to 30 years ago, old fashioned menu board, booths out of the 70s, and a large selection of food. Their speciality is the Italian Hoagie, and it is voted the best in the area year after year. I usually order the burger, while the patties are obviously cooked from frozen, all of the other ingredients are very fresh. Overall, its a good alternative to Subway, which is down the road.   \n",
              "0  Mr Hoagie is an institution. Walking in, it does seem like a throwback to 30 years ago, old fashioned menu board, booths out of the 70s, and a large selection of food. Their speciality is the Italian Hoagie, and it is voted the best in the area year after year. I usually order the burger, while the patties are obviously cooked from frozen, all of the other ingredients are very fresh. Overall, its a good alternative to Subway, which is down the road.   \n",
              "0  Mr Hoagie is an institution. Walking in, it does seem like a throwback to 30 years ago, old fashioned menu board, booths out of the 70s, and a large selection of food. Their speciality is the Italian Hoagie, and it is voted the best in the area year after year. I usually order the burger, while the patties are obviously cooked from frozen, all of the other ingredients are very fresh. Overall, its a good alternative to Subway, which is down the road.   \n",
              "0  Mr Hoagie is an institution. Walking in, it does seem like a throwback to 30 years ago, old fashioned menu board, booths out of the 70s, and a large selection of food. Their speciality is the Italian Hoagie, and it is voted the best in the area year after year. I usually order the burger, while the patties are obviously cooked from frozen, all of the other ingredients are very fresh. Overall, its a good alternative to Subway, which is down the road.   \n",
              "\n",
              "   votes.cool             business_id  votes.funny  stars        date    type  \\\n",
              "0           0  5UmKMjUEUNdYWqANhGckJw            0      4  2012-08-01  review   \n",
              "0           0  5UmKMjUEUNdYWqANhGckJw            0      4  2012-08-01  review   \n",
              "0           0  5UmKMjUEUNdYWqANhGckJw            0      4  2012-08-01  review   \n",
              "0           0  5UmKMjUEUNdYWqANhGckJw            0      4  2012-08-01  review   \n",
              "0           0  5UmKMjUEUNdYWqANhGckJw            0      4  2012-08-01  review   \n",
              "\n",
              "   votes.useful  \\\n",
              "0             0   \n",
              "0             0   \n",
              "0             0   \n",
              "0             0   \n",
              "0             0   \n",
              "\n",
              "                                                                                                                                                                                                                                                               text_clean  \\\n",
              "0  mr hoagie institution walk like throwback 30 year ago old fashioned menu board booth 70 large selection food speciality italian hoagie vote good area year year usually order burger patty obviously cook frozen ingredient fresh overall good alternative subway road   \n",
              "0  mr hoagie institution walk like throwback 30 year ago old fashioned menu board booth 70 large selection food speciality italian hoagie vote good area year year usually order burger patty obviously cook frozen ingredient fresh overall good alternative subway road   \n",
              "0  mr hoagie institution walk like throwback 30 year ago old fashioned menu board booth 70 large selection food speciality italian hoagie vote good area year year usually order burger patty obviously cook frozen ingredient fresh overall good alternative subway road   \n",
              "0  mr hoagie institution walk like throwback 30 year ago old fashioned menu board booth 70 large selection food speciality italian hoagie vote good area year year usually order burger patty obviously cook frozen ingredient fresh overall good alternative subway road   \n",
              "0  mr hoagie institution walk like throwback 30 year ago old fashioned menu board booth 70 large selection food speciality italian hoagie vote good area year year usually order burger patty obviously cook frozen ingredient fresh overall good alternative subway road   \n",
              "\n",
              "                    NER  \n",
              "0                hoagie  \n",
              "0       30 year ago old  \n",
              "0  fashioned menu board  \n",
              "0                    70  \n",
              "0               italian  "
            ]
          },
          "execution_count": 92,
          "metadata": {},
          "output_type": "execute_result"
        }
      ],
      "source": [
        "df_exploded = df.explode(\"NER\")\n",
        "df_exploded.head()"
      ]
    },
    {
      "cell_type": "markdown",
      "metadata": {},
      "source": [
        "Ahora, agrupando por NER podemos obtener cuáles son las entidades que aparecen más frecuentemente en estas reviews... \n",
        "\n",
        "Obtener el top 20 de entidades más frecuentes."
      ]
    },
    {
      "cell_type": "code",
      "execution_count": 126,
      "metadata": {},
      "outputs": [
        {
          "data": {
            "text/html": [
              "<div>\n",
              "<style scoped>\n",
              "    .dataframe tbody tr th:only-of-type {\n",
              "        vertical-align: middle;\n",
              "    }\n",
              "\n",
              "    .dataframe tbody tr th {\n",
              "        vertical-align: top;\n",
              "    }\n",
              "\n",
              "    .dataframe thead th {\n",
              "        text-align: right;\n",
              "    }\n",
              "</style>\n",
              "<table border=\"1\" class=\"dataframe\">\n",
              "  <thead>\n",
              "    <tr style=\"text-align: right;\">\n",
              "      <th></th>\n",
              "      <th>user_id</th>\n",
              "      <th>review_id</th>\n",
              "      <th>text</th>\n",
              "      <th>votes.cool</th>\n",
              "      <th>business_id</th>\n",
              "      <th>votes.funny</th>\n",
              "      <th>stars</th>\n",
              "      <th>date</th>\n",
              "      <th>type</th>\n",
              "      <th>votes.useful</th>\n",
              "      <th>text_clean</th>\n",
              "    </tr>\n",
              "    <tr>\n",
              "      <th>NER</th>\n",
              "      <th></th>\n",
              "      <th></th>\n",
              "      <th></th>\n",
              "      <th></th>\n",
              "      <th></th>\n",
              "      <th></th>\n",
              "      <th></th>\n",
              "      <th></th>\n",
              "      <th></th>\n",
              "      <th></th>\n",
              "      <th></th>\n",
              "    </tr>\n",
              "  </thead>\n",
              "  <tbody>\n",
              "    <tr>\n",
              "      <th>pittsburgh</th>\n",
              "      <td>2580</td>\n",
              "      <td>2580</td>\n",
              "      <td>2580</td>\n",
              "      <td>2580</td>\n",
              "      <td>2580</td>\n",
              "      <td>2580</td>\n",
              "      <td>2580</td>\n",
              "      <td>2580</td>\n",
              "      <td>2580</td>\n",
              "      <td>2580</td>\n",
              "      <td>2580</td>\n",
              "    </tr>\n",
              "    <tr>\n",
              "      <th>2</th>\n",
              "      <td>1532</td>\n",
              "      <td>1532</td>\n",
              "      <td>1532</td>\n",
              "      <td>1532</td>\n",
              "      <td>1532</td>\n",
              "      <td>1532</td>\n",
              "      <td>1532</td>\n",
              "      <td>1532</td>\n",
              "      <td>1532</td>\n",
              "      <td>1532</td>\n",
              "      <td>1532</td>\n",
              "    </tr>\n",
              "    <tr>\n",
              "      <th>italian</th>\n",
              "      <td>1510</td>\n",
              "      <td>1510</td>\n",
              "      <td>1510</td>\n",
              "      <td>1510</td>\n",
              "      <td>1510</td>\n",
              "      <td>1510</td>\n",
              "      <td>1510</td>\n",
              "      <td>1510</td>\n",
              "      <td>1510</td>\n",
              "      <td>1510</td>\n",
              "      <td>1510</td>\n",
              "    </tr>\n",
              "    <tr>\n",
              "      <th>3</th>\n",
              "      <td>1334</td>\n",
              "      <td>1334</td>\n",
              "      <td>1334</td>\n",
              "      <td>1334</td>\n",
              "      <td>1334</td>\n",
              "      <td>1334</td>\n",
              "      <td>1334</td>\n",
              "      <td>1334</td>\n",
              "      <td>1334</td>\n",
              "      <td>1334</td>\n",
              "      <td>1334</td>\n",
              "    </tr>\n",
              "    <tr>\n",
              "      <th>5</th>\n",
              "      <td>1259</td>\n",
              "      <td>1259</td>\n",
              "      <td>1259</td>\n",
              "      <td>1259</td>\n",
              "      <td>1259</td>\n",
              "      <td>1259</td>\n",
              "      <td>1259</td>\n",
              "      <td>1259</td>\n",
              "      <td>1259</td>\n",
              "      <td>1259</td>\n",
              "      <td>1259</td>\n",
              "    </tr>\n",
              "    <tr>\n",
              "      <th>night</th>\n",
              "      <td>1115</td>\n",
              "      <td>1115</td>\n",
              "      <td>1115</td>\n",
              "      <td>1115</td>\n",
              "      <td>1115</td>\n",
              "      <td>1115</td>\n",
              "      <td>1115</td>\n",
              "      <td>1115</td>\n",
              "      <td>1115</td>\n",
              "      <td>1115</td>\n",
              "      <td>1115</td>\n",
              "    </tr>\n",
              "    <tr>\n",
              "      <th>4</th>\n",
              "      <td>1049</td>\n",
              "      <td>1049</td>\n",
              "      <td>1049</td>\n",
              "      <td>1049</td>\n",
              "      <td>1049</td>\n",
              "      <td>1049</td>\n",
              "      <td>1049</td>\n",
              "      <td>1049</td>\n",
              "      <td>1049</td>\n",
              "      <td>1049</td>\n",
              "      <td>1049</td>\n",
              "    </tr>\n",
              "    <tr>\n",
              "      <th>second</th>\n",
              "      <td>999</td>\n",
              "      <td>999</td>\n",
              "      <td>999</td>\n",
              "      <td>999</td>\n",
              "      <td>999</td>\n",
              "      <td>999</td>\n",
              "      <td>999</td>\n",
              "      <td>999</td>\n",
              "      <td>999</td>\n",
              "      <td>999</td>\n",
              "      <td>999</td>\n",
              "    </tr>\n",
              "    <tr>\n",
              "      <th>half</th>\n",
              "      <td>875</td>\n",
              "      <td>875</td>\n",
              "      <td>875</td>\n",
              "      <td>875</td>\n",
              "      <td>875</td>\n",
              "      <td>875</td>\n",
              "      <td>875</td>\n",
              "      <td>875</td>\n",
              "      <td>875</td>\n",
              "      <td>875</td>\n",
              "      <td>875</td>\n",
              "    </tr>\n",
              "    <tr>\n",
              "      <th>chinese</th>\n",
              "      <td>868</td>\n",
              "      <td>868</td>\n",
              "      <td>868</td>\n",
              "      <td>868</td>\n",
              "      <td>868</td>\n",
              "      <td>868</td>\n",
              "      <td>868</td>\n",
              "      <td>868</td>\n",
              "      <td>868</td>\n",
              "      <td>868</td>\n",
              "      <td>868</td>\n",
              "    </tr>\n",
              "    <tr>\n",
              "      <th>saturday</th>\n",
              "      <td>849</td>\n",
              "      <td>849</td>\n",
              "      <td>849</td>\n",
              "      <td>849</td>\n",
              "      <td>849</td>\n",
              "      <td>849</td>\n",
              "      <td>849</td>\n",
              "      <td>849</td>\n",
              "      <td>849</td>\n",
              "      <td>849</td>\n",
              "      <td>849</td>\n",
              "    </tr>\n",
              "    <tr>\n",
              "      <th>today</th>\n",
              "      <td>749</td>\n",
              "      <td>749</td>\n",
              "      <td>749</td>\n",
              "      <td>749</td>\n",
              "      <td>749</td>\n",
              "      <td>749</td>\n",
              "      <td>749</td>\n",
              "      <td>749</td>\n",
              "      <td>749</td>\n",
              "      <td>749</td>\n",
              "      <td>749</td>\n",
              "    </tr>\n",
              "    <tr>\n",
              "      <th>10</th>\n",
              "      <td>701</td>\n",
              "      <td>701</td>\n",
              "      <td>701</td>\n",
              "      <td>701</td>\n",
              "      <td>701</td>\n",
              "      <td>701</td>\n",
              "      <td>701</td>\n",
              "      <td>701</td>\n",
              "      <td>701</td>\n",
              "      <td>701</td>\n",
              "      <td>701</td>\n",
              "    </tr>\n",
              "    <tr>\n",
              "      <th>1</th>\n",
              "      <td>683</td>\n",
              "      <td>683</td>\n",
              "      <td>683</td>\n",
              "      <td>683</td>\n",
              "      <td>683</td>\n",
              "      <td>683</td>\n",
              "      <td>683</td>\n",
              "      <td>683</td>\n",
              "      <td>683</td>\n",
              "      <td>683</td>\n",
              "      <td>683</td>\n",
              "    </tr>\n",
              "    <tr>\n",
              "      <th>french</th>\n",
              "      <td>671</td>\n",
              "      <td>671</td>\n",
              "      <td>671</td>\n",
              "      <td>671</td>\n",
              "      <td>671</td>\n",
              "      <td>671</td>\n",
              "      <td>671</td>\n",
              "      <td>671</td>\n",
              "      <td>671</td>\n",
              "      <td>671</td>\n",
              "      <td>671</td>\n",
              "    </tr>\n",
              "    <tr>\n",
              "      <th>sunday</th>\n",
              "      <td>638</td>\n",
              "      <td>638</td>\n",
              "      <td>638</td>\n",
              "      <td>638</td>\n",
              "      <td>638</td>\n",
              "      <td>638</td>\n",
              "      <td>638</td>\n",
              "      <td>638</td>\n",
              "      <td>638</td>\n",
              "      <td>638</td>\n",
              "      <td>638</td>\n",
              "    </tr>\n",
              "    <tr>\n",
              "      <th>hour</th>\n",
              "      <td>628</td>\n",
              "      <td>628</td>\n",
              "      <td>628</td>\n",
              "      <td>628</td>\n",
              "      <td>628</td>\n",
              "      <td>628</td>\n",
              "      <td>628</td>\n",
              "      <td>628</td>\n",
              "      <td>628</td>\n",
              "      <td>628</td>\n",
              "      <td>628</td>\n",
              "    </tr>\n",
              "    <tr>\n",
              "      <th>year</th>\n",
              "      <td>589</td>\n",
              "      <td>589</td>\n",
              "      <td>589</td>\n",
              "      <td>589</td>\n",
              "      <td>589</td>\n",
              "      <td>589</td>\n",
              "      <td>589</td>\n",
              "      <td>589</td>\n",
              "      <td>589</td>\n",
              "      <td>589</td>\n",
              "      <td>589</td>\n",
              "    </tr>\n",
              "    <tr>\n",
              "      <th>friday</th>\n",
              "      <td>544</td>\n",
              "      <td>544</td>\n",
              "      <td>544</td>\n",
              "      <td>544</td>\n",
              "      <td>544</td>\n",
              "      <td>544</td>\n",
              "      <td>544</td>\n",
              "      <td>544</td>\n",
              "      <td>544</td>\n",
              "      <td>544</td>\n",
              "      <td>544</td>\n",
              "    </tr>\n",
              "    <tr>\n",
              "      <th>thai</th>\n",
              "      <td>522</td>\n",
              "      <td>522</td>\n",
              "      <td>522</td>\n",
              "      <td>522</td>\n",
              "      <td>522</td>\n",
              "      <td>522</td>\n",
              "      <td>522</td>\n",
              "      <td>522</td>\n",
              "      <td>522</td>\n",
              "      <td>522</td>\n",
              "      <td>522</td>\n",
              "    </tr>\n",
              "  </tbody>\n",
              "</table>\n",
              "</div>"
            ],
            "text/plain": [
              "            user_id  review_id  text  votes.cool  business_id  votes.funny  \\\n",
              "NER                                                                          \n",
              "pittsburgh     2580       2580  2580        2580         2580         2580   \n",
              "2              1532       1532  1532        1532         1532         1532   \n",
              "italian        1510       1510  1510        1510         1510         1510   \n",
              "3              1334       1334  1334        1334         1334         1334   \n",
              "5              1259       1259  1259        1259         1259         1259   \n",
              "night          1115       1115  1115        1115         1115         1115   \n",
              "4              1049       1049  1049        1049         1049         1049   \n",
              "second          999        999   999         999          999          999   \n",
              "half            875        875   875         875          875          875   \n",
              "chinese         868        868   868         868          868          868   \n",
              "saturday        849        849   849         849          849          849   \n",
              "today           749        749   749         749          749          749   \n",
              "10              701        701   701         701          701          701   \n",
              "1               683        683   683         683          683          683   \n",
              "french          671        671   671         671          671          671   \n",
              "sunday          638        638   638         638          638          638   \n",
              "hour            628        628   628         628          628          628   \n",
              "year            589        589   589         589          589          589   \n",
              "friday          544        544   544         544          544          544   \n",
              "thai            522        522   522         522          522          522   \n",
              "\n",
              "            stars  date  type  votes.useful  text_clean  \n",
              "NER                                                      \n",
              "pittsburgh   2580  2580  2580          2580        2580  \n",
              "2            1532  1532  1532          1532        1532  \n",
              "italian      1510  1510  1510          1510        1510  \n",
              "3            1334  1334  1334          1334        1334  \n",
              "5            1259  1259  1259          1259        1259  \n",
              "night        1115  1115  1115          1115        1115  \n",
              "4            1049  1049  1049          1049        1049  \n",
              "second        999   999   999           999         999  \n",
              "half          875   875   875           875         875  \n",
              "chinese       868   868   868           868         868  \n",
              "saturday      849   849   849           849         849  \n",
              "today         749   749   749           749         749  \n",
              "10            701   701   701           701         701  \n",
              "1             683   683   683           683         683  \n",
              "french        671   671   671           671         671  \n",
              "sunday        638   638   638           638         638  \n",
              "hour          628   628   628           628         628  \n",
              "year          589   589   589           589         589  \n",
              "friday        544   544   544           544         544  \n",
              "thai          522   522   522           522         522  "
            ]
          },
          "execution_count": 126,
          "metadata": {},
          "output_type": "execute_result"
        }
      ],
      "source": [
        "df_exploded.groupby(\"NER\").count().sort_values(by=\"text_clean\", ascending=False).head(20)"
      ]
    },
    {
      "cell_type": "code",
      "execution_count": 131,
      "metadata": {},
      "outputs": [
        {
          "data": {
            "text/html": [
              "<div>\n",
              "<style scoped>\n",
              "    .dataframe tbody tr th:only-of-type {\n",
              "        vertical-align: middle;\n",
              "    }\n",
              "\n",
              "    .dataframe tbody tr th {\n",
              "        vertical-align: top;\n",
              "    }\n",
              "\n",
              "    .dataframe thead th {\n",
              "        text-align: right;\n",
              "    }\n",
              "</style>\n",
              "<table border=\"1\" class=\"dataframe\">\n",
              "  <thead>\n",
              "    <tr style=\"text-align: right;\">\n",
              "      <th></th>\n",
              "      <th>review_id</th>\n",
              "    </tr>\n",
              "    <tr>\n",
              "      <th>NER</th>\n",
              "      <th></th>\n",
              "    </tr>\n",
              "  </thead>\n",
              "  <tbody>\n",
              "    <tr>\n",
              "      <th>pittsburgh</th>\n",
              "      <td>2580</td>\n",
              "    </tr>\n",
              "    <tr>\n",
              "      <th>2</th>\n",
              "      <td>1532</td>\n",
              "    </tr>\n",
              "    <tr>\n",
              "      <th>italian</th>\n",
              "      <td>1510</td>\n",
              "    </tr>\n",
              "    <tr>\n",
              "      <th>3</th>\n",
              "      <td>1334</td>\n",
              "    </tr>\n",
              "    <tr>\n",
              "      <th>5</th>\n",
              "      <td>1259</td>\n",
              "    </tr>\n",
              "    <tr>\n",
              "      <th>night</th>\n",
              "      <td>1115</td>\n",
              "    </tr>\n",
              "    <tr>\n",
              "      <th>4</th>\n",
              "      <td>1049</td>\n",
              "    </tr>\n",
              "    <tr>\n",
              "      <th>second</th>\n",
              "      <td>999</td>\n",
              "    </tr>\n",
              "    <tr>\n",
              "      <th>half</th>\n",
              "      <td>875</td>\n",
              "    </tr>\n",
              "    <tr>\n",
              "      <th>chinese</th>\n",
              "      <td>868</td>\n",
              "    </tr>\n",
              "    <tr>\n",
              "      <th>saturday</th>\n",
              "      <td>849</td>\n",
              "    </tr>\n",
              "    <tr>\n",
              "      <th>today</th>\n",
              "      <td>749</td>\n",
              "    </tr>\n",
              "    <tr>\n",
              "      <th>10</th>\n",
              "      <td>701</td>\n",
              "    </tr>\n",
              "    <tr>\n",
              "      <th>1</th>\n",
              "      <td>683</td>\n",
              "    </tr>\n",
              "    <tr>\n",
              "      <th>french</th>\n",
              "      <td>671</td>\n",
              "    </tr>\n",
              "    <tr>\n",
              "      <th>sunday</th>\n",
              "      <td>638</td>\n",
              "    </tr>\n",
              "    <tr>\n",
              "      <th>hour</th>\n",
              "      <td>628</td>\n",
              "    </tr>\n",
              "    <tr>\n",
              "      <th>year</th>\n",
              "      <td>589</td>\n",
              "    </tr>\n",
              "    <tr>\n",
              "      <th>friday</th>\n",
              "      <td>544</td>\n",
              "    </tr>\n",
              "    <tr>\n",
              "      <th>thai</th>\n",
              "      <td>522</td>\n",
              "    </tr>\n",
              "  </tbody>\n",
              "</table>\n",
              "</div>"
            ],
            "text/plain": [
              "            review_id\n",
              "NER                  \n",
              "pittsburgh       2580\n",
              "2                1532\n",
              "italian          1510\n",
              "3                1334\n",
              "5                1259\n",
              "night            1115\n",
              "4                1049\n",
              "second            999\n",
              "half              875\n",
              "chinese           868\n",
              "saturday          849\n",
              "today             749\n",
              "10                701\n",
              "1                 683\n",
              "french            671\n",
              "sunday            638\n",
              "hour              628\n",
              "year              589\n",
              "friday            544\n",
              "thai              522"
            ]
          },
          "execution_count": 131,
          "metadata": {},
          "output_type": "execute_result"
        }
      ],
      "source": [
        "df_exploded[['review_id','NER']].groupby(\"NER\").count().sort_values(by=\"review_id\", ascending=False).head(20)"
      ]
    },
    {
      "cell_type": "markdown",
      "metadata": {},
      "source": [
        "Top 20 de entidades más frecuentes por negocio."
      ]
    },
    {
      "cell_type": "code",
      "execution_count": 106,
      "metadata": {},
      "outputs": [
        {
          "data": {
            "text/html": [
              "<div>\n",
              "<style scoped>\n",
              "    .dataframe tbody tr th:only-of-type {\n",
              "        vertical-align: middle;\n",
              "    }\n",
              "\n",
              "    .dataframe tbody tr th {\n",
              "        vertical-align: top;\n",
              "    }\n",
              "\n",
              "    .dataframe thead th {\n",
              "        text-align: right;\n",
              "    }\n",
              "</style>\n",
              "<table border=\"1\" class=\"dataframe\">\n",
              "  <thead>\n",
              "    <tr style=\"text-align: right;\">\n",
              "      <th></th>\n",
              "      <th>NER</th>\n",
              "    </tr>\n",
              "    <tr>\n",
              "      <th>business_id</th>\n",
              "      <th></th>\n",
              "    </tr>\n",
              "  </thead>\n",
              "  <tbody>\n",
              "    <tr>\n",
              "      <th>3Q0QQPnHcJuX1DLCL9G9Cg</th>\n",
              "      <td>1907</td>\n",
              "    </tr>\n",
              "    <tr>\n",
              "      <th>mpDxBBGywUE6GRRKja3sBA</th>\n",
              "      <td>1107</td>\n",
              "    </tr>\n",
              "    <tr>\n",
              "      <th>NeUf9FyCCIN4MEseNyqkXQ</th>\n",
              "      <td>1105</td>\n",
              "    </tr>\n",
              "    <tr>\n",
              "      <th>XmdTkxKyJd7TuDLoiic1kg</th>\n",
              "      <td>920</td>\n",
              "    </tr>\n",
              "    <tr>\n",
              "      <th>rgmptwPbBH1wLpiBHcbIhA</th>\n",
              "      <td>871</td>\n",
              "    </tr>\n",
              "    <tr>\n",
              "      <th>n9iK0s1dKxv5JLi3u1eTkQ</th>\n",
              "      <td>813</td>\n",
              "    </tr>\n",
              "    <tr>\n",
              "      <th>2SwC8wqpZC4B9iFVTgYT9A</th>\n",
              "      <td>778</td>\n",
              "    </tr>\n",
              "    <tr>\n",
              "      <th>9SPwF-vRgtuHxciFxv5YLA</th>\n",
              "      <td>760</td>\n",
              "    </tr>\n",
              "    <tr>\n",
              "      <th>NTfUFk8GyOLL1uPbEO-pVg</th>\n",
              "      <td>692</td>\n",
              "    </tr>\n",
              "    <tr>\n",
              "      <th>sxeuOMBRllOHXJTaUlI9kQ</th>\n",
              "      <td>692</td>\n",
              "    </tr>\n",
              "    <tr>\n",
              "      <th>jTGQUWGIVvL-aY03C5BEmw</th>\n",
              "      <td>620</td>\n",
              "    </tr>\n",
              "    <tr>\n",
              "      <th>vgXE1I7c9ElcfYyZfQiN1Q</th>\n",
              "      <td>611</td>\n",
              "    </tr>\n",
              "    <tr>\n",
              "      <th>2_0P2AmSSFtPgddio0MgYA</th>\n",
              "      <td>598</td>\n",
              "    </tr>\n",
              "    <tr>\n",
              "      <th>WuCcv_Dyd_1B_1-4jwK7sQ</th>\n",
              "      <td>580</td>\n",
              "    </tr>\n",
              "    <tr>\n",
              "      <th>2X5G4Ujq0s4Wfn4TC7gX0g</th>\n",
              "      <td>578</td>\n",
              "    </tr>\n",
              "    <tr>\n",
              "      <th>2Igiyhi82R8_QaaPplRmCw</th>\n",
              "      <td>576</td>\n",
              "    </tr>\n",
              "    <tr>\n",
              "      <th>CChwRoYVXA3QZulS8a6xOQ</th>\n",
              "      <td>563</td>\n",
              "    </tr>\n",
              "    <tr>\n",
              "      <th>xgK6AAhJ-cYBUCSaLzgTuw</th>\n",
              "      <td>550</td>\n",
              "    </tr>\n",
              "    <tr>\n",
              "      <th>6-rJjW6ITl5o_FliiNgZRA</th>\n",
              "      <td>543</td>\n",
              "    </tr>\n",
              "    <tr>\n",
              "      <th>MQnNtW1lHS-eid3QNUoUIw</th>\n",
              "      <td>535</td>\n",
              "    </tr>\n",
              "  </tbody>\n",
              "</table>\n",
              "</div>"
            ],
            "text/plain": [
              "                         NER\n",
              "business_id                 \n",
              "3Q0QQPnHcJuX1DLCL9G9Cg  1907\n",
              "mpDxBBGywUE6GRRKja3sBA  1107\n",
              "NeUf9FyCCIN4MEseNyqkXQ  1105\n",
              "XmdTkxKyJd7TuDLoiic1kg   920\n",
              "rgmptwPbBH1wLpiBHcbIhA   871\n",
              "n9iK0s1dKxv5JLi3u1eTkQ   813\n",
              "2SwC8wqpZC4B9iFVTgYT9A   778\n",
              "9SPwF-vRgtuHxciFxv5YLA   760\n",
              "NTfUFk8GyOLL1uPbEO-pVg   692\n",
              "sxeuOMBRllOHXJTaUlI9kQ   692\n",
              "jTGQUWGIVvL-aY03C5BEmw   620\n",
              "vgXE1I7c9ElcfYyZfQiN1Q   611\n",
              "2_0P2AmSSFtPgddio0MgYA   598\n",
              "WuCcv_Dyd_1B_1-4jwK7sQ   580\n",
              "2X5G4Ujq0s4Wfn4TC7gX0g   578\n",
              "2Igiyhi82R8_QaaPplRmCw   576\n",
              "CChwRoYVXA3QZulS8a6xOQ   563\n",
              "xgK6AAhJ-cYBUCSaLzgTuw   550\n",
              "6-rJjW6ITl5o_FliiNgZRA   543\n",
              "MQnNtW1lHS-eid3QNUoUIw   535"
            ]
          },
          "execution_count": 106,
          "metadata": {},
          "output_type": "execute_result"
        }
      ],
      "source": [
        "df_exploded.groupby(\"business_id\").agg({'NER':'count'}).sort_values(by=\"NER\", ascending=False).head(20)"
      ]
    },
    {
      "cell_type": "code",
      "execution_count": 124,
      "metadata": {},
      "outputs": [
        {
          "data": {
            "text/plain": [
              "business_id             NER                 \n",
              "--UE_y6auTgq3FXlvUMkbw  1                       2\n",
              "                        1 day                   1\n",
              "                        1.75                    1\n",
              "                        10                      5\n",
              "                        10 12 minute            1\n",
              "                                               ..\n",
              "zxodsuIjtv3kx8mNa3sptQ  tomorrow                1\n",
              "                        victoria   fantastic    1\n",
              "                        week half week          1\n",
              "                        year half               1\n",
              "                        yesterday               1\n",
              "Name: NER, Length: 49566, dtype: int64"
            ]
          },
          "execution_count": 124,
          "metadata": {},
          "output_type": "execute_result"
        }
      ],
      "source": [
        "# df_exploded.groupby(['business_id','NER']).count().sort_values(by=\"NER\", ascending=False).head(20)\n",
        "\n",
        "df_exploded.groupby(['business_id','NER'])['NER'].count()\n"
      ]
    },
    {
      "cell_type": "markdown",
      "metadata": {},
      "source": [
        "# Part of speech\n",
        "\n",
        "POS es el proceso mediante el cual vamos a clasificar a las palabras de un texto en categorías gramaticales. Para esto, los modelos se basan no solo en la palabra en sí, sino también en su contexto. Es decir, buscamos identificar sustantivos, verbos, adjetivos, etc dentro de un texto. \n",
        "\n",
        "Al igual que NER, para identificar POS en palabras de un texto, podemos utilizar los modelos de spacy que funcionan muy bien.\n",
        "\n",
        "Veamos un ejemplo:"
      ]
    },
    {
      "cell_type": "markdown",
      "metadata": {},
      "source": [
        "Definir una función que dado un texto, retorne una lista de todos sus sustantivos. En caso de que no contenga sustantivos, debe retornar lista vacia."
      ]
    },
    {
      "cell_type": "code",
      "execution_count": 107,
      "metadata": {},
      "outputs": [],
      "source": [
        "def get_nouns(text):\n",
        "  doc = nlp(text)\n",
        "  nouns = []\n",
        "  for token in doc:\n",
        "    if token.pos_ == \"NOUN\":\n",
        "      nouns.append(token.text)\n",
        "  return nouns"
      ]
    },
    {
      "cell_type": "code",
      "execution_count": 108,
      "metadata": {},
      "outputs": [],
      "source": [
        "df[\"NOUNS\"] = df[\"text_clean\"].apply(get_nouns)"
      ]
    },
    {
      "cell_type": "markdown",
      "metadata": {},
      "source": [
        "Habría que hacer un explode ....."
      ]
    },
    {
      "cell_type": "code",
      "execution_count": 128,
      "metadata": {},
      "outputs": [
        {
          "data": {
            "text/html": [
              "<div>\n",
              "<style scoped>\n",
              "    .dataframe tbody tr th:only-of-type {\n",
              "        vertical-align: middle;\n",
              "    }\n",
              "\n",
              "    .dataframe tbody tr th {\n",
              "        vertical-align: top;\n",
              "    }\n",
              "\n",
              "    .dataframe thead th {\n",
              "        text-align: right;\n",
              "    }\n",
              "</style>\n",
              "<table border=\"1\" class=\"dataframe\">\n",
              "  <thead>\n",
              "    <tr style=\"text-align: right;\">\n",
              "      <th></th>\n",
              "      <th>NOUNS</th>\n",
              "    </tr>\n",
              "    <tr>\n",
              "      <th>business_id</th>\n",
              "      <th></th>\n",
              "    </tr>\n",
              "  </thead>\n",
              "  <tbody>\n",
              "    <tr>\n",
              "      <th>3Q0QQPnHcJuX1DLCL9G9Cg</th>\n",
              "      <td>1068</td>\n",
              "    </tr>\n",
              "    <tr>\n",
              "      <th>mpDxBBGywUE6GRRKja3sBA</th>\n",
              "      <td>527</td>\n",
              "    </tr>\n",
              "    <tr>\n",
              "      <th>NeUf9FyCCIN4MEseNyqkXQ</th>\n",
              "      <td>387</td>\n",
              "    </tr>\n",
              "    <tr>\n",
              "      <th>jTGQUWGIVvL-aY03C5BEmw</th>\n",
              "      <td>292</td>\n",
              "    </tr>\n",
              "    <tr>\n",
              "      <th>NTfUFk8GyOLL1uPbEO-pVg</th>\n",
              "      <td>250</td>\n",
              "    </tr>\n",
              "    <tr>\n",
              "      <th>XmdTkxKyJd7TuDLoiic1kg</th>\n",
              "      <td>249</td>\n",
              "    </tr>\n",
              "    <tr>\n",
              "      <th>vgXE1I7c9ElcfYyZfQiN1Q</th>\n",
              "      <td>243</td>\n",
              "    </tr>\n",
              "    <tr>\n",
              "      <th>2X5G4Ujq0s4Wfn4TC7gX0g</th>\n",
              "      <td>243</td>\n",
              "    </tr>\n",
              "    <tr>\n",
              "      <th>2SwC8wqpZC4B9iFVTgYT9A</th>\n",
              "      <td>239</td>\n",
              "    </tr>\n",
              "    <tr>\n",
              "      <th>rgmptwPbBH1wLpiBHcbIhA</th>\n",
              "      <td>221</td>\n",
              "    </tr>\n",
              "    <tr>\n",
              "      <th>2Igiyhi82R8_QaaPplRmCw</th>\n",
              "      <td>213</td>\n",
              "    </tr>\n",
              "    <tr>\n",
              "      <th>MQnNtW1lHS-eid3QNUoUIw</th>\n",
              "      <td>212</td>\n",
              "    </tr>\n",
              "    <tr>\n",
              "      <th>CChwRoYVXA3QZulS8a6xOQ</th>\n",
              "      <td>211</td>\n",
              "    </tr>\n",
              "    <tr>\n",
              "      <th>ePP0Eqz8JKSbtdt2phiB4A</th>\n",
              "      <td>197</td>\n",
              "    </tr>\n",
              "    <tr>\n",
              "      <th>ym9QwkmB5ZKTyj7q5huTDw</th>\n",
              "      <td>189</td>\n",
              "    </tr>\n",
              "    <tr>\n",
              "      <th>dxCqGkhtXq-9fYEsX7Mf6Q</th>\n",
              "      <td>188</td>\n",
              "    </tr>\n",
              "    <tr>\n",
              "      <th>9SPwF-vRgtuHxciFxv5YLA</th>\n",
              "      <td>186</td>\n",
              "    </tr>\n",
              "    <tr>\n",
              "      <th>WuCcv_Dyd_1B_1-4jwK7sQ</th>\n",
              "      <td>182</td>\n",
              "    </tr>\n",
              "    <tr>\n",
              "      <th>TxKmAsKQjND5vbhBdUSyIA</th>\n",
              "      <td>180</td>\n",
              "    </tr>\n",
              "    <tr>\n",
              "      <th>xgK6AAhJ-cYBUCSaLzgTuw</th>\n",
              "      <td>173</td>\n",
              "    </tr>\n",
              "  </tbody>\n",
              "</table>\n",
              "</div>"
            ],
            "text/plain": [
              "                        NOUNS\n",
              "business_id                  \n",
              "3Q0QQPnHcJuX1DLCL9G9Cg   1068\n",
              "mpDxBBGywUE6GRRKja3sBA    527\n",
              "NeUf9FyCCIN4MEseNyqkXQ    387\n",
              "jTGQUWGIVvL-aY03C5BEmw    292\n",
              "NTfUFk8GyOLL1uPbEO-pVg    250\n",
              "XmdTkxKyJd7TuDLoiic1kg    249\n",
              "vgXE1I7c9ElcfYyZfQiN1Q    243\n",
              "2X5G4Ujq0s4Wfn4TC7gX0g    243\n",
              "2SwC8wqpZC4B9iFVTgYT9A    239\n",
              "rgmptwPbBH1wLpiBHcbIhA    221\n",
              "2Igiyhi82R8_QaaPplRmCw    213\n",
              "MQnNtW1lHS-eid3QNUoUIw    212\n",
              "CChwRoYVXA3QZulS8a6xOQ    211\n",
              "ePP0Eqz8JKSbtdt2phiB4A    197\n",
              "ym9QwkmB5ZKTyj7q5huTDw    189\n",
              "dxCqGkhtXq-9fYEsX7Mf6Q    188\n",
              "9SPwF-vRgtuHxciFxv5YLA    186\n",
              "WuCcv_Dyd_1B_1-4jwK7sQ    182\n",
              "TxKmAsKQjND5vbhBdUSyIA    180\n",
              "xgK6AAhJ-cYBUCSaLzgTuw    173"
            ]
          },
          "execution_count": 128,
          "metadata": {},
          "output_type": "execute_result"
        }
      ],
      "source": [
        "df.groupby(\"business_id\").agg({'NOUNS':'count'}).sort_values(by=\"NOUNS\", ascending=False).head(20)"
      ]
    },
    {
      "cell_type": "code",
      "execution_count": 130,
      "metadata": {},
      "outputs": [],
      "source": [
        "df.groupby(\"NOUNS\").count().sort_values(by=\"text_clean\", ascending=False).head(20)"
      ]
    },
    {
      "cell_type": "markdown",
      "metadata": {},
      "source": [
        "# Noun chunks\n",
        "\n",
        "Spacy también nos permite extraer \"noun chunks\" de un texto.\n",
        "Noun chunks son sustantivos en conjunto con cualquier palabra que dependa de ellos o los acompañe."
      ]
    },
    {
      "cell_type": "markdown",
      "metadata": {},
      "source": [
        "Crear una función que dado un texto retorne un listado de noun chunks. Luego aplicar la función al dataframe y almacenar resultados en la columna \"NOUN_CHUNKS\""
      ]
    },
    {
      "cell_type": "code",
      "execution_count": null,
      "metadata": {},
      "outputs": [],
      "source": [
        "def get_noun_chunks(text:str):\n",
        "  doc = nlp(text)\n",
        "  return [nc for nc in doc.noun_chunks]"
      ]
    },
    {
      "cell_type": "code",
      "execution_count": null,
      "metadata": {},
      "outputs": [],
      "source": [
        "df[\"NOUN_CHUNKS\"] = df[\"text_clean\"].apply(get_noun_chunks)"
      ]
    },
    {
      "cell_type": "code",
      "execution_count": null,
      "metadata": {},
      "outputs": [],
      "source": [
        "df.head()"
      ]
    },
    {
      "cell_type": "markdown",
      "metadata": {},
      "source": [
        "# Text blob\n",
        "\n",
        "Para análisis de sentimientos, podemos entrenar nuestros propios modelos (como la clase pasada) o utilizar modelos ya entrenados (textblob, modelos de proveedores cloud como aws, azure, gcp, etc).\n",
        "\n",
        "En este caso utilizaremos textblob."
      ]
    },
    {
      "cell_type": "code",
      "execution_count": 132,
      "metadata": {},
      "outputs": [],
      "source": [
        "from textblob import TextBlob"
      ]
    },
    {
      "cell_type": "markdown",
      "metadata": {},
      "source": [
        "Escribir una función get_sentiment que dado un texto, nos retorne:\n",
        "- la palabra \"POS\" si polarity > 0.1\n",
        "- la palabra \"NEU\" si polarity ≥ -0.1 & polarity ≤ 0.1\n",
        "- la palabra \"NEG\" si polarity < -0.1\n",
        "\n",
        "Luego aplicarla a todo el df y almacenar resultados en la columna \"SENTIMENT\""
      ]
    },
    {
      "cell_type": "code",
      "execution_count": null,
      "metadata": {},
      "outputs": [],
      "source": [
        "def get_sentiment(text):\n",
        "  sent = TextBlob(text).sentiment.polarity\n",
        "\n",
        "  if sent > 0.1:\n",
        "    return \"POS\"\n",
        "  \n",
        "  if sent >= -0.1 and sent <= 0.1:\n",
        "    return \"NEU\"\n",
        "\n",
        "  if sent < 0.1:\n",
        "    return \"NEG\""
      ]
    },
    {
      "cell_type": "code",
      "execution_count": null,
      "metadata": {},
      "outputs": [],
      "source": [
        "df[\"SENTIMENT\"] = df[\"text_clean\"].apply(get_sentiment)"
      ]
    },
    {
      "cell_type": "code",
      "execution_count": 40,
      "metadata": {},
      "outputs": [
        {
          "data": {
            "text/html": [
              "<div>\n",
              "<style scoped>\n",
              "    .dataframe tbody tr th:only-of-type {\n",
              "        vertical-align: middle;\n",
              "    }\n",
              "\n",
              "    .dataframe tbody tr th {\n",
              "        vertical-align: top;\n",
              "    }\n",
              "\n",
              "    .dataframe thead th {\n",
              "        text-align: right;\n",
              "    }\n",
              "</style>\n",
              "<table border=\"1\" class=\"dataframe\">\n",
              "  <thead>\n",
              "    <tr style=\"text-align: right;\">\n",
              "      <th></th>\n",
              "      <th>user_id</th>\n",
              "      <th>review_id</th>\n",
              "      <th>text</th>\n",
              "      <th>votes.cool</th>\n",
              "      <th>business_id</th>\n",
              "      <th>votes.funny</th>\n",
              "      <th>stars</th>\n",
              "      <th>date</th>\n",
              "      <th>type</th>\n",
              "      <th>votes.useful</th>\n",
              "    </tr>\n",
              "  </thead>\n",
              "  <tbody>\n",
              "    <tr>\n",
              "      <th>0</th>\n",
              "      <td>PUFPaY9KxDAcGqfsorJp3Q</td>\n",
              "      <td>Ya85v4eqdd6k9Od8HbQjyA</td>\n",
              "      <td>mr hoagie institution walking like throwback 30 years ago old fashioned menu board booths 70s large selection food speciality italian hoagie voted best area year year usually order burger patties obviously cooked frozen ingredients fresh overall good alternative subway road</td>\n",
              "      <td>0</td>\n",
              "      <td>5UmKMjUEUNdYWqANhGckJw</td>\n",
              "      <td>0</td>\n",
              "      <td>4</td>\n",
              "      <td>2012-08-01</td>\n",
              "      <td>review</td>\n",
              "      <td>0</td>\n",
              "    </tr>\n",
              "    <tr>\n",
              "      <th>1</th>\n",
              "      <td>Iu6AxdBYGR4A0wspR9BYHA</td>\n",
              "      <td>KPvLNJ21_4wbYNctrOwWdQ</td>\n",
              "      <td>excellent food superb customer service miss mario machines great place steeped tradition</td>\n",
              "      <td>0</td>\n",
              "      <td>5UmKMjUEUNdYWqANhGckJw</td>\n",
              "      <td>0</td>\n",
              "      <td>5</td>\n",
              "      <td>2014-02-13</td>\n",
              "      <td>review</td>\n",
              "      <td>0</td>\n",
              "    </tr>\n",
              "    <tr>\n",
              "      <th>2</th>\n",
              "      <td>auESFwWvW42h6alXgFxAXQ</td>\n",
              "      <td>fFSoGV46Yxuwbr3fHNuZig</td>\n",
              "      <td>yes place little dated opened weekend staff pleasant fast order spot fresh veggies hoggies food daily specials ice cream good banana split piled toppings win pennysaver awards years</td>\n",
              "      <td>0</td>\n",
              "      <td>5UmKMjUEUNdYWqANhGckJw</td>\n",
              "      <td>0</td>\n",
              "      <td>5</td>\n",
              "      <td>2015-10-31</td>\n",
              "      <td>review</td>\n",
              "      <td>0</td>\n",
              "    </tr>\n",
              "    <tr>\n",
              "      <th>3</th>\n",
              "      <td>uK8tzraOp4M5u3uYrqIBXg</td>\n",
              "      <td>Di3exaUCFNw1V4kSNW5pgA</td>\n",
              "      <td>food great best thing wings wings simply fantastic   wet cajun best popular   like seasoned salt wings   wing night monday wednesday night $ 0.75 wings \\n\\n dining area nice family friendly bar nice   place truly yinzer dream   pittsburgh dad love place n'at</td>\n",
              "      <td>0</td>\n",
              "      <td>UsFtqoBl7naz8AVUBZMjQQ</td>\n",
              "      <td>0</td>\n",
              "      <td>5</td>\n",
              "      <td>2013-11-08</td>\n",
              "      <td>review</td>\n",
              "      <td>0</td>\n",
              "    </tr>\n",
              "    <tr>\n",
              "      <th>4</th>\n",
              "      <td>I_47G-R2_egp7ME5u_ltew</td>\n",
              "      <td>0Lua2-PbqEQMjD9r89-asw</td>\n",
              "      <td>checked place past monday wing night heard wings great decided finally time check wings wings crispy nice change pace got wet cajun sauce garlic butter wings cajun bold flavor sauce thin sauce thin garlic butter expected better average like seeing sauce resting boat definitely come try place sample items menu probably regular stop wings anytime soon</td>\n",
              "      <td>0</td>\n",
              "      <td>UsFtqoBl7naz8AVUBZMjQQ</td>\n",
              "      <td>0</td>\n",
              "      <td>3</td>\n",
              "      <td>2014-03-29</td>\n",
              "      <td>review</td>\n",
              "      <td>0</td>\n",
              "    </tr>\n",
              "  </tbody>\n",
              "</table>\n",
              "</div>"
            ],
            "text/plain": [
              "                  user_id               review_id  \\\n",
              "0  PUFPaY9KxDAcGqfsorJp3Q  Ya85v4eqdd6k9Od8HbQjyA   \n",
              "1  Iu6AxdBYGR4A0wspR9BYHA  KPvLNJ21_4wbYNctrOwWdQ   \n",
              "2  auESFwWvW42h6alXgFxAXQ  fFSoGV46Yxuwbr3fHNuZig   \n",
              "3  uK8tzraOp4M5u3uYrqIBXg  Di3exaUCFNw1V4kSNW5pgA   \n",
              "4  I_47G-R2_egp7ME5u_ltew  0Lua2-PbqEQMjD9r89-asw   \n",
              "\n",
              "                                                                                                                                                                                                                                                                                                                                                              text  \\\n",
              "0                                                                               mr hoagie institution walking like throwback 30 years ago old fashioned menu board booths 70s large selection food speciality italian hoagie voted best area year year usually order burger patties obviously cooked frozen ingredients fresh overall good alternative subway road   \n",
              "1                                                                                                                                                                                                                                                                         excellent food superb customer service miss mario machines great place steeped tradition   \n",
              "2                                                                                                                                                                            yes place little dated opened weekend staff pleasant fast order spot fresh veggies hoggies food daily specials ice cream good banana split piled toppings win pennysaver awards years   \n",
              "3                                                                                               food great best thing wings wings simply fantastic   wet cajun best popular   like seasoned salt wings   wing night monday wednesday night $ 0.75 wings \\n\\n dining area nice family friendly bar nice   place truly yinzer dream   pittsburgh dad love place n'at   \n",
              "4  checked place past monday wing night heard wings great decided finally time check wings wings crispy nice change pace got wet cajun sauce garlic butter wings cajun bold flavor sauce thin sauce thin garlic butter expected better average like seeing sauce resting boat definitely come try place sample items menu probably regular stop wings anytime soon   \n",
              "\n",
              "   votes.cool             business_id  votes.funny  stars        date    type  \\\n",
              "0           0  5UmKMjUEUNdYWqANhGckJw            0      4  2012-08-01  review   \n",
              "1           0  5UmKMjUEUNdYWqANhGckJw            0      5  2014-02-13  review   \n",
              "2           0  5UmKMjUEUNdYWqANhGckJw            0      5  2015-10-31  review   \n",
              "3           0  UsFtqoBl7naz8AVUBZMjQQ            0      5  2013-11-08  review   \n",
              "4           0  UsFtqoBl7naz8AVUBZMjQQ            0      3  2014-03-29  review   \n",
              "\n",
              "   votes.useful  \n",
              "0             0  \n",
              "1             0  \n",
              "2             0  \n",
              "3             0  \n",
              "4             0  "
            ]
          },
          "execution_count": 40,
          "metadata": {},
          "output_type": "execute_result"
        }
      ],
      "source": [
        "df.head()"
      ]
    },
    {
      "cell_type": "markdown",
      "metadata": {},
      "source": [
        "1) Cuántas ORACIONES hay asociadas a cada sentimiento (POS, NEG, NEU) ?"
      ]
    },
    {
      "cell_type": "code",
      "execution_count": null,
      "metadata": {},
      "outputs": [],
      "source": [
        "df.groupby(\"SENTIMENT\").agg({\"SENTENCES\": \"sum\"})"
      ]
    },
    {
      "cell_type": "markdown",
      "metadata": {},
      "source": [
        "2) Cuáles son los 10 sustantivos más negativos? Y los más positivos? (Noun)"
      ]
    },
    {
      "cell_type": "code",
      "execution_count": null,
      "metadata": {},
      "outputs": [],
      "source": [
        "noun_sentiments = df.explode(\"NOUNS\").groupby([\"NOUNS\", \"SENTIMENT\"], as_index=False).agg({\"TWEET\": \"count\"})\n",
        "noun_sentiments.head()"
      ]
    },
    {
      "cell_type": "code",
      "execution_count": null,
      "metadata": {},
      "outputs": [],
      "source": [
        "noun_sentiments[noun_sentiments.SENTIMENT == \"NEG\"].sort_values(by=\"TWEET\", ascending=False).head(10)"
      ]
    },
    {
      "cell_type": "code",
      "execution_count": null,
      "metadata": {},
      "outputs": [
        {
          "name": "stdout",
          "output_type": "stream",
          "text": [
            "6705    server said chicken parm sub white meat breade...\n",
            "Name: text, dtype: object\n"
          ]
        }
      ],
      "source": [
        "noun_sentiments[noun_sentiments.SENTIMENT == \"POS\"].sort_values(by=\"TWEET\", ascending=False).head(10)"
      ]
    },
    {
      "cell_type": "markdown",
      "metadata": {},
      "source": [
        "# KeyBERT\n",
        "\n",
        "Ahora vamos a analizar las keywords."
      ]
    },
    {
      "cell_type": "code",
      "execution_count": null,
      "metadata": {},
      "outputs": [],
      "source": [
        "from keybert import KeyBERT\n",
        "\n",
        "kw_model = KeyBERT()"
      ]
    },
    {
      "cell_type": "markdown",
      "metadata": {},
      "source": [
        "- Top n: Cantidad de keywords por review\n",
        "- keyphrase_ngram_range: Cantidad de palabras por keyword (keyphrase)"
      ]
    },
    {
      "cell_type": "code",
      "execution_count": null,
      "metadata": {},
      "outputs": [],
      "source": [
        "df[\"KEYWORDS\"] = df['text_clean'].apply(lambda x: kw_model.extract_keywords(x, top_n=3, keyphrase_ngram_range=(1,1)))"
      ]
    },
    {
      "cell_type": "code",
      "execution_count": null,
      "metadata": {},
      "outputs": [],
      "source": [
        "df.head()"
      ]
    },
    {
      "cell_type": "markdown",
      "metadata": {},
      "source": [
        "Podemos ver que además de la keyword, nos trae un score para cada keyword.\n",
        "\n",
        "Vamos a eliminar el score y quedarnos únicamente con las kw:"
      ]
    },
    {
      "cell_type": "code",
      "execution_count": null,
      "metadata": {},
      "outputs": [],
      "source": [
        "df[\"KEYWORDS\"] = df.KEYWORDS.apply(lambda keywords: [k[0] for k in keywords])"
      ]
    },
    {
      "cell_type": "code",
      "execution_count": null,
      "metadata": {},
      "outputs": [],
      "source": [
        "df.head()"
      ]
    },
    {
      "cell_type": "markdown",
      "metadata": {},
      "source": [
        "Ahora podemos ver la popularidad de las keywords:"
      ]
    },
    {
      "cell_type": "code",
      "execution_count": null,
      "metadata": {},
      "outputs": [],
      "source": [
        "import matplotlib.pyplot as plt\n",
        "import seaborn as sns\n",
        "\n",
        "plt.figure(figsize=(20,6))\n",
        "sns.countplot(x=df.explode(\"KEYWORDS\").KEYWORDS, \n",
        "              order=df.explode(\"KEYWORDS\").KEYWORDS.value_counts().index[:30],\n",
        "              palette='Reds_r')\n",
        "plt.title(\"KEYWORDS popularity - TOP 30\")\n",
        "plt.xticks(rotation=45)\n",
        "plt.show()"
      ]
    },
    {
      "cell_type": "markdown",
      "metadata": {},
      "source": [
        "# BERTopic\n",
        "\n",
        "Ahora utilizaremos BERTopic para extraer tópicos."
      ]
    },
    {
      "cell_type": "code",
      "execution_count": null,
      "metadata": {},
      "outputs": [],
      "source": [
        "from bertopic import BERTopic"
      ]
    },
    {
      "cell_type": "code",
      "execution_count": null,
      "metadata": {},
      "outputs": [],
      "source": [
        "topic_model = BERTopic(calculate_probabilities=True, verbose=True)\n",
        "topics, probs = topic_model.fit_transform(df[\"text_clean\"].values)"
      ]
    },
    {
      "cell_type": "code",
      "execution_count": null,
      "metadata": {},
      "outputs": [],
      "source": [
        "topics_data = topic_model.get_topic_info()\n",
        "topics_data"
      ]
    },
    {
      "cell_type": "markdown",
      "metadata": {},
      "source": [
        "El topico -1 corresponde a outliers."
      ]
    },
    {
      "cell_type": "code",
      "execution_count": null,
      "metadata": {},
      "outputs": [],
      "source": [
        "df[\"TOPIC_ID\"] = topics\n",
        "df = df.merge(topics_data, left_on=\"TOPIC_ID\", right_on=\"Topic\", how=\"left\")\n",
        "df = df.rename(columns={\"Name\": \"TOPIC_NAME\", \"Count\": \"TOPIC_POPULARITY\"})\n",
        "df = df.drop([\"Topic\"], axis=1)\n",
        "df.head(3)"
      ]
    },
    {
      "cell_type": "code",
      "execution_count": null,
      "metadata": {},
      "outputs": [],
      "source": [
        "topic_model.visualize_topics()"
      ]
    }
  ],
  "metadata": {
    "colab": {
      "name": "Segunda entrega - NLP.ipynb",
      "provenance": []
    },
    "kernelspec": {
      "display_name": "Python 3.9.12 ('base')",
      "language": "python",
      "name": "python3"
    },
    "language_info": {
      "codemirror_mode": {
        "name": "ipython",
        "version": 3
      },
      "file_extension": ".py",
      "mimetype": "text/x-python",
      "name": "python",
      "nbconvert_exporter": "python",
      "pygments_lexer": "ipython3",
      "version": "3.9.12"
    },
    "vscode": {
      "interpreter": {
        "hash": "52d90d3cc821dd0beedd6e719dbdecc722c226b9d90ed1b663c34e1877f1142e"
      }
    }
  },
  "nbformat": 4,
  "nbformat_minor": 0
}
